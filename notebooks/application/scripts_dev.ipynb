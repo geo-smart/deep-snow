{
 "cells": [
  {
   "cell_type": "code",
   "execution_count": 9,
   "id": "86bb4871-2c6c-4174-a032-7aa1b02e4cc4",
   "metadata": {},
   "outputs": [],
   "source": [
    "import geopandas as gpd\n",
    "import shapely.geometry\n",
    "import math\n",
    "import matplotlib"
   ]
  },
  {
   "cell_type": "code",
   "execution_count": 15,
   "id": "43bf01ed-2262-4f6a-ae7a-b1f92f3cad4a",
   "metadata": {},
   "outputs": [],
   "source": [
    "def create_tiles(min_lat, max_lat, min_lon, max_lon, tile_size=1, padding=0.05):\n",
    "    \"\"\"\n",
    "    Create a GeoDataFrame of 1x1 degree tiles over the area of interest,\n",
    "    with a 0.05 degree overlap on the top and bottom edges.\n",
    "    \n",
    "    Parameters:\n",
    "        min_lat (float): Minimum latitude of the area of interest.\n",
    "        max_lat (float): Maximum latitude of the area of interest.\n",
    "        min_lon (float): Minimum longitude of the area of interest.\n",
    "        max_lon (float): Maximum longitude of the area of interest.\n",
    "    \n",
    "    Returns:\n",
    "        gpd.GeoDataFrame: GeoDataFrame containing the tile polygons.\n",
    "    \"\"\"\n",
    "    tiles = []\n",
    "    for i in range(math.ceil((max_lon - min_lon)/(tile_size - 2*padding))):\n",
    "        for j in range(math.ceil((max_lat - min_lat)/(tile_size - 2*padding))):\n",
    "            ymin = min_lat + j*(tile_size-2*padding)\n",
    "            ymax = ymin + tile_size\n",
    "            xmin = min_lon + i*(tile_size-2*padding)\n",
    "            xmax = xmin + tile_size\n",
    "            tile = shapely.geometry.Polygon([\n",
    "                (xmin, ymin),\n",
    "                (xmax, ymin),\n",
    "                (xmax, ymax),\n",
    "                (xmin, ymax),\n",
    "                (xmin, ymin)\n",
    "            ])\n",
    "            tiles.append(tile)\n",
    "    \n",
    "    return gpd.GeoDataFrame(geometry=tiles, crs=\"EPSG:4326\")"
   ]
  },
  {
   "cell_type": "code",
   "execution_count": null,
   "id": "9ea538d8-8257-4d86-83e8-f615a016c1d0",
   "metadata": {},
   "outputs": [],
   "source": [
    "def check_tiles(tiles_gdf, land_path):\n",
    "    \"\"\"\n",
    "    Filters tiles to retain only those that overlap with land areas.\n",
    "\n",
    "    Parameters:\n",
    "        tiles_gdf (gpd.GeoDataFrame): A GeoDataFrame containing the tile polygons.\n",
    "        land_path (str): File path to the Natural Earth land polygons dataset (https://www.naturalearthdata.com/downloads/50m-physical-vectors/50m-land/)\n",
    "\n",
    "    Returns:\n",
    "        gpd.GeoDataFrame: A GeoDataFrame containing only the tiles that intersect land.\n",
    "    \"\"\"\n",
    "    land_gdf = gpd.read_file(land_path)\n",
    "    land_merged = land_gdf.dissolve().geometry.unary_union\n",
    "    filtered_tiles = tiles_gdf[tiles_gdf.intersects(land_merged)]\n",
    "    if filtered_tiles.empty:\n",
    "        raise ValueError(\"No tiles overlap with the land polygons.\")\n",
    "    \n",
    "    return filtered_tiles\n"
   ]
  },
  {
   "cell_type": "code",
   "execution_count": 3,
   "id": "f7a9c7d2-ccb5-44b8-93f5-09a2a55b8c59",
   "metadata": {},
   "outputs": [],
   "source": [
    "min_lat = 23.5\n",
    "max_lat = 35\n",
    "min_lon = -110\n",
    "max_lon = -103.2"
   ]
  },
  {
   "cell_type": "code",
   "execution_count": 33,
   "id": "439b6c3a-2e51-4443-8007-421ca7c8b79e",
   "metadata": {},
   "outputs": [
    {
     "data": {
      "text/plain": [
       "False"
      ]
     },
     "execution_count": 33,
     "metadata": {},
     "output_type": "execute_result"
    }
   ],
   "source": [
    "filtered_tiles.empty"
   ]
  },
  {
   "cell_type": "code",
   "execution_count": 17,
   "id": "70f854d5-6bdb-4a85-8263-9718798dedf1",
   "metadata": {},
   "outputs": [],
   "source": [
    "gdf = create_tiles(min_lat, max_lat, min_lon, max_lon)"
   ]
  },
  {
   "cell_type": "code",
   "execution_count": 43,
   "id": "41c3bfce-0331-4e4d-8aea-66c737c5c869",
   "metadata": {},
   "outputs": [],
   "source": [
    "for i, tile in filtered_tiles.iterrows():\n",
    "    minx, miny, maxx, maxy = tile.geometry.bounds"
   ]
  },
  {
   "cell_type": "code",
   "execution_count": null,
   "id": "8ddfb247-10d5-46da-bfec-a21f0c7139fb",
   "metadata": {},
   "outputs": [],
   "source": [
    "def main():\n",
    "    parser = get_parser()\n",
    "    args = parser.parse_args()\n",
    "\n",
    "    # create tiles geodataframe\n",
    "    tiles_gdf = create_tiles(args.aoi.minlat, args.aoi.maxlat, args.aoi.minlon, args.aoi.maxlon)\n",
    "    land_path = '../data/polygons/ne_50m_land.shp'\n",
    "    tiles_gdf = check_tiles(tiled_gdf, land_path)\n",
    "\n",
    "    # set up matrix job\n",
    "    tiles = []\n",
    "    for i, tile in tiles_gdf.iterrows():\n",
    "        minlon, minlat, maxlon, maxlat = tile.geometry.bounds\n",
    "        shortname = f'{args.target_date}_{minlon:.{2}f}_{minlat:.{2}f}_{maxlon:.{2}f}_{maxlat:.{2}f}'\n",
    "        tiles.append({'tile_date':args.target_date, 'minlon':minlon, 'minlat':minlat, 'maxlon':maxlon, 'maxlat':matlat, 'name':shortname})\n",
    "    matrixJSON = f'{{\"include\":{json.dumps(tiles)}}}'\n",
    "    print(f'number of tiles: {len(tiles)}')\n",
    "    with open(os.environ['GITHUB_OUTPUT'], 'a') as f:\n",
    "        print(f'MATRIX_PARAMS_COMBINATIONS={matrixJSON}', file=f)"
   ]
  },
  {
   "cell_type": "code",
   "execution_count": null,
   "id": "24bd149d-e509-48ca-9b4b-c2363bf8c7af",
   "metadata": {},
   "outputs": [],
   "source": [
    "product_names = first_image_indices['s2:product_uri'].values.tolist()\n",
    "print('\\n'.join(product_names))\n",
    "\n",
    "# Create Matrix Job Mapping (JSON Array)\n",
    "pairs = []\n",
    "for r in range(len(product_names) - int(args.npairs)):\n",
    "    for s in range(1, int(args.npairs) + 1 ):\n",
    "        img1_product_name = product_names[r]\n",
    "        img2_product_name = product_names[r+s]\n",
    "        shortname = f'{img1_product_name[11:19]}_{img2_product_name[11:19]}'\n",
    "        pairs.append({'img1_product_name': img1_product_name, 'img2_product_name': img2_product_name, 'name':shortname})\n",
    "matrixJSON = f'{{\"include\":{json.dumps(pairs)}}}'\n",
    "print(f'number of image pairs: {len(pairs)}')\n",
    "\n",
    "with open(os.environ['GITHUB_OUTPUT'], 'a') as f:\n",
    "    print(f'IMAGE_DATES={product_names}', file=f)\n",
    "    print(f'MATRIX_PARAMS_COMBINATIONS={matrixJSON}', file=f)"
   ]
  },
  {
   "cell_type": "code",
   "execution_count": null,
   "id": "13825878-dbd5-4c58-ad81-69e4198af862",
   "metadata": {},
   "outputs": [],
   "source": []
  },
  {
   "cell_type": "code",
   "execution_count": null,
   "id": "c4bab28e-a034-4a65-a303-b62349fa5f76",
   "metadata": {},
   "outputs": [],
   "source": []
  }
 ],
 "metadata": {
  "kernelspec": {
   "display_name": "Python [conda env:deep-snow] *",
   "language": "python",
   "name": "conda-env-deep-snow-py"
  },
  "language_info": {
   "codemirror_mode": {
    "name": "ipython",
    "version": 3
   },
   "file_extension": ".py",
   "mimetype": "text/x-python",
   "name": "python",
   "nbconvert_exporter": "python",
   "pygments_lexer": "ipython3",
   "version": "3.11.6"
  }
 },
 "nbformat": 4,
 "nbformat_minor": 5
}

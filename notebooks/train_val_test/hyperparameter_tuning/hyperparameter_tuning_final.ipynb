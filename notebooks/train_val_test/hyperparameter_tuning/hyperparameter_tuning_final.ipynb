{
 "cells": [
  {
   "cell_type": "code",
   "execution_count": 1,
   "id": "ce8b6311-386c-44e8-b59f-be171ef2de65",
   "metadata": {},
   "outputs": [],
   "source": [
    "from torch.utils.data import DataLoader\n",
    "import numpy as np\n",
    "import matplotlib.pyplot as plt\n",
    "import torch\n",
    "from glob import glob\n",
    "import seaborn as sns\n",
    "import torch.nn as nn\n",
    "import torch.optim as optim\n",
    "import torch.nn.functional as F\n",
    "from tqdm import tqdm\n",
    "import pickle\n",
    "import random\n",
    "import time\n",
    "\n",
    "import deep_snow.models\n",
    "import deep_snow.dataset"
   ]
  },
  {
   "cell_type": "code",
   "execution_count": 2,
   "id": "ae392541-49b6-44e4-876a-8cb2ac6c651d",
   "metadata": {},
   "outputs": [],
   "source": [
    "# def set_seed(seed: int = 43):\n",
    "#     random.seed(seed)\n",
    "#     np.random.seed(seed)\n",
    "#     torch.manual_seed(seed)\n",
    "#     torch.cuda.manual_seed(seed)\n",
    "#     torch.backends.cudnn.deterministic = True\n",
    "#     torch.backends.cudnn.benchmark = False\n",
    "\n",
    "#     set_seed()"
   ]
  },
  {
   "cell_type": "code",
   "execution_count": 3,
   "id": "2273904e-09b0-4d19-ac10-ce094a3246e2",
   "metadata": {},
   "outputs": [],
   "source": [
    "def sample_lognormal(center, sigma):\n",
    "    mu = np.log(center)\n",
    "    return np.random.lognormal(mean=mu, sigma=sigma)\n",
    "\n",
    "# def visualize_lognormal(center, sigmas, n_samples=10000):\n",
    "#     f, ax = plt.subplots(figsize=(10, 6))\n",
    "#     for sigma in sigmas:\n",
    "#         mu = np.log(center)\n",
    "#         samples = np.random.lognormal(mean=mu, sigma=sigma, size=n_samples)\n",
    "#         sns.kdeplot(samples, label=f'sigma={sigma}', ax=ax)\n",
    "#     ax.set_xlabel('Sampled Value')\n",
    "#     ax.set_ylabel('Density')\n",
    "#     ax.set_title(f'Lognormal Samples Centered on {center}')\n",
    "#     f.legend()\n",
    "#     ax.grid(True, which='both', linestyle='--')\n",
    "#     ax.set_xlim(0, 0.0005)\n",
    "#     ax.set_ylim(0)\n",
    "\n",
    "# # Example usage\n",
    "# visualize_lognormal(center=1e-4, sigmas=[1.0])"
   ]
  },
  {
   "cell_type": "code",
   "execution_count": 4,
   "id": "6ebfb9b4-182e-4b0b-ad88-5c73f6572634",
   "metadata": {},
   "outputs": [],
   "source": [
    "# get paths to data\n",
    "train_data_dir = '/mnt/working/brencher/repos/deep-snow/data/subsets_v4/train'\n",
    "train_path_list = glob(f'{train_data_dir}/ASO_50M_SD*.nc')\n",
    "\n",
    "val_data_dir = '/mnt/working/brencher/repos/deep-snow/data/subsets_v4/val'\n",
    "val_path_list = glob(f'{val_data_dir}/ASO_50M_SD*.nc')\n",
    "\n",
    "#consolidate for final run\n",
    "train_path_list = train_path_list + val_path_list\n",
    "\n",
    "test_data_dir = '/mnt/working/brencher/repos/deep-snow/data/subsets_v4/test'\n",
    "test_path_list = glob(f'{test_data_dir}/ASO_50M_SD*.nc')"
   ]
  },
  {
   "cell_type": "code",
   "execution_count": 5,
   "id": "2d359e81-aa1a-4b3b-b496-2e1e77c029f3",
   "metadata": {},
   "outputs": [],
   "source": [
    "def train_model(input_channels, return_channels, epochs, lr, weight_decay, n_layers=5):\n",
    "    model = deep_snow.models.ResDepth(n_input_channels=len(input_channels), depth=n_layers)\n",
    "    model_name = f'ResDepth_lr{lr}_weightdecay{weight_decay}'\n",
    "    model.to('cuda');  # Run on GPU\n",
    "    # Define optimizer and loss function\n",
    "    optimizer = optim.AdamW(model.parameters(), lr=lr, weight_decay=weight_decay)\n",
    "    scheduler = optim.lr_scheduler.ReduceLROnPlateau(optimizer, mode='min', factor=0.5, patience=10, threshold=0.00001)\n",
    "    loss_fn = nn.MSELoss()\n",
    "    epochs = epochs\n",
    "    \n",
    "    train_loss = []\n",
    "    test_loss = []\n",
    "    counter = 0\n",
    "    min_test_loss = 1\n",
    "    patience = 0\n",
    "    patience_limit = 50\n",
    "\n",
    "    # training and validation loop\n",
    "    for epoch in range(epochs):\n",
    "        epoch_start_time = time.time()\n",
    "        print(f'\\nStarting epoch {epoch+1}')\n",
    "        train_epoch_loss = []\n",
    "        test_epoch_loss = []\n",
    "            \n",
    "        # Loop through training data with tqdm progress bar\n",
    "        pbar = tqdm(train_loader, desc=f\"Epoch {epoch+1}/{epochs}\", unit=\"batch\", ncols=130)\n",
    "        for data_tuple in pbar:\n",
    "            model.train()\n",
    "            optimizer.zero_grad()\n",
    "    \n",
    "            # read data into dictionary\n",
    "            data_dict = {name: tensor for name, tensor in zip(return_channels, data_tuple)}\n",
    "            # prepare inputs by concatenating along channel dimension\n",
    "            inputs = torch.cat([data_dict[channel] for channel in input_channels], dim=1).to('cuda')\n",
    "    \n",
    "            # generate prediction\n",
    "            pred_sd = model(inputs)\n",
    "    \n",
    "            # Limit prediction to areas with valid data\n",
    "            pred_sd = torch.where(data_dict['aso_gap_map'].to('cuda') + data_dict['rtc_gap_map'].to('cuda') + data_dict['s2_gap_map'].to('cuda') == 0, pred_sd, torch.zeros_like(pred_sd).to('cuda'))\n",
    "            aso_sd = torch.where(data_dict['aso_gap_map'].to('cuda') + data_dict['rtc_gap_map'].to('cuda') + data_dict['s2_gap_map'].to('cuda') == 0, data_dict['aso_sd'].to('cuda'), torch.zeros_like(pred_sd).to('cuda'))\n",
    "    \n",
    "            # Calculate loss\n",
    "            train_batch_loss = loss_fn(pred_sd, aso_sd.to('cuda'))\n",
    "            train_epoch_loss.append(train_batch_loss.item())\n",
    "    \n",
    "            # Update tqdm progress bar with batch loss\n",
    "            pbar.set_postfix({'batch loss': train_batch_loss.item(), 'mean epoch loss': np.mean(train_epoch_loss)})\n",
    "    \n",
    "            train_batch_loss.backward()  # Propagate the gradients in backward pass\n",
    "            optimizer.step()\n",
    "    \n",
    "        train_loss.append(np.mean(train_epoch_loss))\n",
    "        print(f'Training loss: {np.mean(train_epoch_loss)}')\n",
    "    \n",
    "        # Run model on validation data with tqdm progress bar\n",
    "        for data_tuple in tqdm(test_loader, desc=\"Testing\", unit=\"batch\"):\n",
    "            with torch.no_grad():\n",
    "                model.eval()\n",
    "                \n",
    "                # read data into dictionary\n",
    "                data_dict = {name: tensor for name, tensor in zip(return_channels, data_tuple)}\n",
    "                # prepare inputs by concatenating along channel dimension\n",
    "                inputs = torch.cat([data_dict[channel] for channel in input_channels], dim=1).to('cuda')\n",
    "        \n",
    "                # generate prediction\n",
    "                pred_sd = model(inputs)\n",
    "        \n",
    "                # Limit prediction to areas with valid data\n",
    "                pred_sd = torch.where(data_dict['aso_gap_map'].to('cuda') + data_dict['rtc_gap_map'].to('cuda') + data_dict['s2_gap_map'].to('cuda') == 0, pred_sd, torch.zeros_like(pred_sd).to('cuda'))\n",
    "                aso_sd = torch.where(data_dict['aso_gap_map'].to('cuda') + data_dict['rtc_gap_map'].to('cuda') + data_dict['s2_gap_map'].to('cuda') == 0, data_dict['aso_sd'].to('cuda'), torch.zeros_like(pred_sd).to('cuda'))\n",
    "        \n",
    "                # Calculate loss\n",
    "                test_batch_loss = loss_fn(pred_sd, aso_sd.to('cuda'))\n",
    "                test_epoch_loss.append(test_batch_loss.item())\n",
    "    \n",
    "        test_loss.append(np.mean(test_epoch_loss))\n",
    "        print(f'Test loss: {np.mean(test_epoch_loss)}')\n",
    "        scheduler.step(np.mean(test_epoch_loss))\n",
    "\n",
    "        # save loss \n",
    "        with open(f'../../../loss/{model_name}_test_loss.pkl', 'wb') as f:\n",
    "            pickle.dump(test_loss, f)\n",
    "            \n",
    "        with open(f'../../../loss/{model_name}_train_loss.pkl', 'wb') as f:\n",
    "            pickle.dump(train_loss, f)\n",
    "        \n",
    "        # Early stopping check (start saving after 30 epochs)\n",
    "        if np.mean(test_epoch_loss) < min_test_loss:\n",
    "            min_test_loss = np.mean(test_epoch_loss)\n",
    "            min_test_loss_epoch = epoch\n",
    "            patience = 0\n",
    "            if epoch > 30:\n",
    "                torch.save(model.state_dict(), f'../../../weights/{model_name}_epochs{epoch}_mintestloss{min_test_loss:.5f}')\n",
    "        else:\n",
    "            patience += 1\n",
    "\n",
    "        if patience >= patience_limit:\n",
    "            print(f\"\\nEarly stopping at epoch {epoch + 1}. No improvement in test loss for {patience_limit} epochs.\")\n",
    "            break\n",
    "\n",
    "        epoch_end_time = time.time()\n",
    "        print(f'epoch time: {epoch_end_time - epoch_start_time:.4f} seconds')\n",
    "\n",
    "    #plot_loss(train_loss, val_loss)\n",
    "    return [min_test_loss_epoch, min_test_loss]"
   ]
  },
  {
   "cell_type": "code",
   "execution_count": 6,
   "id": "b1e7003d-0227-472d-8f2d-25c83677c155",
   "metadata": {},
   "outputs": [],
   "source": [
    "# define data to be returned by dataloader\n",
    "return_channels = [\n",
    "    # ASO products\n",
    "    'aso_sd', # ASO lidar snow depth (target dataset)\n",
    "    'aso_gap_map', # gaps in ASO data\n",
    "    \n",
    "    'delta_cr', # change in cross ratio, snowon_cr - snowoff_cr\n",
    "    'rtc_gap_map', # gaps in Sentinel-1 data\n",
    "   \n",
    "    # Sentinel-2 products \n",
    "    'blue', # snow on Sentinel-2 blue band\n",
    "    'swir1', # snow on Sentinel-2 shortwave infrared band 1\n",
    "    'ndsi', # Normalized Difference Snow Index from Sentinel-2\n",
    "    's2_gap_map', # gaps in Sentinel-2 data\n",
    "\n",
    "    # snodas datset\n",
    "    'snodas_sd', # snow depth\n",
    "\n",
    "    # PROBA-V global land cover dataset (Buchhorn et al., 2020)\n",
    "    'fcf', # fractional forest cover\n",
    "    \n",
    "    # COP30 digital elevation model      \n",
    "    'elevation',\n",
    "    'slope',\n",
    "    'northness',\n",
    "    'curvature',\n",
    "\n",
    "    # day of water year\n",
    "    'dowy'\n",
    "                    ]\n",
    "\n",
    "# prepare training and validation dataloaders\n",
    "train_data = deep_snow.dataset.Datasetv2(train_path_list, return_channels, norm=True, cache_data=True)\n",
    "train_loader = torch.utils.data.DataLoader(dataset=train_data, batch_size=16, shuffle=True)\n",
    "test_data = deep_snow.dataset.Datasetv2(test_path_list, return_channels, norm=True, augment=False, cache_data=True)\n",
    "test_loader = torch.utils.data.DataLoader(dataset=test_data, batch_size=16, shuffle=True)"
   ]
  },
  {
   "cell_type": "code",
   "execution_count": 7,
   "id": "d0e3566d-65a3-4055-b215-3e8ab17fab2d",
   "metadata": {},
   "outputs": [],
   "source": [
    "# define input channels for model\n",
    "input_channels = ['snodas_sd',\n",
    "                  'blue',\n",
    "                  'swir1',\n",
    "                  'ndsi',\n",
    "                  'elevation',\n",
    "                  'northness',\n",
    "                  'slope',\n",
    "                  'curvature',\n",
    "                  'dowy',\n",
    "                  'delta_cr',\n",
    "                  'fcf'\n",
    "                 ]"
   ]
  },
  {
   "cell_type": "code",
   "execution_count": null,
   "id": "10c41200-9aa1-40f1-a91a-7f16cc838ad5",
   "metadata": {
    "scrolled": true
   },
   "outputs": [
    {
     "name": "stdout",
     "output_type": "stream",
     "text": [
      "---------------------------------------------------------\n",
      "starting trial 0\n",
      "lr: 8.769533075169251e-05, weight decay: 2.7559395538018623e-05\n",
      "\n",
      "Starting epoch 1\n"
     ]
    },
    {
     "name": "stderr",
     "output_type": "stream",
     "text": [
      "Epoch 1/500: 100%|██████████████████████████████| 909/909 [29:52<00:00,  1.97s/batch, batch loss=0.00149, mean epoch loss=0.00222]\n"
     ]
    },
    {
     "name": "stdout",
     "output_type": "stream",
     "text": [
      "Training loss: 0.002221425731951469\n"
     ]
    },
    {
     "name": "stderr",
     "output_type": "stream",
     "text": [
      "Testing: 100%|███████████████████████████████████████████████████████████████████████| 95/95 [03:47<00:00,  2.39s/batch]\n"
     ]
    },
    {
     "name": "stdout",
     "output_type": "stream",
     "text": [
      "Test loss: 0.0015934013449096758\n",
      "epoch time: 2020.1181 seconds\n",
      "\n",
      "Starting epoch 2\n"
     ]
    },
    {
     "name": "stderr",
     "output_type": "stream",
     "text": [
      "Epoch 2/500: 100%|██████████████████████████████| 909/909 [00:50<00:00, 17.96batch/s, batch loss=0.00122, mean epoch loss=0.00157]\n"
     ]
    },
    {
     "name": "stdout",
     "output_type": "stream",
     "text": [
      "Training loss: 0.001571285996752703\n"
     ]
    },
    {
     "name": "stderr",
     "output_type": "stream",
     "text": [
      "Testing: 100%|███████████████████████████████████████████████████████████████████████| 95/95 [00:00<00:00, 99.14batch/s]\n"
     ]
    },
    {
     "name": "stdout",
     "output_type": "stream",
     "text": [
      "Test loss: 0.0014334477710929749\n",
      "epoch time: 51.5774 seconds\n",
      "\n",
      "Starting epoch 3\n"
     ]
    },
    {
     "name": "stderr",
     "output_type": "stream",
     "text": [
      "Epoch 3/500: 100%|█████████████████████████████| 909/909 [00:50<00:00, 17.88batch/s, batch loss=0.000516, mean epoch loss=0.00146]\n"
     ]
    },
    {
     "name": "stdout",
     "output_type": "stream",
     "text": [
      "Training loss: 0.0014628771210428199\n"
     ]
    },
    {
     "name": "stderr",
     "output_type": "stream",
     "text": [
      "Testing: 100%|██████████████████████████████████████████████████████████████████████| 95/95 [00:00<00:00, 100.04batch/s]\n"
     ]
    },
    {
     "name": "stdout",
     "output_type": "stream",
     "text": [
      "Test loss: 0.001602139994869695\n",
      "epoch time: 51.7872 seconds\n",
      "\n",
      "Starting epoch 4\n"
     ]
    },
    {
     "name": "stderr",
     "output_type": "stream",
     "text": [
      "Epoch 4/500: 100%|█████████████████████████████| 909/909 [00:50<00:00, 17.87batch/s, batch loss=0.000576, mean epoch loss=0.00139]\n"
     ]
    },
    {
     "name": "stdout",
     "output_type": "stream",
     "text": [
      "Training loss: 0.001391166148068075\n"
     ]
    },
    {
     "name": "stderr",
     "output_type": "stream",
     "text": [
      "Testing: 100%|███████████████████████████████████████████████████████████████████████| 95/95 [00:00<00:00, 98.83batch/s]\n"
     ]
    },
    {
     "name": "stdout",
     "output_type": "stream",
     "text": [
      "Test loss: 0.0013659887170529386\n",
      "epoch time: 51.8199 seconds\n",
      "\n",
      "Starting epoch 5\n"
     ]
    },
    {
     "name": "stderr",
     "output_type": "stream",
     "text": [
      "Epoch 5/500: 100%|█████████████████████████████| 909/909 [00:50<00:00, 17.83batch/s, batch loss=0.000266, mean epoch loss=0.00136]\n"
     ]
    },
    {
     "name": "stdout",
     "output_type": "stream",
     "text": [
      "Training loss: 0.0013562740341642907\n"
     ]
    },
    {
     "name": "stderr",
     "output_type": "stream",
     "text": [
      "Testing: 100%|███████████████████████████████████████████████████████████████████████| 95/95 [00:00<00:00, 99.83batch/s]\n"
     ]
    },
    {
     "name": "stdout",
     "output_type": "stream",
     "text": [
      "Test loss: 0.0013303676188163656\n",
      "epoch time: 51.9420 seconds\n",
      "\n",
      "Starting epoch 6\n"
     ]
    },
    {
     "name": "stderr",
     "output_type": "stream",
     "text": [
      "Epoch 6/500: 100%|█████████████████████████████| 909/909 [00:50<00:00, 17.94batch/s, batch loss=0.000984, mean epoch loss=0.00131]\n"
     ]
    },
    {
     "name": "stdout",
     "output_type": "stream",
     "text": [
      "Training loss: 0.0013059083271435615\n"
     ]
    },
    {
     "name": "stderr",
     "output_type": "stream",
     "text": [
      "Testing: 100%|███████████████████████████████████████████████████████████████████████| 95/95 [00:00<00:00, 97.53batch/s]\n"
     ]
    },
    {
     "name": "stdout",
     "output_type": "stream",
     "text": [
      "Test loss: 0.0013578900393392695\n",
      "epoch time: 51.6329 seconds\n",
      "\n",
      "Starting epoch 7\n"
     ]
    },
    {
     "name": "stderr",
     "output_type": "stream",
     "text": [
      "Epoch 7/500: 100%|██████████████████████████████| 909/909 [00:49<00:00, 18.53batch/s, batch loss=0.00287, mean epoch loss=0.00127]\n"
     ]
    },
    {
     "name": "stdout",
     "output_type": "stream",
     "text": [
      "Training loss: 0.0012666860032351267\n"
     ]
    },
    {
     "name": "stderr",
     "output_type": "stream",
     "text": [
      "Testing: 100%|███████████████████████████████████████████████████████████████████████| 95/95 [00:00<00:00, 97.51batch/s]\n"
     ]
    },
    {
     "name": "stdout",
     "output_type": "stream",
     "text": [
      "Test loss: 0.0013154898868187478\n",
      "epoch time: 50.0380 seconds\n",
      "\n",
      "Starting epoch 8\n"
     ]
    },
    {
     "name": "stderr",
     "output_type": "stream",
     "text": [
      "Epoch 8/500: 100%|█████████████████████████████| 909/909 [00:49<00:00, 18.25batch/s, batch loss=0.000688, mean epoch loss=0.00124]\n"
     ]
    },
    {
     "name": "stdout",
     "output_type": "stream",
     "text": [
      "Training loss: 0.0012388380310298134\n"
     ]
    },
    {
     "name": "stderr",
     "output_type": "stream",
     "text": [
      "Testing: 100%|███████████████████████████████████████████████████████████████████████| 95/95 [00:00<00:00, 98.69batch/s]\n"
     ]
    },
    {
     "name": "stdout",
     "output_type": "stream",
     "text": [
      "Test loss: 0.0012840588693507015\n",
      "epoch time: 50.7684 seconds\n",
      "\n",
      "Starting epoch 9\n"
     ]
    },
    {
     "name": "stderr",
     "output_type": "stream",
     "text": [
      "Epoch 9/500: 100%|███████████████████████████████| 909/909 [00:51<00:00, 17.77batch/s, batch loss=0.00103, mean epoch loss=0.0012]\n"
     ]
    },
    {
     "name": "stdout",
     "output_type": "stream",
     "text": [
      "Training loss: 0.0011997024166373162\n"
     ]
    },
    {
     "name": "stderr",
     "output_type": "stream",
     "text": [
      "Testing: 100%|███████████████████████████████████████████████████████████████████████| 95/95 [00:00<00:00, 99.63batch/s]\n"
     ]
    },
    {
     "name": "stdout",
     "output_type": "stream",
     "text": [
      "Test loss: 0.001265654137578646\n",
      "epoch time: 52.1038 seconds\n",
      "\n",
      "Starting epoch 10\n"
     ]
    },
    {
     "name": "stderr",
     "output_type": "stream",
     "text": [
      "Epoch 10/500: 100%|████████████████████████████| 909/909 [00:51<00:00, 17.76batch/s, batch loss=0.000383, mean epoch loss=0.00118]\n"
     ]
    },
    {
     "name": "stdout",
     "output_type": "stream",
     "text": [
      "Training loss: 0.0011782889067953784\n"
     ]
    },
    {
     "name": "stderr",
     "output_type": "stream",
     "text": [
      "Testing: 100%|██████████████████████████████████████████████████████████████████████| 95/95 [00:00<00:00, 100.03batch/s]\n"
     ]
    },
    {
     "name": "stdout",
     "output_type": "stream",
     "text": [
      "Test loss: 0.0012021921774200898\n",
      "epoch time: 52.1478 seconds\n",
      "\n",
      "Starting epoch 11\n"
     ]
    },
    {
     "name": "stderr",
     "output_type": "stream",
     "text": [
      "Epoch 11/500: 100%|████████████████████████████| 909/909 [00:49<00:00, 18.24batch/s, batch loss=0.000822, mean epoch loss=0.00116]\n"
     ]
    },
    {
     "name": "stdout",
     "output_type": "stream",
     "text": [
      "Training loss: 0.0011574040755417713\n"
     ]
    },
    {
     "name": "stderr",
     "output_type": "stream",
     "text": [
      "Testing: 100%|███████████████████████████████████████████████████████████████████████| 95/95 [00:00<00:00, 99.98batch/s]\n"
     ]
    },
    {
     "name": "stdout",
     "output_type": "stream",
     "text": [
      "Test loss: 0.0012451320292281086\n",
      "epoch time: 50.7912 seconds\n",
      "\n",
      "Starting epoch 12\n"
     ]
    },
    {
     "name": "stderr",
     "output_type": "stream",
     "text": [
      "Epoch 12/500: 100%|█████████████████████████████| 909/909 [00:49<00:00, 18.23batch/s, batch loss=0.00258, mean epoch loss=0.00113]\n"
     ]
    },
    {
     "name": "stdout",
     "output_type": "stream",
     "text": [
      "Training loss: 0.0011285670884932663\n"
     ]
    },
    {
     "name": "stderr",
     "output_type": "stream",
     "text": [
      "Testing: 100%|███████████████████████████████████████████████████████████████████████| 95/95 [00:01<00:00, 92.02batch/s]\n"
     ]
    },
    {
     "name": "stdout",
     "output_type": "stream",
     "text": [
      "Test loss: 0.0012712741246152866\n",
      "epoch time: 50.9000 seconds\n",
      "\n",
      "Starting epoch 13\n"
     ]
    },
    {
     "name": "stderr",
     "output_type": "stream",
     "text": [
      "Epoch 13/500: 100%|████████████████████████████| 909/909 [00:49<00:00, 18.36batch/s, batch loss=0.000803, mean epoch loss=0.00111]\n"
     ]
    },
    {
     "name": "stdout",
     "output_type": "stream",
     "text": [
      "Training loss: 0.001113868517750514\n"
     ]
    },
    {
     "name": "stderr",
     "output_type": "stream",
     "text": [
      "Testing: 100%|███████████████████████████████████████████████████████████████████████| 95/95 [00:00<00:00, 95.78batch/s]\n"
     ]
    },
    {
     "name": "stdout",
     "output_type": "stream",
     "text": [
      "Test loss: 0.0012000192979987907\n",
      "epoch time: 50.5092 seconds\n",
      "\n",
      "Starting epoch 14\n"
     ]
    },
    {
     "name": "stderr",
     "output_type": "stream",
     "text": [
      "Epoch 14/500: 100%|██████████████████████████████| 909/909 [00:48<00:00, 18.67batch/s, batch loss=0.00125, mean epoch loss=0.0011]\n"
     ]
    },
    {
     "name": "stdout",
     "output_type": "stream",
     "text": [
      "Training loss: 0.001095169502156387\n"
     ]
    },
    {
     "name": "stderr",
     "output_type": "stream",
     "text": [
      "Testing: 100%|███████████████████████████████████████████████████████████████████████| 95/95 [00:01<00:00, 92.32batch/s]\n"
     ]
    },
    {
     "name": "stdout",
     "output_type": "stream",
     "text": [
      "Test loss: 0.0011243059765547515\n",
      "epoch time: 49.7130 seconds\n",
      "\n",
      "Starting epoch 15\n"
     ]
    },
    {
     "name": "stderr",
     "output_type": "stream",
     "text": [
      "Epoch 15/500: 100%|████████████████████████████| 909/909 [00:48<00:00, 18.65batch/s, batch loss=0.000842, mean epoch loss=0.00108]\n"
     ]
    },
    {
     "name": "stdout",
     "output_type": "stream",
     "text": [
      "Training loss: 0.0010810423818308611\n"
     ]
    },
    {
     "name": "stderr",
     "output_type": "stream",
     "text": [
      "Testing: 100%|███████████████████████████████████████████████████████████████████████| 95/95 [00:01<00:00, 92.34batch/s]\n"
     ]
    },
    {
     "name": "stdout",
     "output_type": "stream",
     "text": [
      "Test loss: 0.0011236745410745865\n",
      "epoch time: 49.7700 seconds\n",
      "\n",
      "Starting epoch 16\n"
     ]
    },
    {
     "name": "stderr",
     "output_type": "stream",
     "text": [
      "Epoch 16/500: 100%|████████████████████████████| 909/909 [00:49<00:00, 18.53batch/s, batch loss=0.000351, mean epoch loss=0.00106]\n"
     ]
    },
    {
     "name": "stdout",
     "output_type": "stream",
     "text": [
      "Training loss: 0.0010606897522859164\n"
     ]
    },
    {
     "name": "stderr",
     "output_type": "stream",
     "text": [
      "Testing: 100%|███████████████████████████████████████████████████████████████████████| 95/95 [00:00<00:00, 95.41batch/s]\n"
     ]
    },
    {
     "name": "stdout",
     "output_type": "stream",
     "text": [
      "Test loss: 0.0012750325016799922\n",
      "epoch time: 50.0506 seconds\n",
      "\n",
      "Starting epoch 17\n"
     ]
    },
    {
     "name": "stderr",
     "output_type": "stream",
     "text": [
      "Epoch 17/500: 100%|█████████████████████████████| 909/909 [00:48<00:00, 18.63batch/s, batch loss=0.00288, mean epoch loss=0.00105]\n"
     ]
    },
    {
     "name": "stdout",
     "output_type": "stream",
     "text": [
      "Training loss: 0.0010521292503771031\n"
     ]
    },
    {
     "name": "stderr",
     "output_type": "stream",
     "text": [
      "Testing: 100%|███████████████████████████████████████████████████████████████████████| 95/95 [00:01<00:00, 93.35batch/s]\n"
     ]
    },
    {
     "name": "stdout",
     "output_type": "stream",
     "text": [
      "Test loss: 0.0010788593177781685\n",
      "epoch time: 49.8240 seconds\n",
      "\n",
      "Starting epoch 18\n"
     ]
    },
    {
     "name": "stderr",
     "output_type": "stream",
     "text": [
      "Epoch 18/500: 100%|████████████████████████████| 909/909 [00:48<00:00, 18.58batch/s, batch loss=0.000384, mean epoch loss=0.00104]\n"
     ]
    },
    {
     "name": "stdout",
     "output_type": "stream",
     "text": [
      "Training loss: 0.0010365280188417484\n"
     ]
    },
    {
     "name": "stderr",
     "output_type": "stream",
     "text": [
      "Testing: 100%|███████████████████████████████████████████████████████████████████████| 95/95 [00:01<00:00, 93.92batch/s]\n"
     ]
    },
    {
     "name": "stdout",
     "output_type": "stream",
     "text": [
      "Test loss: 0.0010854650922977414\n",
      "epoch time: 49.9507 seconds\n",
      "\n",
      "Starting epoch 19\n"
     ]
    },
    {
     "name": "stderr",
     "output_type": "stream",
     "text": [
      "Epoch 19/500: 100%|█████████████████████████████| 909/909 [00:48<00:00, 18.65batch/s, batch loss=0.00061, mean epoch loss=0.00103]\n"
     ]
    },
    {
     "name": "stdout",
     "output_type": "stream",
     "text": [
      "Training loss: 0.0010277117830395086\n"
     ]
    },
    {
     "name": "stderr",
     "output_type": "stream",
     "text": [
      "Testing: 100%|███████████████████████████████████████████████████████████████████████| 95/95 [00:01<00:00, 93.45batch/s]\n"
     ]
    },
    {
     "name": "stdout",
     "output_type": "stream",
     "text": [
      "Test loss: 0.0010334743943531065\n",
      "epoch time: 49.7675 seconds\n",
      "\n",
      "Starting epoch 20\n"
     ]
    },
    {
     "name": "stderr",
     "output_type": "stream",
     "text": [
      "Epoch 20/500: 100%|█████████████████████████████| 909/909 [00:48<00:00, 18.71batch/s, batch loss=0.00062, mean epoch loss=0.00101]\n"
     ]
    },
    {
     "name": "stdout",
     "output_type": "stream",
     "text": [
      "Training loss: 0.001012456752997654\n"
     ]
    },
    {
     "name": "stderr",
     "output_type": "stream",
     "text": [
      "Testing: 100%|███████████████████████████████████████████████████████████████████████| 95/95 [00:00<00:00, 95.59batch/s]\n"
     ]
    },
    {
     "name": "stdout",
     "output_type": "stream",
     "text": [
      "Test loss: 0.001045126736311144\n",
      "epoch time: 49.5784 seconds\n",
      "\n",
      "Starting epoch 21\n"
     ]
    },
    {
     "name": "stderr",
     "output_type": "stream",
     "text": [
      "Epoch 21/500: 100%|██████████████████████████████| 909/909 [00:48<00:00, 18.65batch/s, batch loss=0.000577, mean epoch loss=0.001]\n"
     ]
    },
    {
     "name": "stdout",
     "output_type": "stream",
     "text": [
      "Training loss: 0.0010034329500053195\n"
     ]
    },
    {
     "name": "stderr",
     "output_type": "stream",
     "text": [
      "Testing: 100%|███████████████████████████████████████████████████████████████████████| 95/95 [00:01<00:00, 94.84batch/s]\n"
     ]
    },
    {
     "name": "stdout",
     "output_type": "stream",
     "text": [
      "Test loss: 0.001160586957427624\n",
      "epoch time: 49.7366 seconds\n",
      "\n",
      "Starting epoch 22\n"
     ]
    },
    {
     "name": "stderr",
     "output_type": "stream",
     "text": [
      "Epoch 22/500: 100%|████████████████████████████| 909/909 [00:48<00:00, 18.62batch/s, batch loss=0.00353, mean epoch loss=0.000994]\n"
     ]
    },
    {
     "name": "stdout",
     "output_type": "stream",
     "text": [
      "Training loss: 0.0009937117290661959\n"
     ]
    },
    {
     "name": "stderr",
     "output_type": "stream",
     "text": [
      "Testing: 100%|███████████████████████████████████████████████████████████████████████| 95/95 [00:00<00:00, 95.88batch/s]\n"
     ]
    },
    {
     "name": "stdout",
     "output_type": "stream",
     "text": [
      "Test loss: 0.0010575907505546256\n",
      "epoch time: 49.8230 seconds\n",
      "\n",
      "Starting epoch 23\n"
     ]
    },
    {
     "name": "stderr",
     "output_type": "stream",
     "text": [
      "Epoch 23/500: 100%|███████████████████████████| 909/909 [00:48<00:00, 18.64batch/s, batch loss=0.000856, mean epoch loss=0.000991]\n"
     ]
    },
    {
     "name": "stdout",
     "output_type": "stream",
     "text": [
      "Training loss: 0.0009913084935054323\n"
     ]
    },
    {
     "name": "stderr",
     "output_type": "stream",
     "text": [
      "Testing: 100%|███████████████████████████████████████████████████████████████████████| 95/95 [00:01<00:00, 93.00batch/s]\n"
     ]
    },
    {
     "name": "stdout",
     "output_type": "stream",
     "text": [
      "Test loss: 0.001184212385468479\n",
      "epoch time: 49.8009 seconds\n",
      "\n",
      "Starting epoch 24\n"
     ]
    },
    {
     "name": "stderr",
     "output_type": "stream",
     "text": [
      "Epoch 24/500: 100%|███████████████████████████| 909/909 [00:48<00:00, 18.65batch/s, batch loss=0.000188, mean epoch loss=0.000975]\n"
     ]
    },
    {
     "name": "stdout",
     "output_type": "stream",
     "text": [
      "Training loss: 0.0009746781463388505\n"
     ]
    },
    {
     "name": "stderr",
     "output_type": "stream",
     "text": [
      "Testing: 100%|███████████████████████████████████████████████████████████████████████| 95/95 [00:01<00:00, 94.34batch/s]\n"
     ]
    },
    {
     "name": "stdout",
     "output_type": "stream",
     "text": [
      "Test loss: 0.00111540782259238\n",
      "epoch time: 49.7406 seconds\n",
      "\n",
      "Starting epoch 25\n"
     ]
    },
    {
     "name": "stderr",
     "output_type": "stream",
     "text": [
      "Epoch 25/500: 100%|████████████████████████████| 909/909 [00:49<00:00, 18.50batch/s, batch loss=0.00138, mean epoch loss=0.000965]\n"
     ]
    },
    {
     "name": "stdout",
     "output_type": "stream",
     "text": [
      "Training loss: 0.0009649132494270398\n"
     ]
    },
    {
     "name": "stderr",
     "output_type": "stream",
     "text": [
      "Testing: 100%|███████████████████████████████████████████████████████████████████████| 95/95 [00:00<00:00, 95.01batch/s]\n"
     ]
    },
    {
     "name": "stdout",
     "output_type": "stream",
     "text": [
      "Test loss: 0.0010088561954417904\n",
      "epoch time: 50.1402 seconds\n",
      "\n",
      "Starting epoch 26\n"
     ]
    },
    {
     "name": "stderr",
     "output_type": "stream",
     "text": [
      "Epoch 26/500: 100%|████████████████████████████| 909/909 [00:48<00:00, 18.60batch/s, batch loss=0.00193, mean epoch loss=0.000947]\n"
     ]
    },
    {
     "name": "stdout",
     "output_type": "stream",
     "text": [
      "Training loss: 0.0009470270758983833\n"
     ]
    },
    {
     "name": "stderr",
     "output_type": "stream",
     "text": [
      "Testing: 100%|███████████████████████████████████████████████████████████████████████| 95/95 [00:01<00:00, 94.87batch/s]\n"
     ]
    },
    {
     "name": "stdout",
     "output_type": "stream",
     "text": [
      "Test loss: 0.0010117064769330777\n",
      "epoch time: 49.8713 seconds\n",
      "\n",
      "Starting epoch 27\n"
     ]
    },
    {
     "name": "stderr",
     "output_type": "stream",
     "text": [
      "Epoch 27/500: 100%|████████████████████████████| 909/909 [00:48<00:00, 18.63batch/s, batch loss=0.00144, mean epoch loss=0.000949]\n"
     ]
    },
    {
     "name": "stdout",
     "output_type": "stream",
     "text": [
      "Training loss: 0.0009489032149793732\n"
     ]
    },
    {
     "name": "stderr",
     "output_type": "stream",
     "text": [
      "Testing: 100%|███████████████████████████████████████████████████████████████████████| 95/95 [00:00<00:00, 98.88batch/s]\n"
     ]
    },
    {
     "name": "stdout",
     "output_type": "stream",
     "text": [
      "Test loss: 0.0011082087379978283\n",
      "epoch time: 49.7478 seconds\n",
      "\n",
      "Starting epoch 28\n"
     ]
    },
    {
     "name": "stderr",
     "output_type": "stream",
     "text": [
      "Epoch 28/500: 100%|███████████████████████████| 909/909 [00:48<00:00, 18.57batch/s, batch loss=0.000344, mean epoch loss=0.000928]\n"
     ]
    },
    {
     "name": "stdout",
     "output_type": "stream",
     "text": [
      "Training loss: 0.0009281861345785464\n"
     ]
    },
    {
     "name": "stderr",
     "output_type": "stream",
     "text": [
      "Testing: 100%|███████████████████████████████████████████████████████████████████████| 95/95 [00:00<00:00, 98.73batch/s]\n"
     ]
    },
    {
     "name": "stdout",
     "output_type": "stream",
     "text": [
      "Test loss: 0.0010374117786628439\n",
      "epoch time: 49.9157 seconds\n",
      "\n",
      "Starting epoch 29\n"
     ]
    },
    {
     "name": "stderr",
     "output_type": "stream",
     "text": [
      "Epoch 29/500: 100%|████████████████████████████| 909/909 [00:49<00:00, 18.48batch/s, batch loss=0.000967, mean epoch loss=0.00093]\n"
     ]
    },
    {
     "name": "stdout",
     "output_type": "stream",
     "text": [
      "Training loss: 0.0009301784864552032\n"
     ]
    },
    {
     "name": "stderr",
     "output_type": "stream",
     "text": [
      "Testing: 100%|███████████████████████████████████████████████████████████████████████| 95/95 [00:00<00:00, 98.89batch/s]\n"
     ]
    },
    {
     "name": "stdout",
     "output_type": "stream",
     "text": [
      "Test loss: 0.0010659459148116997\n",
      "epoch time: 50.1642 seconds\n",
      "\n",
      "Starting epoch 30\n"
     ]
    },
    {
     "name": "stderr",
     "output_type": "stream",
     "text": [
      "Epoch 30/500: 100%|███████████████████████████| 909/909 [00:48<00:00, 18.56batch/s, batch loss=0.000823, mean epoch loss=0.000921]\n"
     ]
    },
    {
     "name": "stdout",
     "output_type": "stream",
     "text": [
      "Training loss: 0.0009212041017069516\n"
     ]
    },
    {
     "name": "stderr",
     "output_type": "stream",
     "text": [
      "Testing: 100%|███████████████████████████████████████████████████████████████████████| 95/95 [00:00<00:00, 99.36batch/s]\n"
     ]
    },
    {
     "name": "stdout",
     "output_type": "stream",
     "text": [
      "Test loss: 0.001145318056468999\n",
      "epoch time: 49.9286 seconds\n",
      "\n",
      "Starting epoch 31\n"
     ]
    },
    {
     "name": "stderr",
     "output_type": "stream",
     "text": [
      "Epoch 31/500: 100%|████████████████████████████| 909/909 [00:48<00:00, 18.56batch/s, batch loss=0.00209, mean epoch loss=0.000918]\n"
     ]
    },
    {
     "name": "stdout",
     "output_type": "stream",
     "text": [
      "Training loss: 0.0009180904946615766\n"
     ]
    },
    {
     "name": "stderr",
     "output_type": "stream",
     "text": [
      "Testing: 100%|███████████████████████████████████████████████████████████████████████| 95/95 [00:00<00:00, 99.37batch/s]\n"
     ]
    },
    {
     "name": "stdout",
     "output_type": "stream",
     "text": [
      "Test loss: 0.0010693389542498872\n",
      "epoch time: 49.9434 seconds\n",
      "\n",
      "Starting epoch 32\n"
     ]
    },
    {
     "name": "stderr",
     "output_type": "stream",
     "text": [
      "Epoch 32/500: 100%|████████████████████████████| 909/909 [00:48<00:00, 18.59batch/s, batch loss=0.00113, mean epoch loss=0.000893]\n"
     ]
    },
    {
     "name": "stdout",
     "output_type": "stream",
     "text": [
      "Training loss: 0.0008932139552927707\n"
     ]
    },
    {
     "name": "stderr",
     "output_type": "stream",
     "text": [
      "Testing: 100%|███████████████████████████████████████████████████████████████████████| 95/95 [00:00<00:00, 97.51batch/s]\n"
     ]
    },
    {
     "name": "stdout",
     "output_type": "stream",
     "text": [
      "Test loss: 0.0010589019628241658\n",
      "epoch time: 49.8840 seconds\n",
      "\n",
      "Starting epoch 33\n"
     ]
    },
    {
     "name": "stderr",
     "output_type": "stream",
     "text": [
      "Epoch 33/500: 100%|███████████████████████████| 909/909 [00:48<00:00, 18.56batch/s, batch loss=0.000633, mean epoch loss=0.000905]\n"
     ]
    },
    {
     "name": "stdout",
     "output_type": "stream",
     "text": [
      "Training loss: 0.0009046448856707505\n"
     ]
    },
    {
     "name": "stderr",
     "output_type": "stream",
     "text": [
      "Testing: 100%|███████████████████████████████████████████████████████████████████████| 95/95 [00:00<00:00, 99.24batch/s]\n"
     ]
    },
    {
     "name": "stdout",
     "output_type": "stream",
     "text": [
      "Test loss: 0.0010119966929778457\n",
      "epoch time: 49.9385 seconds\n",
      "\n",
      "Starting epoch 34\n"
     ]
    },
    {
     "name": "stderr",
     "output_type": "stream",
     "text": [
      "Epoch 34/500: 100%|███████████████████████████| 909/909 [00:48<00:00, 18.61batch/s, batch loss=0.000484, mean epoch loss=0.000886]\n"
     ]
    },
    {
     "name": "stdout",
     "output_type": "stream",
     "text": [
      "Training loss: 0.0008856948963443932\n"
     ]
    },
    {
     "name": "stderr",
     "output_type": "stream",
     "text": [
      "Testing: 100%|███████████████████████████████████████████████████████████████████████| 95/95 [00:00<00:00, 96.64batch/s]\n"
     ]
    },
    {
     "name": "stdout",
     "output_type": "stream",
     "text": [
      "Test loss: 0.0010482448376837727\n",
      "epoch time: 49.8267 seconds\n",
      "\n",
      "Starting epoch 35\n"
     ]
    },
    {
     "name": "stderr",
     "output_type": "stream",
     "text": [
      "Epoch 35/500: 100%|█████████████████████████████| 909/909 [00:49<00:00, 18.53batch/s, batch loss=0.0019, mean epoch loss=0.000878]\n"
     ]
    },
    {
     "name": "stdout",
     "output_type": "stream",
     "text": [
      "Training loss: 0.000877693797039635\n"
     ]
    },
    {
     "name": "stderr",
     "output_type": "stream",
     "text": [
      "Testing: 100%|███████████████████████████████████████████████████████████████████████| 95/95 [00:00<00:00, 96.01batch/s]\n"
     ]
    },
    {
     "name": "stdout",
     "output_type": "stream",
     "text": [
      "Test loss: 0.001025126390710571\n",
      "epoch time: 50.0498 seconds\n",
      "\n",
      "Starting epoch 36\n"
     ]
    },
    {
     "name": "stderr",
     "output_type": "stream",
     "text": [
      "Epoch 36/500: 100%|███████████████████████████| 909/909 [00:49<00:00, 18.54batch/s, batch loss=0.000581, mean epoch loss=0.000876]\n"
     ]
    },
    {
     "name": "stdout",
     "output_type": "stream",
     "text": [
      "Training loss: 0.0008762177165866752\n"
     ]
    },
    {
     "name": "stderr",
     "output_type": "stream",
     "text": [
      "Testing: 100%|███████████████████████████████████████████████████████████████████████| 95/95 [00:00<00:00, 99.17batch/s]\n"
     ]
    },
    {
     "name": "stdout",
     "output_type": "stream",
     "text": [
      "Test loss: 0.0010011328534394698\n",
      "epoch time: 50.0423 seconds\n",
      "\n",
      "Starting epoch 37\n"
     ]
    },
    {
     "name": "stderr",
     "output_type": "stream",
     "text": [
      "Epoch 37/500: 100%|████████████████████████████| 909/909 [00:49<00:00, 18.49batch/s, batch loss=0.00102, mean epoch loss=0.000859]\n"
     ]
    },
    {
     "name": "stdout",
     "output_type": "stream",
     "text": [
      "Training loss: 0.0008590230024197524\n"
     ]
    },
    {
     "name": "stderr",
     "output_type": "stream",
     "text": [
      "Testing: 100%|███████████████████████████████████████████████████████████████████████| 95/95 [00:00<00:00, 99.41batch/s]\n"
     ]
    },
    {
     "name": "stdout",
     "output_type": "stream",
     "text": [
      "Test loss: 0.0010027307393580772\n",
      "epoch time: 50.1134 seconds\n",
      "\n",
      "Starting epoch 38\n"
     ]
    },
    {
     "name": "stderr",
     "output_type": "stream",
     "text": [
      "Epoch 38/500: 100%|████████████████████████████| 909/909 [00:49<00:00, 18.52batch/s, batch loss=0.00107, mean epoch loss=0.000871]\n"
     ]
    },
    {
     "name": "stdout",
     "output_type": "stream",
     "text": [
      "Training loss: 0.0008714967900034187\n"
     ]
    },
    {
     "name": "stderr",
     "output_type": "stream",
     "text": [
      "Testing: 100%|███████████████████████████████████████████████████████████████████████| 95/95 [00:00<00:00, 96.97batch/s]\n"
     ]
    },
    {
     "name": "stdout",
     "output_type": "stream",
     "text": [
      "Test loss: 0.001018614564274781\n",
      "epoch time: 50.0576 seconds\n",
      "\n",
      "Starting epoch 39\n"
     ]
    },
    {
     "name": "stderr",
     "output_type": "stream",
     "text": [
      "Epoch 39/500: 100%|████████████████████████████| 909/909 [00:49<00:00, 18.45batch/s, batch loss=0.000358, mean epoch loss=0.00084]\n"
     ]
    },
    {
     "name": "stdout",
     "output_type": "stream",
     "text": [
      "Training loss: 0.0008395630193363114\n"
     ]
    },
    {
     "name": "stderr",
     "output_type": "stream",
     "text": [
      "Testing: 100%|███████████████████████████████████████████████████████████████████████| 95/95 [00:00<00:00, 97.31batch/s]\n"
     ]
    },
    {
     "name": "stdout",
     "output_type": "stream",
     "text": [
      "Test loss: 0.0011947183306083868\n",
      "epoch time: 50.2418 seconds\n",
      "\n",
      "Starting epoch 40\n"
     ]
    },
    {
     "name": "stderr",
     "output_type": "stream",
     "text": [
      "Epoch 40/500: 100%|████████████████████████████| 909/909 [00:49<00:00, 18.39batch/s, batch loss=0.00095, mean epoch loss=0.000859]\n"
     ]
    },
    {
     "name": "stdout",
     "output_type": "stream",
     "text": [
      "Training loss: 0.0008592378510144241\n"
     ]
    },
    {
     "name": "stderr",
     "output_type": "stream",
     "text": [
      "Testing: 100%|███████████████████████████████████████████████████████████████████████| 95/95 [00:00<00:00, 99.09batch/s]\n"
     ]
    },
    {
     "name": "stdout",
     "output_type": "stream",
     "text": [
      "Test loss: 0.001067940442436865\n",
      "epoch time: 50.3865 seconds\n",
      "\n",
      "Starting epoch 41\n"
     ]
    },
    {
     "name": "stderr",
     "output_type": "stream",
     "text": [
      "Epoch 41/500: 100%|████████████████████████████| 909/909 [00:49<00:00, 18.39batch/s, batch loss=0.00124, mean epoch loss=0.000839]\n"
     ]
    },
    {
     "name": "stdout",
     "output_type": "stream",
     "text": [
      "Training loss: 0.0008388665976514194\n"
     ]
    },
    {
     "name": "stderr",
     "output_type": "stream",
     "text": [
      "Testing: 100%|███████████████████████████████████████████████████████████████████████| 95/95 [00:00<00:00, 98.89batch/s]\n"
     ]
    },
    {
     "name": "stdout",
     "output_type": "stream",
     "text": [
      "Test loss: 0.0009813753165010559\n",
      "epoch time: 50.4395 seconds\n",
      "\n",
      "Starting epoch 42\n"
     ]
    },
    {
     "name": "stderr",
     "output_type": "stream",
     "text": [
      "Epoch 42/500: 100%|████████████████████████████| 909/909 [00:49<00:00, 18.27batch/s, batch loss=0.00102, mean epoch loss=0.000826]\n"
     ]
    },
    {
     "name": "stdout",
     "output_type": "stream",
     "text": [
      "Training loss: 0.0008263425078348419\n"
     ]
    },
    {
     "name": "stderr",
     "output_type": "stream",
     "text": [
      "Testing: 100%|███████████████████████████████████████████████████████████████████████| 95/95 [00:00<00:00, 98.37batch/s]\n"
     ]
    },
    {
     "name": "stdout",
     "output_type": "stream",
     "text": [
      "Test loss: 0.0009773728014950296\n",
      "epoch time: 50.7771 seconds\n",
      "\n",
      "Starting epoch 43\n"
     ]
    },
    {
     "name": "stderr",
     "output_type": "stream",
     "text": [
      "Epoch 43/500: 100%|███████████████████████████████| 909/909 [00:49<00:00, 18.20batch/s, batch loss=0.001, mean epoch loss=0.00082]\n"
     ]
    },
    {
     "name": "stdout",
     "output_type": "stream",
     "text": [
      "Training loss: 0.0008200421961600973\n"
     ]
    },
    {
     "name": "stderr",
     "output_type": "stream",
     "text": [
      "Testing: 100%|███████████████████████████████████████████████████████████████████████| 95/95 [00:00<00:00, 98.67batch/s]\n"
     ]
    },
    {
     "name": "stdout",
     "output_type": "stream",
     "text": [
      "Test loss: 0.0009787197736410521\n",
      "epoch time: 50.9145 seconds\n",
      "\n",
      "Starting epoch 44\n"
     ]
    },
    {
     "name": "stderr",
     "output_type": "stream",
     "text": [
      "Epoch 44/500: 100%|████████████████████████████| 909/909 [00:50<00:00, 18.12batch/s, batch loss=0.000245, mean epoch loss=0.00082]\n"
     ]
    },
    {
     "name": "stdout",
     "output_type": "stream",
     "text": [
      "Training loss: 0.000820015046128371\n"
     ]
    },
    {
     "name": "stderr",
     "output_type": "stream",
     "text": [
      "Testing: 100%|███████████████████████████████████████████████████████████████████████| 95/95 [00:01<00:00, 92.81batch/s]\n"
     ]
    },
    {
     "name": "stdout",
     "output_type": "stream",
     "text": [
      "Test loss: 0.0010923959892304418\n",
      "epoch time: 51.1983 seconds\n",
      "\n",
      "Starting epoch 45\n"
     ]
    },
    {
     "name": "stderr",
     "output_type": "stream",
     "text": [
      "Epoch 45/500: 100%|███████████████████████████| 909/909 [00:49<00:00, 18.51batch/s, batch loss=0.000844, mean epoch loss=0.000822]\n"
     ]
    },
    {
     "name": "stdout",
     "output_type": "stream",
     "text": [
      "Training loss: 0.0008219412263962815\n"
     ]
    },
    {
     "name": "stderr",
     "output_type": "stream",
     "text": [
      "Testing: 100%|███████████████████████████████████████████████████████████████████████| 95/95 [00:00<00:00, 97.70batch/s]\n"
     ]
    },
    {
     "name": "stdout",
     "output_type": "stream",
     "text": [
      "Test loss: 0.0009898883220126951\n",
      "epoch time: 50.0770 seconds\n",
      "\n",
      "Starting epoch 46\n"
     ]
    },
    {
     "name": "stderr",
     "output_type": "stream",
     "text": [
      "Epoch 46/500: 100%|███████████████████████████| 909/909 [00:48<00:00, 18.58batch/s, batch loss=0.000518, mean epoch loss=0.000806]\n"
     ]
    },
    {
     "name": "stdout",
     "output_type": "stream",
     "text": [
      "Training loss: 0.0008057891213681141\n"
     ]
    },
    {
     "name": "stderr",
     "output_type": "stream",
     "text": [
      "Testing: 100%|███████████████████████████████████████████████████████████████████████| 95/95 [00:00<00:00, 95.53batch/s]\n"
     ]
    },
    {
     "name": "stdout",
     "output_type": "stream",
     "text": [
      "Test loss: 0.0011024714230045089\n",
      "epoch time: 49.9272 seconds\n",
      "\n",
      "Starting epoch 47\n"
     ]
    },
    {
     "name": "stderr",
     "output_type": "stream",
     "text": [
      "Epoch 47/500: 100%|███████████████████████████| 909/909 [00:48<00:00, 18.64batch/s, batch loss=0.000667, mean epoch loss=0.000811]\n"
     ]
    },
    {
     "name": "stdout",
     "output_type": "stream",
     "text": [
      "Training loss: 0.0008112154166107934\n"
     ]
    },
    {
     "name": "stderr",
     "output_type": "stream",
     "text": [
      "Testing: 100%|███████████████████████████████████████████████████████████████████████| 95/95 [00:00<00:00, 95.86batch/s]\n"
     ]
    },
    {
     "name": "stdout",
     "output_type": "stream",
     "text": [
      "Test loss: 0.0009810459518216942\n",
      "epoch time: 49.7486 seconds\n",
      "\n",
      "Starting epoch 48\n"
     ]
    },
    {
     "name": "stderr",
     "output_type": "stream",
     "text": [
      "Epoch 48/500: 100%|███████████████████████████| 909/909 [00:48<00:00, 18.66batch/s, batch loss=0.000623, mean epoch loss=0.000789]\n"
     ]
    },
    {
     "name": "stdout",
     "output_type": "stream",
     "text": [
      "Training loss: 0.0007892238221110646\n"
     ]
    },
    {
     "name": "stderr",
     "output_type": "stream",
     "text": [
      "Testing: 100%|███████████████████████████████████████████████████████████████████████| 95/95 [00:00<00:00, 96.08batch/s]\n"
     ]
    },
    {
     "name": "stdout",
     "output_type": "stream",
     "text": [
      "Test loss: 0.0011204615848040894\n",
      "epoch time: 49.7035 seconds\n",
      "\n",
      "Starting epoch 49\n"
     ]
    },
    {
     "name": "stderr",
     "output_type": "stream",
     "text": [
      "Epoch 49/500: 100%|████████████████████████████| 909/909 [00:49<00:00, 18.50batch/s, batch loss=0.00128, mean epoch loss=0.000789]\n"
     ]
    },
    {
     "name": "stdout",
     "output_type": "stream",
     "text": [
      "Training loss: 0.0007889803201749708\n"
     ]
    },
    {
     "name": "stderr",
     "output_type": "stream",
     "text": [
      "Testing: 100%|███████████████████████████████████████████████████████████████████████| 95/95 [00:00<00:00, 95.22batch/s]\n"
     ]
    },
    {
     "name": "stdout",
     "output_type": "stream",
     "text": [
      "Test loss: 0.0010183965134753013\n",
      "epoch time: 50.1239 seconds\n",
      "\n",
      "Starting epoch 50\n"
     ]
    },
    {
     "name": "stderr",
     "output_type": "stream",
     "text": [
      "Epoch 50/500: 100%|███████████████████████████| 909/909 [00:48<00:00, 18.63batch/s, batch loss=0.000624, mean epoch loss=0.000816]\n"
     ]
    },
    {
     "name": "stdout",
     "output_type": "stream",
     "text": [
      "Training loss: 0.0008156984664256555\n"
     ]
    },
    {
     "name": "stderr",
     "output_type": "stream",
     "text": [
      "Testing: 100%|███████████████████████████████████████████████████████████████████████| 95/95 [00:00<00:00, 96.47batch/s]\n"
     ]
    },
    {
     "name": "stdout",
     "output_type": "stream",
     "text": [
      "Test loss: 0.0010222987022165111\n",
      "epoch time: 49.7797 seconds\n",
      "\n",
      "Starting epoch 51\n"
     ]
    },
    {
     "name": "stderr",
     "output_type": "stream",
     "text": [
      "Epoch 51/500: 100%|███████████████████████████| 909/909 [00:49<00:00, 18.52batch/s, batch loss=0.000534, mean epoch loss=0.000788]\n"
     ]
    },
    {
     "name": "stdout",
     "output_type": "stream",
     "text": [
      "Training loss: 0.0007876245497382805\n"
     ]
    },
    {
     "name": "stderr",
     "output_type": "stream",
     "text": [
      "Testing: 100%|███████████████████████████████████████████████████████████████████████| 95/95 [00:01<00:00, 93.51batch/s]\n"
     ]
    },
    {
     "name": "stdout",
     "output_type": "stream",
     "text": [
      "Test loss: 0.0010383420911813646\n",
      "epoch time: 50.1058 seconds\n",
      "\n",
      "Starting epoch 52\n"
     ]
    },
    {
     "name": "stderr",
     "output_type": "stream",
     "text": [
      "Epoch 52/500: 100%|███████████████████████████| 909/909 [00:48<00:00, 18.59batch/s, batch loss=0.000515, mean epoch loss=0.000766]\n"
     ]
    },
    {
     "name": "stdout",
     "output_type": "stream",
     "text": [
      "Training loss: 0.0007662567639590484\n"
     ]
    },
    {
     "name": "stderr",
     "output_type": "stream",
     "text": [
      "Testing: 100%|███████████████████████████████████████████████████████████████████████| 95/95 [00:01<00:00, 93.95batch/s]\n"
     ]
    },
    {
     "name": "stdout",
     "output_type": "stream",
     "text": [
      "Test loss: 0.0010131128723610584\n",
      "epoch time: 49.9155 seconds\n",
      "\n",
      "Starting epoch 53\n"
     ]
    },
    {
     "name": "stderr",
     "output_type": "stream",
     "text": [
      "Epoch 53/500: 100%|███████████████████████████| 909/909 [00:49<00:00, 18.52batch/s, batch loss=0.000596, mean epoch loss=0.000783]\n"
     ]
    },
    {
     "name": "stdout",
     "output_type": "stream",
     "text": [
      "Training loss: 0.000782701195640555\n"
     ]
    },
    {
     "name": "stderr",
     "output_type": "stream",
     "text": [
      "Testing: 100%|███████████████████████████████████████████████████████████████████████| 95/95 [00:00<00:00, 96.77batch/s]\n"
     ]
    },
    {
     "name": "stdout",
     "output_type": "stream",
     "text": [
      "Test loss: 0.0010148237160664346\n",
      "epoch time: 50.0787 seconds\n",
      "\n",
      "Starting epoch 54\n"
     ]
    },
    {
     "name": "stderr",
     "output_type": "stream",
     "text": [
      "Epoch 54/500: 100%|████████████████████████████| 909/909 [00:49<00:00, 18.48batch/s, batch loss=0.00116, mean epoch loss=0.000722]\n"
     ]
    },
    {
     "name": "stdout",
     "output_type": "stream",
     "text": [
      "Training loss: 0.0007216526747491209\n"
     ]
    },
    {
     "name": "stderr",
     "output_type": "stream",
     "text": [
      "Testing: 100%|███████████████████████████████████████████████████████████████████████| 95/95 [00:00<00:00, 95.86batch/s]\n"
     ]
    },
    {
     "name": "stdout",
     "output_type": "stream",
     "text": [
      "Test loss: 0.0010003943213776343\n",
      "epoch time: 50.1850 seconds\n",
      "\n",
      "Starting epoch 55\n"
     ]
    },
    {
     "name": "stderr",
     "output_type": "stream",
     "text": [
      "Epoch 55/500: 100%|████████████████████████████| 909/909 [00:49<00:00, 18.51batch/s, batch loss=0.00145, mean epoch loss=0.000709]\n"
     ]
    },
    {
     "name": "stdout",
     "output_type": "stream",
     "text": [
      "Training loss: 0.0007093531108870246\n"
     ]
    },
    {
     "name": "stderr",
     "output_type": "stream",
     "text": [
      "Testing: 100%|███████████████████████████████████████████████████████████████████████| 95/95 [00:01<00:00, 94.69batch/s]\n"
     ]
    },
    {
     "name": "stdout",
     "output_type": "stream",
     "text": [
      "Test loss: 0.0009707255148034739\n",
      "epoch time: 50.1557 seconds\n",
      "\n",
      "Starting epoch 56\n"
     ]
    },
    {
     "name": "stderr",
     "output_type": "stream",
     "text": [
      "Epoch 56/500: 100%|████████████████████████████| 909/909 [00:49<00:00, 18.37batch/s, batch loss=0.00116, mean epoch loss=0.000712]\n"
     ]
    },
    {
     "name": "stdout",
     "output_type": "stream",
     "text": [
      "Training loss: 0.0007119451603814175\n"
     ]
    },
    {
     "name": "stderr",
     "output_type": "stream",
     "text": [
      "Testing: 100%|███████████████████████████████████████████████████████████████████████| 95/95 [00:01<00:00, 92.17batch/s]\n"
     ]
    },
    {
     "name": "stdout",
     "output_type": "stream",
     "text": [
      "Test loss: 0.0009795167645758117\n",
      "epoch time: 50.5288 seconds\n",
      "\n",
      "Starting epoch 57\n"
     ]
    },
    {
     "name": "stderr",
     "output_type": "stream",
     "text": [
      "Epoch 57/500: 100%|████████████████████████████| 909/909 [00:49<00:00, 18.51batch/s, batch loss=0.00219, mean epoch loss=0.000699]\n"
     ]
    },
    {
     "name": "stdout",
     "output_type": "stream",
     "text": [
      "Training loss: 0.0006992867344913723\n"
     ]
    },
    {
     "name": "stderr",
     "output_type": "stream",
     "text": [
      "Testing: 100%|███████████████████████████████████████████████████████████████████████| 95/95 [00:00<00:00, 95.21batch/s]\n"
     ]
    },
    {
     "name": "stdout",
     "output_type": "stream",
     "text": [
      "Test loss: 0.0010197989694700625\n",
      "epoch time: 50.1031 seconds\n",
      "\n",
      "Starting epoch 58\n"
     ]
    },
    {
     "name": "stderr",
     "output_type": "stream",
     "text": [
      "Epoch 58/500: 100%|███████████████████████████| 909/909 [00:49<00:00, 18.51batch/s, batch loss=0.000436, mean epoch loss=0.000699]\n"
     ]
    },
    {
     "name": "stdout",
     "output_type": "stream",
     "text": [
      "Training loss: 0.0006988100401748651\n"
     ]
    },
    {
     "name": "stderr",
     "output_type": "stream",
     "text": [
      "Testing: 100%|███████████████████████████████████████████████████████████████████████| 95/95 [00:00<00:00, 95.19batch/s]\n"
     ]
    },
    {
     "name": "stdout",
     "output_type": "stream",
     "text": [
      "Test loss: 0.000943931510310473\n",
      "epoch time: 50.1549 seconds\n",
      "\n",
      "Starting epoch 59\n"
     ]
    },
    {
     "name": "stderr",
     "output_type": "stream",
     "text": [
      "Epoch 59/500: 100%|███████████████████████████| 909/909 [00:49<00:00, 18.39batch/s, batch loss=0.000516, mean epoch loss=0.000697]\n"
     ]
    },
    {
     "name": "stdout",
     "output_type": "stream",
     "text": [
      "Training loss: 0.0006969588262634314\n"
     ]
    },
    {
     "name": "stderr",
     "output_type": "stream",
     "text": [
      "Testing: 100%|███████████████████████████████████████████████████████████████████████| 95/95 [00:00<00:00, 95.32batch/s]\n"
     ]
    },
    {
     "name": "stdout",
     "output_type": "stream",
     "text": [
      "Test loss: 0.0009959299200042887\n",
      "epoch time: 50.4178 seconds\n",
      "\n",
      "Starting epoch 60\n"
     ]
    },
    {
     "name": "stderr",
     "output_type": "stream",
     "text": [
      "Epoch 60/500: 100%|███████████████████████████| 909/909 [00:49<00:00, 18.50batch/s, batch loss=0.000479, mean epoch loss=0.000687]\n"
     ]
    },
    {
     "name": "stdout",
     "output_type": "stream",
     "text": [
      "Training loss: 0.0006870815545115343\n"
     ]
    },
    {
     "name": "stderr",
     "output_type": "stream",
     "text": [
      "Testing: 100%|███████████████████████████████████████████████████████████████████████| 95/95 [00:00<00:00, 96.18batch/s]\n"
     ]
    },
    {
     "name": "stdout",
     "output_type": "stream",
     "text": [
      "Test loss: 0.0009616583786402387\n",
      "epoch time: 50.1386 seconds\n",
      "\n",
      "Starting epoch 61\n"
     ]
    },
    {
     "name": "stderr",
     "output_type": "stream",
     "text": [
      "Epoch 61/500: 100%|███████████████████████████| 909/909 [00:49<00:00, 18.49batch/s, batch loss=0.000416, mean epoch loss=0.000684]\n"
     ]
    },
    {
     "name": "stdout",
     "output_type": "stream",
     "text": [
      "Training loss: 0.0006839732296553023\n"
     ]
    },
    {
     "name": "stderr",
     "output_type": "stream",
     "text": [
      "Testing: 100%|███████████████████████████████████████████████████████████████████████| 95/95 [00:01<00:00, 93.65batch/s]\n"
     ]
    },
    {
     "name": "stdout",
     "output_type": "stream",
     "text": [
      "Test loss: 0.0009945944460157893\n",
      "epoch time: 50.1794 seconds\n",
      "\n",
      "Starting epoch 62\n"
     ]
    },
    {
     "name": "stderr",
     "output_type": "stream",
     "text": [
      "Epoch 62/500: 100%|█████████████████████████████| 909/909 [00:48<00:00, 18.55batch/s, batch loss=0.0014, mean epoch loss=0.000678]\n"
     ]
    },
    {
     "name": "stdout",
     "output_type": "stream",
     "text": [
      "Training loss: 0.0006775534876347679\n"
     ]
    },
    {
     "name": "stderr",
     "output_type": "stream",
     "text": [
      "Testing: 100%|███████████████████████████████████████████████████████████████████████| 95/95 [00:00<00:00, 95.76batch/s]\n"
     ]
    },
    {
     "name": "stdout",
     "output_type": "stream",
     "text": [
      "Test loss: 0.0010133835912902692\n",
      "epoch time: 49.9908 seconds\n",
      "\n",
      "Starting epoch 63\n"
     ]
    },
    {
     "name": "stderr",
     "output_type": "stream",
     "text": [
      "Epoch 63/500: 100%|████████████████████████████| 909/909 [00:49<00:00, 18.53batch/s, batch loss=0.00201, mean epoch loss=0.000673]\n"
     ]
    },
    {
     "name": "stdout",
     "output_type": "stream",
     "text": [
      "Training loss: 0.0006726235055238648\n"
     ]
    },
    {
     "name": "stderr",
     "output_type": "stream",
     "text": [
      "Testing: 100%|███████████████████████████████████████████████████████████████████████| 95/95 [00:01<00:00, 94.63batch/s]\n"
     ]
    },
    {
     "name": "stdout",
     "output_type": "stream",
     "text": [
      "Test loss: 0.0010281285084171319\n",
      "epoch time: 50.0639 seconds\n",
      "\n",
      "Starting epoch 64\n"
     ]
    },
    {
     "name": "stderr",
     "output_type": "stream",
     "text": [
      "Epoch 64/500: 100%|█████████████████████████████| 909/909 [00:48<00:00, 18.60batch/s, batch loss=0.0003, mean epoch loss=0.000677]\n"
     ]
    },
    {
     "name": "stdout",
     "output_type": "stream",
     "text": [
      "Training loss: 0.0006770896676610064\n"
     ]
    },
    {
     "name": "stderr",
     "output_type": "stream",
     "text": [
      "Testing: 100%|███████████████████████████████████████████████████████████████████████| 95/95 [00:01<00:00, 92.94batch/s]\n"
     ]
    },
    {
     "name": "stdout",
     "output_type": "stream",
     "text": [
      "Test loss: 0.0010004116675669426\n",
      "epoch time: 49.8956 seconds\n",
      "\n",
      "Starting epoch 65\n"
     ]
    },
    {
     "name": "stderr",
     "output_type": "stream",
     "text": [
      "Epoch 65/500: 100%|████████████████████████████| 909/909 [00:49<00:00, 18.53batch/s, batch loss=0.00108, mean epoch loss=0.000667]\n"
     ]
    },
    {
     "name": "stdout",
     "output_type": "stream",
     "text": [
      "Training loss: 0.0006670177792632088\n"
     ]
    },
    {
     "name": "stderr",
     "output_type": "stream",
     "text": [
      "Testing: 100%|███████████████████████████████████████████████████████████████████████| 95/95 [00:01<00:00, 93.40batch/s]\n"
     ]
    },
    {
     "name": "stdout",
     "output_type": "stream",
     "text": [
      "Test loss: 0.0010009223981270272\n",
      "epoch time: 50.0794 seconds\n",
      "\n",
      "Starting epoch 66\n"
     ]
    },
    {
     "name": "stderr",
     "output_type": "stream",
     "text": [
      "Epoch 66/500: 100%|███████████████████████████| 909/909 [00:49<00:00, 18.55batch/s, batch loss=0.000384, mean epoch loss=0.000669]\n"
     ]
    },
    {
     "name": "stdout",
     "output_type": "stream",
     "text": [
      "Training loss: 0.0006686766184361834\n"
     ]
    },
    {
     "name": "stderr",
     "output_type": "stream",
     "text": [
      "Testing: 100%|███████████████████████████████████████████████████████████████████████| 95/95 [00:01<00:00, 93.32batch/s]\n"
     ]
    },
    {
     "name": "stdout",
     "output_type": "stream",
     "text": [
      "Test loss: 0.0010337696398461335\n",
      "epoch time: 50.0224 seconds\n",
      "\n",
      "Starting epoch 67\n"
     ]
    },
    {
     "name": "stderr",
     "output_type": "stream",
     "text": [
      "Epoch 67/500: 100%|███████████████████████████| 909/909 [00:49<00:00, 18.53batch/s, batch loss=0.000884, mean epoch loss=0.000678]\n"
     ]
    },
    {
     "name": "stdout",
     "output_type": "stream",
     "text": [
      "Training loss: 0.0006777991224910215\n"
     ]
    },
    {
     "name": "stderr",
     "output_type": "stream",
     "text": [
      "Testing: 100%|███████████████████████████████████████████████████████████████████████| 95/95 [00:00<00:00, 96.62batch/s]\n"
     ]
    },
    {
     "name": "stdout",
     "output_type": "stream",
     "text": [
      "Test loss: 0.0011034066349231196\n",
      "epoch time: 50.0299 seconds\n",
      "\n",
      "Starting epoch 68\n"
     ]
    },
    {
     "name": "stderr",
     "output_type": "stream",
     "text": [
      "Epoch 68/500: 100%|█████████████████████████████| 909/909 [00:49<00:00, 18.53batch/s, batch loss=0.0008, mean epoch loss=0.000656]\n"
     ]
    },
    {
     "name": "stdout",
     "output_type": "stream",
     "text": [
      "Training loss: 0.0006556003856843048\n"
     ]
    },
    {
     "name": "stderr",
     "output_type": "stream",
     "text": [
      "Testing: 100%|███████████████████████████████████████████████████████████████████████| 95/95 [00:00<00:00, 96.54batch/s]\n"
     ]
    },
    {
     "name": "stdout",
     "output_type": "stream",
     "text": [
      "Test loss: 0.0010122157011401693\n",
      "epoch time: 50.0358 seconds\n",
      "\n",
      "Starting epoch 69\n"
     ]
    },
    {
     "name": "stderr",
     "output_type": "stream",
     "text": [
      "Epoch 69/500: 100%|███████████████████████████| 909/909 [00:48<00:00, 18.58batch/s, batch loss=0.000474, mean epoch loss=0.000656]\n"
     ]
    },
    {
     "name": "stdout",
     "output_type": "stream",
     "text": [
      "Training loss: 0.0006555892405701389\n"
     ]
    },
    {
     "name": "stderr",
     "output_type": "stream",
     "text": [
      "Testing: 100%|███████████████████████████████████████████████████████████████████████| 95/95 [00:01<00:00, 93.25batch/s]\n"
     ]
    },
    {
     "name": "stdout",
     "output_type": "stream",
     "text": [
      "Test loss: 0.001080030627168813\n",
      "epoch time: 49.9441 seconds\n",
      "\n",
      "Starting epoch 70\n"
     ]
    },
    {
     "name": "stderr",
     "output_type": "stream",
     "text": [
      "Epoch 70/500: 100%|███████████████████████████| 909/909 [00:48<00:00, 18.63batch/s, batch loss=0.000414, mean epoch loss=0.000636]\n"
     ]
    },
    {
     "name": "stdout",
     "output_type": "stream",
     "text": [
      "Training loss: 0.0006357440820861068\n"
     ]
    },
    {
     "name": "stderr",
     "output_type": "stream",
     "text": [
      "Testing: 100%|███████████████████████████████████████████████████████████████████████| 95/95 [00:00<00:00, 95.63batch/s]\n"
     ]
    },
    {
     "name": "stdout",
     "output_type": "stream",
     "text": [
      "Test loss: 0.0009624852688590947\n",
      "epoch time: 49.7988 seconds\n",
      "\n",
      "Starting epoch 71\n"
     ]
    },
    {
     "name": "stderr",
     "output_type": "stream",
     "text": [
      "Epoch 71/500: 100%|███████████████████████████| 909/909 [00:48<00:00, 18.63batch/s, batch loss=0.000855, mean epoch loss=0.000635]\n"
     ]
    },
    {
     "name": "stdout",
     "output_type": "stream",
     "text": [
      "Training loss: 0.0006346178055020885\n"
     ]
    },
    {
     "name": "stderr",
     "output_type": "stream",
     "text": [
      "Testing: 100%|███████████████████████████████████████████████████████████████████████| 95/95 [00:01<00:00, 92.99batch/s]\n"
     ]
    },
    {
     "name": "stdout",
     "output_type": "stream",
     "text": [
      "Test loss: 0.0009891867965435314\n",
      "epoch time: 49.8260 seconds\n",
      "\n",
      "Starting epoch 72\n"
     ]
    },
    {
     "name": "stderr",
     "output_type": "stream",
     "text": [
      "Epoch 72/500: 100%|███████████████████████████| 909/909 [00:48<00:00, 18.61batch/s, batch loss=0.000668, mean epoch loss=0.000629]\n"
     ]
    },
    {
     "name": "stdout",
     "output_type": "stream",
     "text": [
      "Training loss: 0.0006285866307230703\n"
     ]
    },
    {
     "name": "stderr",
     "output_type": "stream",
     "text": [
      "Testing: 100%|███████████████████████████████████████████████████████████████████████| 95/95 [00:00<00:00, 95.63batch/s]\n"
     ]
    },
    {
     "name": "stdout",
     "output_type": "stream",
     "text": [
      "Test loss: 0.001007775754336954\n",
      "epoch time: 49.8287 seconds\n",
      "\n",
      "Starting epoch 73\n"
     ]
    },
    {
     "name": "stderr",
     "output_type": "stream",
     "text": [
      "Epoch 73/500: 100%|██████████████████████████████| 909/909 [00:48<00:00, 18.59batch/s, batch loss=0.001, mean epoch loss=0.000626]\n"
     ]
    },
    {
     "name": "stdout",
     "output_type": "stream",
     "text": [
      "Training loss: 0.0006260342543400869\n"
     ]
    },
    {
     "name": "stderr",
     "output_type": "stream",
     "text": [
      "Testing: 100%|███████████████████████████████████████████████████████████████████████| 95/95 [00:00<00:00, 96.06batch/s]\n"
     ]
    },
    {
     "name": "stdout",
     "output_type": "stream",
     "text": [
      "Test loss: 0.0009910025885083566\n",
      "epoch time: 49.8795 seconds\n",
      "\n",
      "Starting epoch 74\n"
     ]
    },
    {
     "name": "stderr",
     "output_type": "stream",
     "text": [
      "Epoch 74/500: 100%|███████████████████████████| 909/909 [00:48<00:00, 18.64batch/s, batch loss=0.000631, mean epoch loss=0.000626]\n"
     ]
    },
    {
     "name": "stdout",
     "output_type": "stream",
     "text": [
      "Training loss: 0.0006260554051686645\n"
     ]
    },
    {
     "name": "stderr",
     "output_type": "stream",
     "text": [
      "Testing: 100%|███████████████████████████████████████████████████████████████████████| 95/95 [00:01<00:00, 93.42batch/s]\n"
     ]
    },
    {
     "name": "stdout",
     "output_type": "stream",
     "text": [
      "Test loss: 0.0009959371316271197\n",
      "epoch time: 49.7866 seconds\n",
      "\n",
      "Starting epoch 75\n"
     ]
    },
    {
     "name": "stderr",
     "output_type": "stream",
     "text": [
      "Epoch 75/500: 100%|███████████████████████████| 909/909 [00:48<00:00, 18.64batch/s, batch loss=0.000552, mean epoch loss=0.000619]\n"
     ]
    },
    {
     "name": "stdout",
     "output_type": "stream",
     "text": [
      "Training loss: 0.0006187289345589296\n"
     ]
    },
    {
     "name": "stderr",
     "output_type": "stream",
     "text": [
      "Testing: 100%|███████████████████████████████████████████████████████████████████████| 95/95 [00:00<00:00, 95.04batch/s]\n"
     ]
    },
    {
     "name": "stdout",
     "output_type": "stream",
     "text": [
      "Test loss: 0.000968046759187832\n",
      "epoch time: 49.7782 seconds\n",
      "\n",
      "Starting epoch 76\n"
     ]
    },
    {
     "name": "stderr",
     "output_type": "stream",
     "text": [
      "Epoch 76/500: 100%|███████████████████████████| 909/909 [00:48<00:00, 18.61batch/s, batch loss=0.000665, mean epoch loss=0.000627]\n"
     ]
    },
    {
     "name": "stdout",
     "output_type": "stream",
     "text": [
      "Training loss: 0.000627443932330732\n"
     ]
    },
    {
     "name": "stderr",
     "output_type": "stream",
     "text": [
      "Testing: 100%|███████████████████████████████████████████████████████████████████████| 95/95 [00:01<00:00, 92.66batch/s]\n"
     ]
    },
    {
     "name": "stdout",
     "output_type": "stream",
     "text": [
      "Test loss: 0.0010130631216605636\n",
      "epoch time: 49.8803 seconds\n",
      "\n",
      "Starting epoch 77\n"
     ]
    },
    {
     "name": "stderr",
     "output_type": "stream",
     "text": [
      "Epoch 77/500: 100%|███████████████████████████| 909/909 [00:48<00:00, 18.60batch/s, batch loss=0.000626, mean epoch loss=0.000614]\n"
     ]
    },
    {
     "name": "stdout",
     "output_type": "stream",
     "text": [
      "Training loss: 0.0006136552629889686\n"
     ]
    },
    {
     "name": "stderr",
     "output_type": "stream",
     "text": [
      "Testing: 100%|███████████████████████████████████████████████████████████████████████| 95/95 [00:00<00:00, 96.22batch/s]\n"
     ]
    },
    {
     "name": "stdout",
     "output_type": "stream",
     "text": [
      "Test loss: 0.0009804638212938842\n",
      "epoch time: 49.8544 seconds\n",
      "\n",
      "Starting epoch 78\n"
     ]
    },
    {
     "name": "stderr",
     "output_type": "stream",
     "text": [
      "Epoch 78/500: 100%|███████████████████████████| 909/909 [00:48<00:00, 18.61batch/s, batch loss=0.000823, mean epoch loss=0.000618]\n"
     ]
    },
    {
     "name": "stdout",
     "output_type": "stream",
     "text": [
      "Training loss: 0.0006178411943941096\n"
     ]
    },
    {
     "name": "stderr",
     "output_type": "stream",
     "text": [
      "Testing: 100%|███████████████████████████████████████████████████████████████████████| 95/95 [00:01<00:00, 93.89batch/s]\n"
     ]
    },
    {
     "name": "stdout",
     "output_type": "stream",
     "text": [
      "Test loss: 0.0010069280075473024\n",
      "epoch time: 49.8551 seconds\n",
      "\n",
      "Starting epoch 79\n"
     ]
    },
    {
     "name": "stderr",
     "output_type": "stream",
     "text": [
      "Epoch 79/500: 100%|███████████████████████████| 909/909 [00:49<00:00, 18.54batch/s, batch loss=0.000115, mean epoch loss=0.000614]\n"
     ]
    },
    {
     "name": "stdout",
     "output_type": "stream",
     "text": [
      "Training loss: 0.0006140871601049187\n"
     ]
    },
    {
     "name": "stderr",
     "output_type": "stream",
     "text": [
      "Testing: 100%|███████████████████████████████████████████████████████████████████████| 95/95 [00:00<00:00, 95.28batch/s]\n"
     ]
    },
    {
     "name": "stdout",
     "output_type": "stream",
     "text": [
      "Test loss: 0.0009666998427986216\n",
      "epoch time: 50.0205 seconds\n",
      "\n",
      "Starting epoch 80\n"
     ]
    },
    {
     "name": "stderr",
     "output_type": "stream",
     "text": [
      "Epoch 80/500: 100%|███████████████████████████| 909/909 [00:48<00:00, 18.60batch/s, batch loss=0.000186, mean epoch loss=0.000611]\n"
     ]
    },
    {
     "name": "stdout",
     "output_type": "stream",
     "text": [
      "Training loss: 0.0006111917712590457\n"
     ]
    },
    {
     "name": "stderr",
     "output_type": "stream",
     "text": [
      "Testing: 100%|███████████████████████████████████████████████████████████████████████| 95/95 [00:00<00:00, 95.55batch/s]\n"
     ]
    },
    {
     "name": "stdout",
     "output_type": "stream",
     "text": [
      "Test loss: 0.0010055057813205118\n",
      "epoch time: 49.8793 seconds\n",
      "\n",
      "Starting epoch 81\n"
     ]
    },
    {
     "name": "stderr",
     "output_type": "stream",
     "text": [
      "Epoch 81/500: 100%|███████████████████████████| 909/909 [00:48<00:00, 18.58batch/s, batch loss=0.000965, mean epoch loss=0.000603]\n"
     ]
    },
    {
     "name": "stdout",
     "output_type": "stream",
     "text": [
      "Training loss: 0.0006030125622670228\n"
     ]
    },
    {
     "name": "stderr",
     "output_type": "stream",
     "text": [
      "Testing: 100%|███████████████████████████████████████████████████████████████████████| 95/95 [00:00<00:00, 95.90batch/s]\n"
     ]
    },
    {
     "name": "stdout",
     "output_type": "stream",
     "text": [
      "Test loss: 0.0009911066883145586\n",
      "epoch time: 49.9040 seconds\n",
      "\n",
      "Starting epoch 82\n"
     ]
    },
    {
     "name": "stderr",
     "output_type": "stream",
     "text": [
      "Epoch 82/500: 100%|█████████████████████████████| 909/909 [00:48<00:00, 18.57batch/s, batch loss=0.000337, mean epoch loss=0.0006]\n"
     ]
    },
    {
     "name": "stdout",
     "output_type": "stream",
     "text": [
      "Training loss: 0.0005997418618618013\n"
     ]
    },
    {
     "name": "stderr",
     "output_type": "stream",
     "text": [
      "Testing: 100%|███████████████████████████████████████████████████████████████████████| 95/95 [00:01<00:00, 92.67batch/s]\n"
     ]
    },
    {
     "name": "stdout",
     "output_type": "stream",
     "text": [
      "Test loss: 0.0009950275079494244\n",
      "epoch time: 49.9786 seconds\n",
      "\n",
      "Starting epoch 83\n"
     ]
    },
    {
     "name": "stderr",
     "output_type": "stream",
     "text": [
      "Epoch 83/500: 100%|████████████████████████████| 909/909 [00:48<00:00, 18.67batch/s, batch loss=0.00103, mean epoch loss=0.000599]\n"
     ]
    },
    {
     "name": "stdout",
     "output_type": "stream",
     "text": [
      "Training loss: 0.0005985259506227736\n"
     ]
    },
    {
     "name": "stderr",
     "output_type": "stream",
     "text": [
      "Testing: 100%|███████████████████████████████████████████████████████████████████████| 95/95 [00:00<00:00, 95.29batch/s]\n"
     ]
    },
    {
     "name": "stdout",
     "output_type": "stream",
     "text": [
      "Test loss: 0.0009827901765483578\n",
      "epoch time: 49.6881 seconds\n",
      "\n",
      "Starting epoch 84\n"
     ]
    },
    {
     "name": "stderr",
     "output_type": "stream",
     "text": [
      "Epoch 84/500: 100%|███████████████████████████| 909/909 [00:48<00:00, 18.70batch/s, batch loss=0.000556, mean epoch loss=0.000598]\n"
     ]
    },
    {
     "name": "stdout",
     "output_type": "stream",
     "text": [
      "Training loss: 0.0005984071515163338\n"
     ]
    },
    {
     "name": "stderr",
     "output_type": "stream",
     "text": [
      "Testing: 100%|███████████████████████████████████████████████████████████████████████| 95/95 [00:00<00:00, 95.26batch/s]\n"
     ]
    },
    {
     "name": "stdout",
     "output_type": "stream",
     "text": [
      "Test loss: 0.0009997216626192983\n",
      "epoch time: 49.6006 seconds\n",
      "\n",
      "Starting epoch 85\n"
     ]
    },
    {
     "name": "stderr",
     "output_type": "stream",
     "text": [
      "Epoch 85/500: 100%|███████████████████████████| 909/909 [00:48<00:00, 18.64batch/s, batch loss=0.000149, mean epoch loss=0.000594]\n"
     ]
    },
    {
     "name": "stdout",
     "output_type": "stream",
     "text": [
      "Training loss: 0.0005937285147277803\n"
     ]
    },
    {
     "name": "stderr",
     "output_type": "stream",
     "text": [
      "Testing: 100%|███████████████████████████████████████████████████████████████████████| 95/95 [00:01<00:00, 92.74batch/s]\n"
     ]
    },
    {
     "name": "stdout",
     "output_type": "stream",
     "text": [
      "Test loss: 0.0010058442329816323\n",
      "epoch time: 49.7850 seconds\n",
      "\n",
      "Starting epoch 86\n"
     ]
    },
    {
     "name": "stderr",
     "output_type": "stream",
     "text": [
      "Epoch 86/500: 100%|███████████████████████████| 909/909 [00:49<00:00, 18.48batch/s, batch loss=0.000848, mean epoch loss=0.000594]\n"
     ]
    },
    {
     "name": "stdout",
     "output_type": "stream",
     "text": [
      "Training loss: 0.0005935242955507716\n"
     ]
    },
    {
     "name": "stderr",
     "output_type": "stream",
     "text": [
      "Testing: 100%|███████████████████████████████████████████████████████████████████████| 95/95 [00:01<00:00, 94.49batch/s]\n"
     ]
    },
    {
     "name": "stdout",
     "output_type": "stream",
     "text": [
      "Test loss: 0.0009891258148280414\n",
      "epoch time: 50.1927 seconds\n",
      "\n",
      "Starting epoch 87\n"
     ]
    },
    {
     "name": "stderr",
     "output_type": "stream",
     "text": [
      "Epoch 87/500: 100%|███████████████████████████| 909/909 [00:48<00:00, 18.66batch/s, batch loss=0.000165, mean epoch loss=0.000592]\n"
     ]
    },
    {
     "name": "stdout",
     "output_type": "stream",
     "text": [
      "Training loss: 0.0005924141696956248\n"
     ]
    },
    {
     "name": "stderr",
     "output_type": "stream",
     "text": [
      "Testing: 100%|███████████████████████████████████████████████████████████████████████| 95/95 [00:00<00:00, 95.51batch/s]\n"
     ]
    },
    {
     "name": "stdout",
     "output_type": "stream",
     "text": [
      "Test loss: 0.0009794784075654063\n",
      "epoch time: 49.7076 seconds\n",
      "\n",
      "Starting epoch 88\n"
     ]
    },
    {
     "name": "stderr",
     "output_type": "stream",
     "text": [
      "Epoch 88/500: 100%|███████████████████████████| 909/909 [00:48<00:00, 18.64batch/s, batch loss=0.000229, mean epoch loss=0.000592]\n"
     ]
    },
    {
     "name": "stdout",
     "output_type": "stream",
     "text": [
      "Training loss: 0.0005916862051055894\n"
     ]
    },
    {
     "name": "stderr",
     "output_type": "stream",
     "text": [
      "Testing: 100%|███████████████████████████████████████████████████████████████████████| 95/95 [00:00<00:00, 95.96batch/s]\n"
     ]
    },
    {
     "name": "stdout",
     "output_type": "stream",
     "text": [
      "Test loss: 0.0010169489508323176\n",
      "epoch time: 49.7487 seconds\n",
      "\n",
      "Starting epoch 89\n"
     ]
    },
    {
     "name": "stderr",
     "output_type": "stream",
     "text": [
      "Epoch 89/500: 100%|████████████████████████████| 909/909 [00:48<00:00, 18.68batch/s, batch loss=0.00041, mean epoch loss=0.000591]\n"
     ]
    },
    {
     "name": "stdout",
     "output_type": "stream",
     "text": [
      "Training loss: 0.0005913384337862134\n"
     ]
    },
    {
     "name": "stderr",
     "output_type": "stream",
     "text": [
      "Testing: 100%|███████████████████████████████████████████████████████████████████████| 95/95 [00:00<00:00, 95.40batch/s]\n"
     ]
    },
    {
     "name": "stdout",
     "output_type": "stream",
     "text": [
      "Test loss: 0.0010134382243880903\n",
      "epoch time: 49.6631 seconds\n",
      "\n",
      "Starting epoch 90\n"
     ]
    },
    {
     "name": "stderr",
     "output_type": "stream",
     "text": [
      "Epoch 90/500: 100%|████████████████████████████| 909/909 [00:48<00:00, 18.64batch/s, batch loss=0.00153, mean epoch loss=0.000588]\n"
     ]
    },
    {
     "name": "stdout",
     "output_type": "stream",
     "text": [
      "Training loss: 0.0005880069827728923\n"
     ]
    },
    {
     "name": "stderr",
     "output_type": "stream",
     "text": [
      "Testing: 100%|███████████████████████████████████████████████████████████████████████| 95/95 [00:00<00:00, 95.80batch/s]\n"
     ]
    },
    {
     "name": "stdout",
     "output_type": "stream",
     "text": [
      "Test loss: 0.0010000396167589843\n",
      "epoch time: 49.7702 seconds\n",
      "\n",
      "Starting epoch 91\n"
     ]
    },
    {
     "name": "stderr",
     "output_type": "stream",
     "text": [
      "Epoch 91/500: 100%|███████████████████████████| 909/909 [00:48<00:00, 18.59batch/s, batch loss=0.000323, mean epoch loss=0.000587]\n"
     ]
    },
    {
     "name": "stdout",
     "output_type": "stream",
     "text": [
      "Training loss: 0.0005873916440714962\n"
     ]
    },
    {
     "name": "stderr",
     "output_type": "stream",
     "text": [
      "Testing: 100%|███████████████████████████████████████████████████████████████████████| 95/95 [00:01<00:00, 92.15batch/s]\n"
     ]
    },
    {
     "name": "stdout",
     "output_type": "stream",
     "text": [
      "Test loss: 0.0010251160544085954\n",
      "epoch time: 49.9337 seconds\n",
      "\n",
      "Starting epoch 92\n"
     ]
    },
    {
     "name": "stderr",
     "output_type": "stream",
     "text": [
      "Epoch 92/500: 100%|███████████████████████████| 909/909 [00:48<00:00, 18.63batch/s, batch loss=0.000753, mean epoch loss=0.000584]\n"
     ]
    },
    {
     "name": "stdout",
     "output_type": "stream",
     "text": [
      "Training loss: 0.0005843072241498836\n"
     ]
    },
    {
     "name": "stderr",
     "output_type": "stream",
     "text": [
      "Testing: 100%|███████████████████████████████████████████████████████████████████████| 95/95 [00:01<00:00, 92.40batch/s]\n"
     ]
    },
    {
     "name": "stdout",
     "output_type": "stream",
     "text": [
      "Test loss: 0.0009988790555661054\n",
      "epoch time: 49.8222 seconds\n",
      "\n",
      "Starting epoch 93\n"
     ]
    },
    {
     "name": "stderr",
     "output_type": "stream",
     "text": [
      "Epoch 93/500: 100%|███████████████████████████| 909/909 [00:48<00:00, 18.69batch/s, batch loss=0.000765, mean epoch loss=0.000581]\n"
     ]
    },
    {
     "name": "stdout",
     "output_type": "stream",
     "text": [
      "Training loss: 0.0005813200643910257\n"
     ]
    },
    {
     "name": "stderr",
     "output_type": "stream",
     "text": [
      "Testing: 100%|███████████████████████████████████████████████████████████████████████| 95/95 [00:01<00:00, 93.11batch/s]\n"
     ]
    },
    {
     "name": "stdout",
     "output_type": "stream",
     "text": [
      "Test loss: 0.0009762440783608901\n",
      "epoch time: 49.6533 seconds\n",
      "\n",
      "Starting epoch 94\n"
     ]
    },
    {
     "name": "stderr",
     "output_type": "stream",
     "text": [
      "Epoch 94/500: 100%|████████████████████████████| 909/909 [00:48<00:00, 18.72batch/s, batch loss=0.00147, mean epoch loss=0.000582]\n"
     ]
    },
    {
     "name": "stdout",
     "output_type": "stream",
     "text": [
      "Training loss: 0.000582141163599807\n"
     ]
    },
    {
     "name": "stderr",
     "output_type": "stream",
     "text": [
      "Testing: 100%|███████████████████████████████████████████████████████████████████████| 95/95 [00:00<00:00, 95.45batch/s]\n"
     ]
    },
    {
     "name": "stdout",
     "output_type": "stream",
     "text": [
      "Test loss: 0.0009901123378719939\n",
      "epoch time: 49.5462 seconds\n",
      "\n",
      "Starting epoch 95\n"
     ]
    },
    {
     "name": "stderr",
     "output_type": "stream",
     "text": [
      "Epoch 95/500: 100%|███████████████████████████| 909/909 [00:48<00:00, 18.68batch/s, batch loss=0.000511, mean epoch loss=0.000583]\n"
     ]
    },
    {
     "name": "stdout",
     "output_type": "stream",
     "text": [
      "Training loss: 0.0005825354905822211\n"
     ]
    },
    {
     "name": "stderr",
     "output_type": "stream",
     "text": [
      "Testing: 100%|███████████████████████████████████████████████████████████████████████| 95/95 [00:00<00:00, 97.56batch/s]\n"
     ]
    },
    {
     "name": "stdout",
     "output_type": "stream",
     "text": [
      "Test loss: 0.0009781307583723805\n",
      "epoch time: 49.6290 seconds\n",
      "\n",
      "Starting epoch 96\n"
     ]
    },
    {
     "name": "stderr",
     "output_type": "stream",
     "text": [
      "Epoch 96/500: 100%|████████████████████████████| 909/909 [00:48<00:00, 18.72batch/s, batch loss=0.000527, mean epoch loss=0.00058]\n"
     ]
    },
    {
     "name": "stdout",
     "output_type": "stream",
     "text": [
      "Training loss: 0.0005796615624134618\n"
     ]
    },
    {
     "name": "stderr",
     "output_type": "stream",
     "text": [
      "Testing: 100%|███████████████████████████████████████████████████████████████████████| 95/95 [00:00<00:00, 95.42batch/s]\n"
     ]
    },
    {
     "name": "stdout",
     "output_type": "stream",
     "text": [
      "Test loss: 0.0010021768893286782\n",
      "epoch time: 49.5509 seconds\n",
      "\n",
      "Starting epoch 97\n"
     ]
    },
    {
     "name": "stderr",
     "output_type": "stream",
     "text": [
      "Epoch 97/500: 100%|███████████████████████████| 909/909 [00:48<00:00, 18.64batch/s, batch loss=0.000372, mean epoch loss=0.000578]\n"
     ]
    },
    {
     "name": "stdout",
     "output_type": "stream",
     "text": [
      "Training loss: 0.0005782371391584199\n"
     ]
    },
    {
     "name": "stderr",
     "output_type": "stream",
     "text": [
      "Testing: 100%|███████████████████████████████████████████████████████████████████████| 95/95 [00:01<00:00, 93.67batch/s]\n"
     ]
    },
    {
     "name": "stdout",
     "output_type": "stream",
     "text": [
      "Test loss: 0.001000323631237016\n",
      "epoch time: 49.7793 seconds\n",
      "\n",
      "Starting epoch 98\n"
     ]
    },
    {
     "name": "stderr",
     "output_type": "stream",
     "text": [
      "Epoch 98/500: 100%|███████████████████████████| 909/909 [00:48<00:00, 18.67batch/s, batch loss=0.000843, mean epoch loss=0.000578]\n"
     ]
    },
    {
     "name": "stdout",
     "output_type": "stream",
     "text": [
      "Training loss: 0.0005778107342438448\n"
     ]
    },
    {
     "name": "stderr",
     "output_type": "stream",
     "text": [
      "Testing: 100%|███████████████████████████████████████████████████████████████████████| 95/95 [00:00<00:00, 95.77batch/s]\n"
     ]
    },
    {
     "name": "stdout",
     "output_type": "stream",
     "text": [
      "Test loss: 0.0010111931500049601\n",
      "epoch time: 49.6788 seconds\n",
      "\n",
      "Starting epoch 99\n"
     ]
    },
    {
     "name": "stderr",
     "output_type": "stream",
     "text": [
      "Epoch 99/500: 100%|████████████████████████████| 909/909 [00:48<00:00, 18.69batch/s, batch loss=0.00137, mean epoch loss=0.000577]\n"
     ]
    },
    {
     "name": "stdout",
     "output_type": "stream",
     "text": [
      "Training loss: 0.0005773032660004647\n"
     ]
    },
    {
     "name": "stderr",
     "output_type": "stream",
     "text": [
      "Testing: 100%|███████████████████████████████████████████████████████████████████████| 95/95 [00:00<00:00, 95.45batch/s]\n"
     ]
    },
    {
     "name": "stdout",
     "output_type": "stream",
     "text": [
      "Test loss: 0.0009961717376044314\n",
      "epoch time: 49.6265 seconds\n",
      "\n",
      "Starting epoch 100\n"
     ]
    },
    {
     "name": "stderr",
     "output_type": "stream",
     "text": [
      "Epoch 100/500: 100%|██████████████████████████| 909/909 [00:48<00:00, 18.72batch/s, batch loss=0.000278, mean epoch loss=0.000578]\n"
     ]
    },
    {
     "name": "stdout",
     "output_type": "stream",
     "text": [
      "Training loss: 0.0005778282021451664\n"
     ]
    },
    {
     "name": "stderr",
     "output_type": "stream",
     "text": [
      "Testing: 100%|███████████████████████████████████████████████████████████████████████| 95/95 [00:00<00:00, 95.41batch/s]\n"
     ]
    },
    {
     "name": "stdout",
     "output_type": "stream",
     "text": [
      "Test loss: 0.0009942712856603688\n",
      "epoch time: 49.5466 seconds\n",
      "\n",
      "Starting epoch 101\n"
     ]
    },
    {
     "name": "stderr",
     "output_type": "stream",
     "text": [
      "Epoch 101/500: 100%|███████████████████████████| 909/909 [00:48<00:00, 18.75batch/s, batch loss=0.00105, mean epoch loss=0.000576]\n"
     ]
    },
    {
     "name": "stdout",
     "output_type": "stream",
     "text": [
      "Training loss: 0.0005762248900390488\n"
     ]
    },
    {
     "name": "stderr",
     "output_type": "stream",
     "text": [
      "Testing: 100%|███████████████████████████████████████████████████████████████████████| 95/95 [00:00<00:00, 95.32batch/s]\n"
     ]
    },
    {
     "name": "stdout",
     "output_type": "stream",
     "text": [
      "Test loss: 0.0010049779881036987\n",
      "epoch time: 49.4727 seconds\n",
      "\n",
      "Starting epoch 102\n"
     ]
    },
    {
     "name": "stderr",
     "output_type": "stream",
     "text": [
      "Epoch 102/500: 100%|██████████████████████████| 909/909 [00:48<00:00, 18.73batch/s, batch loss=0.000257, mean epoch loss=0.000576]\n"
     ]
    },
    {
     "name": "stdout",
     "output_type": "stream",
     "text": [
      "Training loss: 0.0005756085380184776\n"
     ]
    },
    {
     "name": "stderr",
     "output_type": "stream",
     "text": [
      "Testing: 100%|███████████████████████████████████████████████████████████████████████| 95/95 [00:00<00:00, 95.61batch/s]\n"
     ]
    },
    {
     "name": "stdout",
     "output_type": "stream",
     "text": [
      "Test loss: 0.0010103527251263394\n",
      "epoch time: 49.5279 seconds\n",
      "\n",
      "Starting epoch 103\n"
     ]
    },
    {
     "name": "stderr",
     "output_type": "stream",
     "text": [
      "Epoch 103/500: 100%|██████████████████████████| 909/909 [00:48<00:00, 18.70batch/s, batch loss=0.000154, mean epoch loss=0.000574]\n"
     ]
    },
    {
     "name": "stdout",
     "output_type": "stream",
     "text": [
      "Training loss: 0.0005740690892975935\n"
     ]
    },
    {
     "name": "stderr",
     "output_type": "stream",
     "text": [
      "Testing: 100%|███████████████████████████████████████████████████████████████████████| 95/95 [00:00<00:00, 95.40batch/s]\n"
     ]
    },
    {
     "name": "stdout",
     "output_type": "stream",
     "text": [
      "Test loss: 0.0010054739274844332\n",
      "epoch time: 49.6085 seconds\n",
      "\n",
      "Starting epoch 104\n"
     ]
    },
    {
     "name": "stderr",
     "output_type": "stream",
     "text": [
      "Epoch 104/500: 100%|██████████████████████████| 909/909 [00:48<00:00, 18.66batch/s, batch loss=0.000683, mean epoch loss=0.000573]\n"
     ]
    },
    {
     "name": "stdout",
     "output_type": "stream",
     "text": [
      "Training loss: 0.0005734204594641402\n"
     ]
    },
    {
     "name": "stderr",
     "output_type": "stream",
     "text": [
      "Testing: 100%|███████████████████████████████████████████████████████████████████████| 95/95 [00:01<00:00, 94.90batch/s]\n"
     ]
    },
    {
     "name": "stdout",
     "output_type": "stream",
     "text": [
      "Test loss: 0.0009934381698258222\n",
      "epoch time: 49.7266 seconds\n",
      "\n",
      "Starting epoch 105\n"
     ]
    },
    {
     "name": "stderr",
     "output_type": "stream",
     "text": [
      "Epoch 105/500: 100%|██████████████████████████| 909/909 [00:48<00:00, 18.72batch/s, batch loss=0.000997, mean epoch loss=0.000571]\n"
     ]
    },
    {
     "name": "stdout",
     "output_type": "stream",
     "text": [
      "Training loss: 0.000571437538012978\n"
     ]
    },
    {
     "name": "stderr",
     "output_type": "stream",
     "text": [
      "Testing: 100%|███████████████████████████████████████████████████████████████████████| 95/95 [00:00<00:00, 95.60batch/s]\n"
     ]
    },
    {
     "name": "stdout",
     "output_type": "stream",
     "text": [
      "Test loss: 0.0010078975340308573\n",
      "epoch time: 49.5480 seconds\n",
      "\n",
      "Starting epoch 106\n"
     ]
    },
    {
     "name": "stderr",
     "output_type": "stream",
     "text": [
      "Epoch 106/500: 100%|██████████████████████████| 909/909 [00:48<00:00, 18.68batch/s, batch loss=0.000402, mean epoch loss=0.000572]\n"
     ]
    },
    {
     "name": "stdout",
     "output_type": "stream",
     "text": [
      "Training loss: 0.0005719377689717793\n"
     ]
    },
    {
     "name": "stderr",
     "output_type": "stream",
     "text": [
      "Testing: 100%|███████████████████████████████████████████████████████████████████████| 95/95 [00:01<00:00, 94.61batch/s]\n"
     ]
    },
    {
     "name": "stdout",
     "output_type": "stream",
     "text": [
      "Test loss: 0.0010126756779898546\n",
      "epoch time: 49.6592 seconds\n",
      "\n",
      "Starting epoch 107\n"
     ]
    },
    {
     "name": "stderr",
     "output_type": "stream",
     "text": [
      "Epoch 107/500: 100%|██████████████████████████| 909/909 [00:48<00:00, 18.74batch/s, batch loss=0.000785, mean epoch loss=0.000571]\n"
     ]
    },
    {
     "name": "stdout",
     "output_type": "stream",
     "text": [
      "Training loss: 0.0005711217146030396\n"
     ]
    },
    {
     "name": "stderr",
     "output_type": "stream",
     "text": [
      "Testing: 100%|███████████████████████████████████████████████████████████████████████| 95/95 [00:00<00:00, 95.33batch/s]\n"
     ]
    },
    {
     "name": "stdout",
     "output_type": "stream",
     "text": [
      "Test loss: 0.0010101983878197834\n",
      "epoch time: 49.5068 seconds\n",
      "\n",
      "Starting epoch 108\n"
     ]
    },
    {
     "name": "stderr",
     "output_type": "stream",
     "text": [
      "Epoch 108/500: 100%|██████████████████████████| 909/909 [00:48<00:00, 18.73batch/s, batch loss=0.000282, mean epoch loss=0.000571]\n"
     ]
    },
    {
     "name": "stdout",
     "output_type": "stream",
     "text": [
      "Training loss: 0.0005710496849919478\n"
     ]
    },
    {
     "name": "stderr",
     "output_type": "stream",
     "text": [
      "Testing: 100%|███████████████████████████████████████████████████████████████████████| 95/95 [00:00<00:00, 95.33batch/s]\n"
     ]
    },
    {
     "name": "stdout",
     "output_type": "stream",
     "text": [
      "Test loss: 0.0010023467221272815\n",
      "\n",
      "Early stopping at epoch 108. No improvement in test loss for 50 epochs.\n",
      "lr: 8.769533075169251e-05, weight decay: 2.7559395538018623e-05, final epoch: 57, final test loss: 0.000943931510310473\n",
      "---------------------------------------------------------\n",
      "starting trial 1\n",
      "lr: 2.1104834703347795e-05, weight decay: 0.00012081495499235992\n",
      "\n",
      "Starting epoch 1\n"
     ]
    },
    {
     "name": "stderr",
     "output_type": "stream",
     "text": [
      "Epoch 1/500: 100%|█████████████████████████████| 909/909 [00:48<00:00, 18.72batch/s, batch loss=0.000353, mean epoch loss=0.00244]\n"
     ]
    },
    {
     "name": "stdout",
     "output_type": "stream",
     "text": [
      "Training loss: 0.002441508858035625\n"
     ]
    },
    {
     "name": "stderr",
     "output_type": "stream",
     "text": [
      "Testing: 100%|███████████████████████████████████████████████████████████████████████| 95/95 [00:01<00:00, 92.49batch/s]\n"
     ]
    },
    {
     "name": "stdout",
     "output_type": "stream",
     "text": [
      "Test loss: 0.0018337063895734517\n",
      "epoch time: 49.5877 seconds\n",
      "\n",
      "Starting epoch 2\n"
     ]
    },
    {
     "name": "stderr",
     "output_type": "stream",
     "text": [
      "Epoch 2/500: 100%|█████████████████████████████| 909/909 [00:48<00:00, 18.74batch/s, batch loss=0.000795, mean epoch loss=0.00175]\n"
     ]
    },
    {
     "name": "stdout",
     "output_type": "stream",
     "text": [
      "Training loss: 0.0017510699357658652\n"
     ]
    },
    {
     "name": "stderr",
     "output_type": "stream",
     "text": [
      "Testing: 100%|███████████████████████████████████████████████████████████████████████| 95/95 [00:00<00:00, 95.31batch/s]\n"
     ]
    },
    {
     "name": "stdout",
     "output_type": "stream",
     "text": [
      "Test loss: 0.0016436185932865268\n",
      "epoch time: 49.4950 seconds\n",
      "\n",
      "Starting epoch 3\n"
     ]
    },
    {
     "name": "stderr",
     "output_type": "stream",
     "text": [
      "Epoch 3/500: 100%|█████████████████████████████| 909/909 [00:48<00:00, 18.75batch/s, batch loss=0.000996, mean epoch loss=0.00163]\n"
     ]
    },
    {
     "name": "stdout",
     "output_type": "stream",
     "text": [
      "Training loss: 0.0016250641302157469\n"
     ]
    },
    {
     "name": "stderr",
     "output_type": "stream",
     "text": [
      "Testing: 100%|███████████████████████████████████████████████████████████████████████| 95/95 [00:00<00:00, 95.49batch/s]\n"
     ]
    },
    {
     "name": "stdout",
     "output_type": "stream",
     "text": [
      "Test loss: 0.0015448413948577486\n",
      "epoch time: 49.4676 seconds\n",
      "\n",
      "Starting epoch 4\n"
     ]
    },
    {
     "name": "stderr",
     "output_type": "stream",
     "text": [
      "Epoch 4/500: 100%|█████████████████████████████| 909/909 [00:48<00:00, 18.73batch/s, batch loss=0.000428, mean epoch loss=0.00156]\n"
     ]
    },
    {
     "name": "stdout",
     "output_type": "stream",
     "text": [
      "Training loss: 0.001562187639351963\n"
     ]
    },
    {
     "name": "stderr",
     "output_type": "stream",
     "text": [
      "Testing: 100%|███████████████████████████████████████████████████████████████████████| 95/95 [00:01<00:00, 92.52batch/s]\n"
     ]
    },
    {
     "name": "stdout",
     "output_type": "stream",
     "text": [
      "Test loss: 0.0014589809990291924\n",
      "epoch time: 49.5518 seconds\n",
      "\n",
      "Starting epoch 5\n"
     ]
    },
    {
     "name": "stderr",
     "output_type": "stream",
     "text": [
      "Epoch 5/500: 100%|█████████████████████████████| 909/909 [00:48<00:00, 18.75batch/s, batch loss=0.000715, mean epoch loss=0.00151]\n"
     ]
    },
    {
     "name": "stdout",
     "output_type": "stream",
     "text": [
      "Training loss: 0.00151377748585615\n"
     ]
    },
    {
     "name": "stderr",
     "output_type": "stream",
     "text": [
      "Testing: 100%|███████████████████████████████████████████████████████████████████████| 95/95 [00:01<00:00, 92.30batch/s]\n"
     ]
    },
    {
     "name": "stdout",
     "output_type": "stream",
     "text": [
      "Test loss: 0.0014736165010713433\n",
      "epoch time: 49.5162 seconds\n",
      "\n",
      "Starting epoch 6\n"
     ]
    },
    {
     "name": "stderr",
     "output_type": "stream",
     "text": [
      "Epoch 6/500: 100%|█████████████████████████████| 909/909 [00:48<00:00, 18.63batch/s, batch loss=0.000836, mean epoch loss=0.00148]\n"
     ]
    },
    {
     "name": "stdout",
     "output_type": "stream",
     "text": [
      "Training loss: 0.0014818956132019471\n"
     ]
    },
    {
     "name": "stderr",
     "output_type": "stream",
     "text": [
      "Testing: 100%|███████████████████████████████████████████████████████████████████████| 95/95 [00:00<00:00, 96.53batch/s]\n"
     ]
    },
    {
     "name": "stdout",
     "output_type": "stream",
     "text": [
      "Test loss: 0.0014499693551394892\n",
      "epoch time: 49.7830 seconds\n",
      "\n",
      "Starting epoch 7\n"
     ]
    },
    {
     "name": "stderr",
     "output_type": "stream",
     "text": [
      "Epoch 7/500: 100%|██████████████████████████████| 909/909 [00:48<00:00, 18.67batch/s, batch loss=0.00116, mean epoch loss=0.00145]\n"
     ]
    },
    {
     "name": "stdout",
     "output_type": "stream",
     "text": [
      "Training loss: 0.0014479742308605228\n"
     ]
    },
    {
     "name": "stderr",
     "output_type": "stream",
     "text": [
      "Testing: 100%|███████████████████████████████████████████████████████████████████████| 95/95 [00:00<00:00, 95.96batch/s]\n"
     ]
    },
    {
     "name": "stdout",
     "output_type": "stream",
     "text": [
      "Test loss: 0.001354050770169124\n",
      "epoch time: 49.6705 seconds\n",
      "\n",
      "Starting epoch 8\n"
     ]
    },
    {
     "name": "stderr",
     "output_type": "stream",
     "text": [
      "Epoch 8/500: 100%|██████████████████████████████| 909/909 [00:48<00:00, 18.69batch/s, batch loss=0.00162, mean epoch loss=0.00141]\n"
     ]
    },
    {
     "name": "stdout",
     "output_type": "stream",
     "text": [
      "Training loss: 0.0014092684399260502\n"
     ]
    },
    {
     "name": "stderr",
     "output_type": "stream",
     "text": [
      "Testing: 100%|███████████████████████████████████████████████████████████████████████| 95/95 [00:01<00:00, 93.96batch/s]\n"
     ]
    },
    {
     "name": "stdout",
     "output_type": "stream",
     "text": [
      "Test loss: 0.0013806532853969226\n",
      "epoch time: 49.6427 seconds\n",
      "\n",
      "Starting epoch 9\n"
     ]
    },
    {
     "name": "stderr",
     "output_type": "stream",
     "text": [
      "Epoch 9/500: 100%|█████████████████████████████| 909/909 [00:48<00:00, 18.67batch/s, batch loss=0.000639, mean epoch loss=0.00139]\n"
     ]
    },
    {
     "name": "stdout",
     "output_type": "stream",
     "text": [
      "Training loss: 0.00139265802722643\n"
     ]
    },
    {
     "name": "stderr",
     "output_type": "stream",
     "text": [
      "Testing: 100%|███████████████████████████████████████████████████████████████████████| 95/95 [00:00<00:00, 96.19batch/s]\n"
     ]
    },
    {
     "name": "stdout",
     "output_type": "stream",
     "text": [
      "Test loss: 0.0013441339530369364\n",
      "epoch time: 49.6802 seconds\n",
      "\n",
      "Starting epoch 10\n"
     ]
    },
    {
     "name": "stderr",
     "output_type": "stream",
     "text": [
      "Epoch 10/500: 100%|████████████████████████████| 909/909 [00:48<00:00, 18.65batch/s, batch loss=0.000839, mean epoch loss=0.00135]\n"
     ]
    },
    {
     "name": "stdout",
     "output_type": "stream",
     "text": [
      "Training loss: 0.001347097768706994\n"
     ]
    },
    {
     "name": "stderr",
     "output_type": "stream",
     "text": [
      "Testing: 100%|███████████████████████████████████████████████████████████████████████| 95/95 [00:00<00:00, 95.92batch/s]\n"
     ]
    },
    {
     "name": "stdout",
     "output_type": "stream",
     "text": [
      "Test loss: 0.0013871179473904992\n",
      "epoch time: 49.7323 seconds\n",
      "\n",
      "Starting epoch 11\n"
     ]
    },
    {
     "name": "stderr",
     "output_type": "stream",
     "text": [
      "Epoch 11/500: 100%|████████████████████████████| 909/909 [00:48<00:00, 18.67batch/s, batch loss=0.000562, mean epoch loss=0.00132]\n"
     ]
    },
    {
     "name": "stdout",
     "output_type": "stream",
     "text": [
      "Training loss: 0.00132041326750087\n"
     ]
    },
    {
     "name": "stderr",
     "output_type": "stream",
     "text": [
      "Testing: 100%|███████████████████████████████████████████████████████████████████████| 95/95 [00:00<00:00, 96.19batch/s]\n"
     ]
    },
    {
     "name": "stdout",
     "output_type": "stream",
     "text": [
      "Test loss: 0.0012578862688602194\n",
      "epoch time: 49.6892 seconds\n",
      "\n",
      "Starting epoch 12\n"
     ]
    },
    {
     "name": "stderr",
     "output_type": "stream",
     "text": [
      "Epoch 12/500: 100%|████████████████████████████| 909/909 [00:49<00:00, 18.54batch/s, batch loss=0.000608, mean epoch loss=0.00131]\n"
     ]
    },
    {
     "name": "stdout",
     "output_type": "stream",
     "text": [
      "Training loss: 0.0013058802884684752\n"
     ]
    },
    {
     "name": "stderr",
     "output_type": "stream",
     "text": [
      "Testing: 100%|███████████████████████████████████████████████████████████████████████| 95/95 [00:00<00:00, 97.52batch/s]\n"
     ]
    },
    {
     "name": "stdout",
     "output_type": "stream",
     "text": [
      "Test loss: 0.0012992625835498697\n",
      "epoch time: 50.0076 seconds\n",
      "\n",
      "Starting epoch 13\n"
     ]
    },
    {
     "name": "stderr",
     "output_type": "stream",
     "text": [
      "Epoch 13/500: 100%|█████████████████████████████| 909/909 [00:48<00:00, 18.71batch/s, batch loss=0.00307, mean epoch loss=0.00129]\n"
     ]
    },
    {
     "name": "stdout",
     "output_type": "stream",
     "text": [
      "Training loss: 0.0012851140130129648\n"
     ]
    },
    {
     "name": "stderr",
     "output_type": "stream",
     "text": [
      "Testing: 100%|███████████████████████████████████████████████████████████████████████| 95/95 [00:00<00:00, 97.94batch/s]\n"
     ]
    },
    {
     "name": "stdout",
     "output_type": "stream",
     "text": [
      "Test loss: 0.0012929882039315998\n",
      "epoch time: 49.5632 seconds\n",
      "\n",
      "Starting epoch 14\n"
     ]
    },
    {
     "name": "stderr",
     "output_type": "stream",
     "text": [
      "Epoch 14/500: 100%|████████████████████████████| 909/909 [00:48<00:00, 18.70batch/s, batch loss=0.000545, mean epoch loss=0.00126]\n"
     ]
    },
    {
     "name": "stdout",
     "output_type": "stream",
     "text": [
      "Training loss: 0.0012598830645102741\n"
     ]
    },
    {
     "name": "stderr",
     "output_type": "stream",
     "text": [
      "Testing: 100%|███████████████████████████████████████████████████████████████████████| 95/95 [00:00<00:00, 95.90batch/s]\n"
     ]
    },
    {
     "name": "stdout",
     "output_type": "stream",
     "text": [
      "Test loss: 0.0012663128096487765\n",
      "epoch time: 49.6040 seconds\n",
      "\n",
      "Starting epoch 15\n"
     ]
    },
    {
     "name": "stderr",
     "output_type": "stream",
     "text": [
      "Epoch 15/500: 100%|█████████████████████████████| 909/909 [00:48<00:00, 18.70batch/s, batch loss=0.00113, mean epoch loss=0.00125]\n"
     ]
    },
    {
     "name": "stdout",
     "output_type": "stream",
     "text": [
      "Training loss: 0.0012455706741747665\n"
     ]
    },
    {
     "name": "stderr",
     "output_type": "stream",
     "text": [
      "Testing: 100%|███████████████████████████████████████████████████████████████████████| 95/95 [00:00<00:00, 98.25batch/s]\n"
     ]
    },
    {
     "name": "stdout",
     "output_type": "stream",
     "text": [
      "Test loss: 0.001240024190873986\n",
      "epoch time: 49.5709 seconds\n",
      "\n",
      "Starting epoch 16\n"
     ]
    },
    {
     "name": "stderr",
     "output_type": "stream",
     "text": [
      "Epoch 16/500: 100%|████████████████████████████| 909/909 [00:48<00:00, 18.72batch/s, batch loss=0.000303, mean epoch loss=0.00123]\n"
     ]
    },
    {
     "name": "stdout",
     "output_type": "stream",
     "text": [
      "Training loss: 0.00122952570183532\n"
     ]
    },
    {
     "name": "stderr",
     "output_type": "stream",
     "text": [
      "Testing: 100%|███████████████████████████████████████████████████████████████████████| 95/95 [00:00<00:00, 95.99batch/s]\n"
     ]
    },
    {
     "name": "stdout",
     "output_type": "stream",
     "text": [
      "Test loss: 0.0011752039062373927\n",
      "epoch time: 49.5569 seconds\n",
      "\n",
      "Starting epoch 17\n"
     ]
    },
    {
     "name": "stderr",
     "output_type": "stream",
     "text": [
      "Epoch 17/500: 100%|█████████████████████████████| 909/909 [00:48<00:00, 18.66batch/s, batch loss=0.00184, mean epoch loss=0.00122]\n"
     ]
    },
    {
     "name": "stdout",
     "output_type": "stream",
     "text": [
      "Training loss: 0.001218478819572767\n"
     ]
    },
    {
     "name": "stderr",
     "output_type": "stream",
     "text": [
      "Testing: 100%|███████████████████████████████████████████████████████████████████████| 95/95 [00:00<00:00, 95.91batch/s]\n"
     ]
    },
    {
     "name": "stdout",
     "output_type": "stream",
     "text": [
      "Test loss: 0.001255402788458588\n",
      "epoch time: 49.7052 seconds\n",
      "\n",
      "Starting epoch 18\n"
     ]
    },
    {
     "name": "stderr",
     "output_type": "stream",
     "text": [
      "Epoch 18/500: 100%|█████████████████████████████| 909/909 [00:48<00:00, 18.64batch/s, batch loss=0.00115, mean epoch loss=0.00121]\n"
     ]
    },
    {
     "name": "stdout",
     "output_type": "stream",
     "text": [
      "Training loss: 0.0012066045003461348\n"
     ]
    },
    {
     "name": "stderr",
     "output_type": "stream",
     "text": [
      "Testing: 100%|███████████████████████████████████████████████████████████████████████| 95/95 [00:00<00:00, 97.81batch/s]\n"
     ]
    },
    {
     "name": "stdout",
     "output_type": "stream",
     "text": [
      "Test loss: 0.001232298876244673\n",
      "epoch time: 49.7373 seconds\n",
      "\n",
      "Starting epoch 19\n"
     ]
    },
    {
     "name": "stderr",
     "output_type": "stream",
     "text": [
      "Epoch 19/500: 100%|████████████████████████████| 909/909 [00:48<00:00, 18.61batch/s, batch loss=0.000466, mean epoch loss=0.00119]\n"
     ]
    },
    {
     "name": "stdout",
     "output_type": "stream",
     "text": [
      "Training loss: 0.0011908639416985348\n"
     ]
    },
    {
     "name": "stderr",
     "output_type": "stream",
     "text": [
      "Testing: 100%|███████████████████████████████████████████████████████████████████████| 95/95 [00:00<00:00, 95.69batch/s]\n"
     ]
    },
    {
     "name": "stdout",
     "output_type": "stream",
     "text": [
      "Test loss: 0.0011350105551843482\n",
      "epoch time: 49.8530 seconds\n",
      "\n",
      "Starting epoch 20\n"
     ]
    },
    {
     "name": "stderr",
     "output_type": "stream",
     "text": [
      "Epoch 20/500: 100%|█████████████████████████████| 909/909 [00:48<00:00, 18.69batch/s, batch loss=0.00306, mean epoch loss=0.00118]\n"
     ]
    },
    {
     "name": "stdout",
     "output_type": "stream",
     "text": [
      "Training loss: 0.0011830759999926644\n"
     ]
    },
    {
     "name": "stderr",
     "output_type": "stream",
     "text": [
      "Testing: 100%|███████████████████████████████████████████████████████████████████████| 95/95 [00:01<00:00, 93.66batch/s]\n"
     ]
    },
    {
     "name": "stdout",
     "output_type": "stream",
     "text": [
      "Test loss: 0.0013266069168151404\n",
      "epoch time: 49.6580 seconds\n",
      "\n",
      "Starting epoch 21\n"
     ]
    },
    {
     "name": "stderr",
     "output_type": "stream",
     "text": [
      "Epoch 21/500: 100%|████████████████████████████| 909/909 [00:48<00:00, 18.63batch/s, batch loss=0.000602, mean epoch loss=0.00116]\n"
     ]
    },
    {
     "name": "stdout",
     "output_type": "stream",
     "text": [
      "Training loss: 0.0011631784187022768\n"
     ]
    },
    {
     "name": "stderr",
     "output_type": "stream",
     "text": [
      "Testing: 100%|███████████████████████████████████████████████████████████████████████| 95/95 [00:00<00:00, 98.02batch/s]\n"
     ]
    },
    {
     "name": "stdout",
     "output_type": "stream",
     "text": [
      "Test loss: 0.0012042738059167995\n",
      "epoch time: 49.7638 seconds\n",
      "\n",
      "Starting epoch 22\n"
     ]
    },
    {
     "name": "stderr",
     "output_type": "stream",
     "text": [
      "Epoch 22/500: 100%|█████████████████████████████| 909/909 [00:48<00:00, 18.67batch/s, batch loss=0.00321, mean epoch loss=0.00115]\n"
     ]
    },
    {
     "name": "stdout",
     "output_type": "stream",
     "text": [
      "Training loss: 0.0011548570154384737\n"
     ]
    },
    {
     "name": "stderr",
     "output_type": "stream",
     "text": [
      "Testing: 100%|███████████████████████████████████████████████████████████████████████| 95/95 [00:00<00:00, 98.02batch/s]\n"
     ]
    },
    {
     "name": "stdout",
     "output_type": "stream",
     "text": [
      "Test loss: 0.0012117243307569114\n",
      "epoch time: 49.6580 seconds\n",
      "\n",
      "Starting epoch 23\n"
     ]
    },
    {
     "name": "stderr",
     "output_type": "stream",
     "text": [
      "Epoch 23/500: 100%|█████████████████████████████| 909/909 [00:48<00:00, 18.63batch/s, batch loss=0.00181, mean epoch loss=0.00115]\n"
     ]
    },
    {
     "name": "stdout",
     "output_type": "stream",
     "text": [
      "Training loss: 0.0011466997910605495\n"
     ]
    },
    {
     "name": "stderr",
     "output_type": "stream",
     "text": [
      "Testing: 100%|███████████████████████████████████████████████████████████████████████| 95/95 [00:01<00:00, 94.01batch/s]\n"
     ]
    },
    {
     "name": "stdout",
     "output_type": "stream",
     "text": [
      "Test loss: 0.00117652265808398\n",
      "epoch time: 49.8020 seconds\n",
      "\n",
      "Starting epoch 24\n"
     ]
    },
    {
     "name": "stderr",
     "output_type": "stream",
     "text": [
      "Epoch 24/500: 100%|█████████████████████████████| 909/909 [00:48<00:00, 18.63batch/s, batch loss=0.00267, mean epoch loss=0.00114]\n"
     ]
    },
    {
     "name": "stdout",
     "output_type": "stream",
     "text": [
      "Training loss: 0.001139755153613461\n"
     ]
    },
    {
     "name": "stderr",
     "output_type": "stream",
     "text": [
      "Testing: 100%|███████████████████████████████████████████████████████████████████████| 95/95 [00:00<00:00, 95.95batch/s]\n"
     ]
    },
    {
     "name": "stdout",
     "output_type": "stream",
     "text": [
      "Test loss: 0.001147812989381093\n",
      "epoch time: 49.7844 seconds\n",
      "\n",
      "Starting epoch 25\n"
     ]
    },
    {
     "name": "stderr",
     "output_type": "stream",
     "text": [
      "Epoch 25/500: 100%|█████████████████████████████| 909/909 [00:48<00:00, 18.59batch/s, batch loss=0.00118, mean epoch loss=0.00113]\n"
     ]
    },
    {
     "name": "stdout",
     "output_type": "stream",
     "text": [
      "Training loss: 0.0011308461509044851\n"
     ]
    },
    {
     "name": "stderr",
     "output_type": "stream",
     "text": [
      "Testing: 100%|███████████████████████████████████████████████████████████████████████| 95/95 [00:01<00:00, 92.58batch/s]\n"
     ]
    },
    {
     "name": "stdout",
     "output_type": "stream",
     "text": [
      "Test loss: 0.0011158581553517204\n",
      "epoch time: 49.9247 seconds\n",
      "\n",
      "Starting epoch 26\n"
     ]
    },
    {
     "name": "stderr",
     "output_type": "stream",
     "text": [
      "Epoch 26/500: 100%|████████████████████████████| 909/909 [00:48<00:00, 18.55batch/s, batch loss=0.000735, mean epoch loss=0.00111]\n"
     ]
    },
    {
     "name": "stdout",
     "output_type": "stream",
     "text": [
      "Training loss: 0.001111346140080741\n"
     ]
    },
    {
     "name": "stderr",
     "output_type": "stream",
     "text": [
      "Testing: 100%|███████████████████████████████████████████████████████████████████████| 95/95 [00:01<00:00, 93.03batch/s]\n"
     ]
    },
    {
     "name": "stdout",
     "output_type": "stream",
     "text": [
      "Test loss: 0.0010901164827182104\n",
      "epoch time: 50.0166 seconds\n",
      "\n",
      "Starting epoch 27\n"
     ]
    },
    {
     "name": "stderr",
     "output_type": "stream",
     "text": [
      "Epoch 27/500: 100%|█████████████████████████████| 909/909 [00:48<00:00, 18.57batch/s, batch loss=0.00112, mean epoch loss=0.00111]\n"
     ]
    },
    {
     "name": "stdout",
     "output_type": "stream",
     "text": [
      "Training loss: 0.0011138120457536808\n"
     ]
    },
    {
     "name": "stderr",
     "output_type": "stream",
     "text": [
      "Testing: 100%|███████████████████████████████████████████████████████████████████████| 95/95 [00:00<00:00, 97.49batch/s]\n"
     ]
    },
    {
     "name": "stdout",
     "output_type": "stream",
     "text": [
      "Test loss: 0.0011218137680675442\n",
      "epoch time: 49.9247 seconds\n",
      "\n",
      "Starting epoch 28\n"
     ]
    },
    {
     "name": "stderr",
     "output_type": "stream",
     "text": [
      "Epoch 28/500: 100%|████████████████████████████| 909/909 [00:48<00:00, 18.60batch/s, batch loss=0.000838, mean epoch loss=0.00111]\n"
     ]
    },
    {
     "name": "stdout",
     "output_type": "stream",
     "text": [
      "Training loss: 0.0011057728458208347\n"
     ]
    },
    {
     "name": "stderr",
     "output_type": "stream",
     "text": [
      "Testing: 100%|███████████████████████████████████████████████████████████████████████| 95/95 [00:01<00:00, 94.79batch/s]\n"
     ]
    },
    {
     "name": "stdout",
     "output_type": "stream",
     "text": [
      "Test loss: 0.0011023444129693272\n",
      "epoch time: 49.8840 seconds\n",
      "\n",
      "Starting epoch 29\n"
     ]
    },
    {
     "name": "stderr",
     "output_type": "stream",
     "text": [
      "Epoch 29/500: 100%|██████████████████████████████| 909/909 [00:48<00:00, 18.62batch/s, batch loss=0.00244, mean epoch loss=0.0011]\n"
     ]
    },
    {
     "name": "stdout",
     "output_type": "stream",
     "text": [
      "Training loss: 0.001099641524104858\n"
     ]
    },
    {
     "name": "stderr",
     "output_type": "stream",
     "text": [
      "Testing: 100%|███████████████████████████████████████████████████████████████████████| 95/95 [00:00<00:00, 96.14batch/s]\n"
     ]
    },
    {
     "name": "stdout",
     "output_type": "stream",
     "text": [
      "Test loss: 0.001194520143939084\n",
      "epoch time: 49.8162 seconds\n",
      "\n",
      "Starting epoch 30\n"
     ]
    },
    {
     "name": "stderr",
     "output_type": "stream",
     "text": [
      "Epoch 30/500: 100%|████████████████████████████| 909/909 [00:48<00:00, 18.62batch/s, batch loss=0.000194, mean epoch loss=0.00109]\n"
     ]
    },
    {
     "name": "stdout",
     "output_type": "stream",
     "text": [
      "Training loss: 0.0010851350578935908\n"
     ]
    },
    {
     "name": "stderr",
     "output_type": "stream",
     "text": [
      "Testing: 100%|███████████████████████████████████████████████████████████████████████| 95/95 [00:00<00:00, 96.12batch/s]\n"
     ]
    },
    {
     "name": "stdout",
     "output_type": "stream",
     "text": [
      "Test loss: 0.0013224528008753335\n",
      "epoch time: 49.8087 seconds\n",
      "\n",
      "Starting epoch 31\n"
     ]
    },
    {
     "name": "stderr",
     "output_type": "stream",
     "text": [
      "Epoch 31/500: 100%|█████████████████████████████| 909/909 [00:48<00:00, 18.66batch/s, batch loss=0.00424, mean epoch loss=0.00108]\n"
     ]
    },
    {
     "name": "stdout",
     "output_type": "stream",
     "text": [
      "Training loss: 0.001083282552483672\n"
     ]
    },
    {
     "name": "stderr",
     "output_type": "stream",
     "text": [
      "Testing: 100%|███████████████████████████████████████████████████████████████████████| 95/95 [00:00<00:00, 97.77batch/s]\n"
     ]
    },
    {
     "name": "stdout",
     "output_type": "stream",
     "text": [
      "Test loss: 0.001143559029227809\n",
      "epoch time: 49.7011 seconds\n",
      "\n",
      "Starting epoch 32\n"
     ]
    },
    {
     "name": "stderr",
     "output_type": "stream",
     "text": [
      "Epoch 32/500: 100%|█████████████████████████████| 909/909 [00:49<00:00, 18.53batch/s, batch loss=0.00162, mean epoch loss=0.00108]\n"
     ]
    },
    {
     "name": "stdout",
     "output_type": "stream",
     "text": [
      "Training loss: 0.001076933680043253\n"
     ]
    },
    {
     "name": "stderr",
     "output_type": "stream",
     "text": [
      "Testing: 100%|███████████████████████████████████████████████████████████████████████| 95/95 [00:00<00:00, 96.62batch/s]\n"
     ]
    },
    {
     "name": "stdout",
     "output_type": "stream",
     "text": [
      "Test loss: 0.0011653248808885875\n",
      "epoch time: 50.0323 seconds\n",
      "\n",
      "Starting epoch 33\n"
     ]
    },
    {
     "name": "stderr",
     "output_type": "stream",
     "text": [
      "Epoch 33/500: 100%|█████████████████████████████| 909/909 [00:49<00:00, 18.45batch/s, batch loss=0.00591, mean epoch loss=0.00107]\n"
     ]
    },
    {
     "name": "stdout",
     "output_type": "stream",
     "text": [
      "Training loss: 0.00106550882587831\n"
     ]
    },
    {
     "name": "stderr",
     "output_type": "stream",
     "text": [
      "Testing: 100%|███████████████████████████████████████████████████████████████████████| 95/95 [00:00<00:00, 95.70batch/s]\n"
     ]
    },
    {
     "name": "stdout",
     "output_type": "stream",
     "text": [
      "Test loss: 0.0012244997218275736\n",
      "epoch time: 50.2562 seconds\n",
      "\n",
      "Starting epoch 34\n"
     ]
    },
    {
     "name": "stderr",
     "output_type": "stream",
     "text": [
      "Epoch 34/500: 100%|████████████████████████████| 909/909 [00:48<00:00, 18.67batch/s, batch loss=0.000768, mean epoch loss=0.00106]\n"
     ]
    },
    {
     "name": "stdout",
     "output_type": "stream",
     "text": [
      "Training loss: 0.0010607571721016004\n"
     ]
    },
    {
     "name": "stderr",
     "output_type": "stream",
     "text": [
      "Testing: 100%|███████████████████████████████████████████████████████████████████████| 95/95 [00:00<00:00, 96.35batch/s]\n"
     ]
    },
    {
     "name": "stdout",
     "output_type": "stream",
     "text": [
      "Test loss: 0.0010755501365852787\n",
      "epoch time: 49.7195 seconds\n",
      "\n",
      "Starting epoch 35\n"
     ]
    },
    {
     "name": "stderr",
     "output_type": "stream",
     "text": [
      "Epoch 35/500: 100%|██████████████████████████████| 909/909 [00:48<00:00, 18.71batch/s, batch loss=0.0014, mean epoch loss=0.00105]\n"
     ]
    },
    {
     "name": "stdout",
     "output_type": "stream",
     "text": [
      "Training loss: 0.0010533098300982459\n"
     ]
    },
    {
     "name": "stderr",
     "output_type": "stream",
     "text": [
      "Testing: 100%|███████████████████████████████████████████████████████████████████████| 95/95 [00:00<00:00, 96.18batch/s]\n"
     ]
    },
    {
     "name": "stdout",
     "output_type": "stream",
     "text": [
      "Test loss: 0.001094694176725553\n",
      "epoch time: 49.5645 seconds\n",
      "\n",
      "Starting epoch 36\n"
     ]
    },
    {
     "name": "stderr",
     "output_type": "stream",
     "text": [
      "Epoch 36/500: 100%|████████████████████████████| 909/909 [00:48<00:00, 18.63batch/s, batch loss=0.000363, mean epoch loss=0.00104]\n"
     ]
    },
    {
     "name": "stdout",
     "output_type": "stream",
     "text": [
      "Training loss: 0.0010424052846890273\n"
     ]
    },
    {
     "name": "stderr",
     "output_type": "stream",
     "text": [
      "Testing: 100%|███████████████████████████████████████████████████████████████████████| 95/95 [00:00<00:00, 95.57batch/s]\n"
     ]
    },
    {
     "name": "stdout",
     "output_type": "stream",
     "text": [
      "Test loss: 0.0011183356103413788\n",
      "epoch time: 49.7795 seconds\n",
      "\n",
      "Starting epoch 37\n"
     ]
    },
    {
     "name": "stderr",
     "output_type": "stream",
     "text": [
      "Epoch 37/500: 100%|████████████████████████████| 909/909 [00:48<00:00, 18.59batch/s, batch loss=0.000856, mean epoch loss=0.00104]\n"
     ]
    },
    {
     "name": "stdout",
     "output_type": "stream",
     "text": [
      "Training loss: 0.0010448054078608681\n"
     ]
    },
    {
     "name": "stderr",
     "output_type": "stream",
     "text": [
      "Testing: 100%|███████████████████████████████████████████████████████████████████████| 95/95 [00:00<00:00, 95.78batch/s]\n"
     ]
    },
    {
     "name": "stdout",
     "output_type": "stream",
     "text": [
      "Test loss: 0.0010863968036382606\n",
      "epoch time: 49.8904 seconds\n",
      "\n",
      "Starting epoch 38\n"
     ]
    },
    {
     "name": "stderr",
     "output_type": "stream",
     "text": [
      "Epoch 38/500: 100%|████████████████████████████| 909/909 [00:49<00:00, 18.50batch/s, batch loss=0.000183, mean epoch loss=0.00104]\n"
     ]
    },
    {
     "name": "stdout",
     "output_type": "stream",
     "text": [
      "Training loss: 0.0010370391171476297\n"
     ]
    },
    {
     "name": "stderr",
     "output_type": "stream",
     "text": [
      "Testing: 100%|███████████████████████████████████████████████████████████████████████| 95/95 [00:01<00:00, 94.88batch/s]\n"
     ]
    },
    {
     "name": "stdout",
     "output_type": "stream",
     "text": [
      "Test loss: 0.0010467925979020564\n",
      "epoch time: 50.1924 seconds\n",
      "\n",
      "Starting epoch 39\n"
     ]
    },
    {
     "name": "stderr",
     "output_type": "stream",
     "text": [
      "Epoch 39/500: 100%|████████████████████████████| 909/909 [00:48<00:00, 18.55batch/s, batch loss=0.000659, mean epoch loss=0.00103]\n"
     ]
    },
    {
     "name": "stdout",
     "output_type": "stream",
     "text": [
      "Training loss: 0.0010320643984951638\n"
     ]
    },
    {
     "name": "stderr",
     "output_type": "stream",
     "text": [
      "Testing: 100%|███████████████████████████████████████████████████████████████████████| 95/95 [00:00<00:00, 96.80batch/s]\n"
     ]
    },
    {
     "name": "stdout",
     "output_type": "stream",
     "text": [
      "Test loss: 0.001103083246179219\n",
      "epoch time: 49.9827 seconds\n",
      "\n",
      "Starting epoch 40\n"
     ]
    },
    {
     "name": "stderr",
     "output_type": "stream",
     "text": [
      "Epoch 40/500: 100%|█████████████████████████████| 909/909 [00:48<00:00, 18.68batch/s, batch loss=0.00173, mean epoch loss=0.00102]\n"
     ]
    },
    {
     "name": "stdout",
     "output_type": "stream",
     "text": [
      "Training loss: 0.0010205543899801852\n"
     ]
    },
    {
     "name": "stderr",
     "output_type": "stream",
     "text": [
      "Testing: 100%|███████████████████████████████████████████████████████████████████████| 95/95 [00:00<00:00, 95.47batch/s]\n"
     ]
    },
    {
     "name": "stdout",
     "output_type": "stream",
     "text": [
      "Test loss: 0.0010729505637611606\n",
      "epoch time: 49.6628 seconds\n",
      "\n",
      "Starting epoch 41\n"
     ]
    },
    {
     "name": "stderr",
     "output_type": "stream",
     "text": [
      "Epoch 41/500: 100%|██████████████████████████████| 909/909 [00:48<00:00, 18.70batch/s, batch loss=0.0003, mean epoch loss=0.00101]\n"
     ]
    },
    {
     "name": "stdout",
     "output_type": "stream",
     "text": [
      "Training loss: 0.0010084032055741787\n"
     ]
    },
    {
     "name": "stderr",
     "output_type": "stream",
     "text": [
      "Testing: 100%|███████████████████████████████████████████████████████████████████████| 95/95 [00:00<00:00, 96.03batch/s]\n"
     ]
    },
    {
     "name": "stdout",
     "output_type": "stream",
     "text": [
      "Test loss: 0.0011451838712673635\n",
      "epoch time: 49.5955 seconds\n",
      "\n",
      "Starting epoch 42\n"
     ]
    },
    {
     "name": "stderr",
     "output_type": "stream",
     "text": [
      "Epoch 42/500: 100%|████████████████████████████| 909/909 [00:48<00:00, 18.62batch/s, batch loss=0.000967, mean epoch loss=0.00101]\n"
     ]
    },
    {
     "name": "stdout",
     "output_type": "stream",
     "text": [
      "Training loss: 0.001012798402487181\n"
     ]
    },
    {
     "name": "stderr",
     "output_type": "stream",
     "text": [
      "Testing: 100%|███████████████████████████████████████████████████████████████████████| 95/95 [00:00<00:00, 95.71batch/s]\n"
     ]
    },
    {
     "name": "stdout",
     "output_type": "stream",
     "text": [
      "Test loss: 0.0010792721986562308\n",
      "epoch time: 49.8164 seconds\n",
      "\n",
      "Starting epoch 43\n"
     ]
    },
    {
     "name": "stderr",
     "output_type": "stream",
     "text": [
      "Epoch 43/500: 100%|█████████████████████████████| 909/909 [00:48<00:00, 18.57batch/s, batch loss=0.00178, mean epoch loss=0.00101]\n"
     ]
    },
    {
     "name": "stdout",
     "output_type": "stream",
     "text": [
      "Training loss: 0.001009418271875549\n"
     ]
    },
    {
     "name": "stderr",
     "output_type": "stream",
     "text": [
      "Testing: 100%|███████████████████████████████████████████████████████████████████████| 95/95 [00:00<00:00, 95.87batch/s]\n"
     ]
    },
    {
     "name": "stdout",
     "output_type": "stream",
     "text": [
      "Test loss: 0.0011279159256159083\n",
      "epoch time: 49.9384 seconds\n",
      "\n",
      "Starting epoch 44\n"
     ]
    },
    {
     "name": "stderr",
     "output_type": "stream",
     "text": [
      "Epoch 44/500: 100%|██████████████████████████████| 909/909 [00:49<00:00, 18.53batch/s, batch loss=0.000841, mean epoch loss=0.001]\n"
     ]
    },
    {
     "name": "stdout",
     "output_type": "stream",
     "text": [
      "Training loss: 0.0010042595343936565\n"
     ]
    },
    {
     "name": "stderr",
     "output_type": "stream",
     "text": [
      "Testing: 100%|███████████████████████████████████████████████████████████████████████| 95/95 [00:01<00:00, 93.77batch/s]\n"
     ]
    },
    {
     "name": "stdout",
     "output_type": "stream",
     "text": [
      "Test loss: 0.0010674578119314422\n",
      "epoch time: 50.0815 seconds\n",
      "\n",
      "Starting epoch 45\n"
     ]
    },
    {
     "name": "stderr",
     "output_type": "stream",
     "text": [
      "Epoch 45/500: 100%|████████████████████████████| 909/909 [00:49<00:00, 18.54batch/s, batch loss=0.00092, mean epoch loss=0.000996]\n"
     ]
    },
    {
     "name": "stdout",
     "output_type": "stream",
     "text": [
      "Training loss: 0.0009958276532775962\n"
     ]
    },
    {
     "name": "stderr",
     "output_type": "stream",
     "text": [
      "Testing: 100%|███████████████████████████████████████████████████████████████████████| 95/95 [00:01<00:00, 94.69batch/s]\n"
     ]
    },
    {
     "name": "stdout",
     "output_type": "stream",
     "text": [
      "Test loss: 0.0010284870300797354\n",
      "epoch time: 50.0719 seconds\n",
      "\n",
      "Starting epoch 46\n"
     ]
    },
    {
     "name": "stderr",
     "output_type": "stream",
     "text": [
      "Epoch 46/500: 100%|███████████████████████████| 909/909 [00:48<00:00, 18.58batch/s, batch loss=0.000619, mean epoch loss=0.000984]\n"
     ]
    },
    {
     "name": "stdout",
     "output_type": "stream",
     "text": [
      "Training loss: 0.0009838644864600626\n"
     ]
    },
    {
     "name": "stderr",
     "output_type": "stream",
     "text": [
      "Testing: 100%|███████████████████████████████████████████████████████████████████████| 95/95 [00:01<00:00, 94.29batch/s]\n"
     ]
    },
    {
     "name": "stdout",
     "output_type": "stream",
     "text": [
      "Test loss: 0.0010916347252388828\n",
      "epoch time: 49.9418 seconds\n",
      "\n",
      "Starting epoch 47\n"
     ]
    },
    {
     "name": "stderr",
     "output_type": "stream",
     "text": [
      "Epoch 47/500: 100%|████████████████████████████| 909/909 [00:49<00:00, 18.50batch/s, batch loss=0.00112, mean epoch loss=0.000994]\n"
     ]
    },
    {
     "name": "stdout",
     "output_type": "stream",
     "text": [
      "Training loss: 0.0009941152463715057\n"
     ]
    },
    {
     "name": "stderr",
     "output_type": "stream",
     "text": [
      "Testing: 100%|███████████████████████████████████████████████████████████████████████| 95/95 [00:01<00:00, 93.82batch/s]\n"
     ]
    },
    {
     "name": "stdout",
     "output_type": "stream",
     "text": [
      "Test loss: 0.0010980421487291\n",
      "epoch time: 50.1389 seconds\n",
      "\n",
      "Starting epoch 48\n"
     ]
    },
    {
     "name": "stderr",
     "output_type": "stream",
     "text": [
      "Epoch 48/500: 100%|███████████████████████████| 909/909 [00:48<00:00, 18.62batch/s, batch loss=0.000984, mean epoch loss=0.000984]\n"
     ]
    },
    {
     "name": "stdout",
     "output_type": "stream",
     "text": [
      "Training loss: 0.000984338633899246\n"
     ]
    },
    {
     "name": "stderr",
     "output_type": "stream",
     "text": [
      "Testing: 100%|███████████████████████████████████████████████████████████████████████| 95/95 [00:00<00:00, 95.74batch/s]\n"
     ]
    },
    {
     "name": "stdout",
     "output_type": "stream",
     "text": [
      "Test loss: 0.001074605815627269\n",
      "epoch time: 49.8260 seconds\n",
      "\n",
      "Starting epoch 49\n"
     ]
    },
    {
     "name": "stderr",
     "output_type": "stream",
     "text": [
      "Epoch 49/500: 100%|████████████████████████████| 909/909 [00:48<00:00, 18.65batch/s, batch loss=0.00141, mean epoch loss=0.000982]\n"
     ]
    },
    {
     "name": "stdout",
     "output_type": "stream",
     "text": [
      "Training loss: 0.0009820032588338655\n"
     ]
    },
    {
     "name": "stderr",
     "output_type": "stream",
     "text": [
      "Testing: 100%|███████████████████████████████████████████████████████████████████████| 95/95 [00:00<00:00, 95.24batch/s]\n"
     ]
    },
    {
     "name": "stdout",
     "output_type": "stream",
     "text": [
      "Test loss: 0.0011114230244665554\n",
      "epoch time: 49.7356 seconds\n",
      "\n",
      "Starting epoch 50\n"
     ]
    },
    {
     "name": "stderr",
     "output_type": "stream",
     "text": [
      "Epoch 50/500: 100%|████████████████████████████| 909/909 [00:48<00:00, 18.68batch/s, batch loss=0.00141, mean epoch loss=0.000966]\n"
     ]
    },
    {
     "name": "stdout",
     "output_type": "stream",
     "text": [
      "Training loss: 0.0009655381673388593\n"
     ]
    },
    {
     "name": "stderr",
     "output_type": "stream",
     "text": [
      "Testing: 100%|███████████████████████████████████████████████████████████████████████| 95/95 [00:01<00:00, 94.75batch/s]\n"
     ]
    },
    {
     "name": "stdout",
     "output_type": "stream",
     "text": [
      "Test loss: 0.001062163322747342\n",
      "epoch time: 49.6778 seconds\n",
      "\n",
      "Starting epoch 51\n"
     ]
    },
    {
     "name": "stderr",
     "output_type": "stream",
     "text": [
      "Epoch 51/500: 100%|███████████████████████████| 909/909 [00:48<00:00, 18.61batch/s, batch loss=0.000417, mean epoch loss=0.000968]\n"
     ]
    },
    {
     "name": "stdout",
     "output_type": "stream",
     "text": [
      "Training loss: 0.0009682622060501934\n"
     ]
    },
    {
     "name": "stderr",
     "output_type": "stream",
     "text": [
      "Testing: 100%|███████████████████████████████████████████████████████████████████████| 95/95 [00:00<00:00, 95.46batch/s]\n"
     ]
    },
    {
     "name": "stdout",
     "output_type": "stream",
     "text": [
      "Test loss: 0.0010882479178498646\n",
      "epoch time: 49.8519 seconds\n",
      "\n",
      "Starting epoch 52\n"
     ]
    },
    {
     "name": "stderr",
     "output_type": "stream",
     "text": [
      "Epoch 52/500: 100%|████████████████████████████| 909/909 [00:48<00:00, 18.59batch/s, batch loss=0.00116, mean epoch loss=0.000964]\n"
     ]
    },
    {
     "name": "stdout",
     "output_type": "stream",
     "text": [
      "Training loss: 0.0009638898412282584\n"
     ]
    },
    {
     "name": "stderr",
     "output_type": "stream",
     "text": [
      "Testing: 100%|███████████████████████████████████████████████████████████████████████| 95/95 [00:00<00:00, 95.52batch/s]\n"
     ]
    },
    {
     "name": "stdout",
     "output_type": "stream",
     "text": [
      "Test loss: 0.0011484812629580694\n",
      "epoch time: 49.8877 seconds\n",
      "\n",
      "Starting epoch 53\n"
     ]
    },
    {
     "name": "stderr",
     "output_type": "stream",
     "text": [
      "Epoch 53/500: 100%|████████████████████████████| 909/909 [00:48<00:00, 18.64batch/s, batch loss=0.00143, mean epoch loss=0.000957]\n"
     ]
    },
    {
     "name": "stdout",
     "output_type": "stream",
     "text": [
      "Training loss: 0.0009572845698446722\n"
     ]
    },
    {
     "name": "stderr",
     "output_type": "stream",
     "text": [
      "Testing: 100%|███████████████████████████████████████████████████████████████████████| 95/95 [00:01<00:00, 94.37batch/s]\n"
     ]
    },
    {
     "name": "stdout",
     "output_type": "stream",
     "text": [
      "Test loss: 0.0011469642751188458\n",
      "epoch time: 49.7726 seconds\n",
      "\n",
      "Starting epoch 54\n"
     ]
    },
    {
     "name": "stderr",
     "output_type": "stream",
     "text": [
      "Epoch 54/500: 100%|████████████████████████████| 909/909 [00:48<00:00, 18.64batch/s, batch loss=0.00113, mean epoch loss=0.000959]\n"
     ]
    },
    {
     "name": "stdout",
     "output_type": "stream",
     "text": [
      "Training loss: 0.000958934016188602\n"
     ]
    },
    {
     "name": "stderr",
     "output_type": "stream",
     "text": [
      "Testing: 100%|███████████████████████████████████████████████████████████████████████| 95/95 [00:01<00:00, 92.85batch/s]\n"
     ]
    },
    {
     "name": "stdout",
     "output_type": "stream",
     "text": [
      "Test loss: 0.0010682024561040298\n",
      "epoch time: 49.7848 seconds\n",
      "\n",
      "Starting epoch 55\n"
     ]
    },
    {
     "name": "stderr",
     "output_type": "stream",
     "text": [
      "Epoch 55/500: 100%|████████████████████████████| 909/909 [00:48<00:00, 18.63batch/s, batch loss=0.00124, mean epoch loss=0.000942]\n"
     ]
    },
    {
     "name": "stdout",
     "output_type": "stream",
     "text": [
      "Training loss: 0.0009416369811902735\n"
     ]
    },
    {
     "name": "stderr",
     "output_type": "stream",
     "text": [
      "Testing: 100%|███████████████████████████████████████████████████████████████████████| 95/95 [00:01<00:00, 93.41batch/s]\n"
     ]
    },
    {
     "name": "stdout",
     "output_type": "stream",
     "text": [
      "Test loss: 0.0011746398072175093\n",
      "epoch time: 49.8053 seconds\n",
      "\n",
      "Starting epoch 56\n"
     ]
    },
    {
     "name": "stderr",
     "output_type": "stream",
     "text": [
      "Epoch 56/500: 100%|███████████████████████████| 909/909 [00:48<00:00, 18.59batch/s, batch loss=0.000425, mean epoch loss=0.000934]\n"
     ]
    },
    {
     "name": "stdout",
     "output_type": "stream",
     "text": [
      "Training loss: 0.0009342195900060785\n"
     ]
    },
    {
     "name": "stderr",
     "output_type": "stream",
     "text": [
      "Testing: 100%|███████████████████████████████████████████████████████████████████████| 95/95 [00:01<00:00, 93.50batch/s]\n"
     ]
    },
    {
     "name": "stdout",
     "output_type": "stream",
     "text": [
      "Test loss: 0.0011448327712347045\n",
      "epoch time: 49.9162 seconds\n",
      "\n",
      "Starting epoch 57\n"
     ]
    },
    {
     "name": "stderr",
     "output_type": "stream",
     "text": [
      "Epoch 57/500: 100%|█████████████████████████████| 909/909 [00:48<00:00, 18.60batch/s, batch loss=0.0014, mean epoch loss=0.000904]\n"
     ]
    },
    {
     "name": "stdout",
     "output_type": "stream",
     "text": [
      "Training loss: 0.0009042626651894297\n"
     ]
    },
    {
     "name": "stderr",
     "output_type": "stream",
     "text": [
      "Testing: 100%|███████████████████████████████████████████████████████████████████████| 95/95 [00:01<00:00, 93.41batch/s]\n"
     ]
    },
    {
     "name": "stdout",
     "output_type": "stream",
     "text": [
      "Test loss: 0.001035036158895022\n",
      "epoch time: 49.8785 seconds\n",
      "\n",
      "Starting epoch 58\n"
     ]
    },
    {
     "name": "stderr",
     "output_type": "stream",
     "text": [
      "Epoch 58/500: 100%|████████████████████████████| 909/909 [00:48<00:00, 18.66batch/s, batch loss=0.00126, mean epoch loss=0.000896]\n"
     ]
    },
    {
     "name": "stdout",
     "output_type": "stream",
     "text": [
      "Training loss: 0.0008963261862656581\n"
     ]
    },
    {
     "name": "stderr",
     "output_type": "stream",
     "text": [
      "Testing: 100%|███████████████████████████████████████████████████████████████████████| 95/95 [00:00<00:00, 95.76batch/s]\n"
     ]
    },
    {
     "name": "stdout",
     "output_type": "stream",
     "text": [
      "Test loss: 0.00106371300981233\n",
      "epoch time: 49.7154 seconds\n",
      "\n",
      "Starting epoch 59\n"
     ]
    },
    {
     "name": "stderr",
     "output_type": "stream",
     "text": [
      "Epoch 59/500: 100%|████████████████████████████| 909/909 [00:48<00:00, 18.57batch/s, batch loss=0.00041, mean epoch loss=0.000889]\n"
     ]
    },
    {
     "name": "stdout",
     "output_type": "stream",
     "text": [
      "Training loss: 0.0008892694836469215\n"
     ]
    },
    {
     "name": "stderr",
     "output_type": "stream",
     "text": [
      "Testing: 100%|███████████████████████████████████████████████████████████████████████| 95/95 [00:01<00:00, 93.14batch/s]\n"
     ]
    },
    {
     "name": "stdout",
     "output_type": "stream",
     "text": [
      "Test loss: 0.0011449937304285796\n",
      "epoch time: 49.9770 seconds\n",
      "\n",
      "Starting epoch 60\n"
     ]
    },
    {
     "name": "stderr",
     "output_type": "stream",
     "text": [
      "Epoch 60/500: 100%|███████████████████████████| 909/909 [00:48<00:00, 18.66batch/s, batch loss=0.000992, mean epoch loss=0.000887]\n"
     ]
    },
    {
     "name": "stdout",
     "output_type": "stream",
     "text": [
      "Training loss: 0.0008867344595063493\n"
     ]
    },
    {
     "name": "stderr",
     "output_type": "stream",
     "text": [
      "Testing: 100%|███████████████████████████████████████████████████████████████████████| 95/95 [00:01<00:00, 92.90batch/s]\n"
     ]
    },
    {
     "name": "stdout",
     "output_type": "stream",
     "text": [
      "Test loss: 0.0010829731129649047\n",
      "epoch time: 49.7454 seconds\n",
      "\n",
      "Starting epoch 61\n"
     ]
    },
    {
     "name": "stderr",
     "output_type": "stream",
     "text": [
      "Epoch 61/500: 100%|███████████████████████████| 909/909 [00:48<00:00, 18.65batch/s, batch loss=0.000506, mean epoch loss=0.000881]\n"
     ]
    },
    {
     "name": "stdout",
     "output_type": "stream",
     "text": [
      "Training loss: 0.0008812144124652213\n"
     ]
    },
    {
     "name": "stderr",
     "output_type": "stream",
     "text": [
      "Testing: 100%|███████████████████████████████████████████████████████████████████████| 95/95 [00:00<00:00, 95.98batch/s]\n"
     ]
    },
    {
     "name": "stdout",
     "output_type": "stream",
     "text": [
      "Test loss: 0.0010231165481902854\n",
      "epoch time: 49.7781 seconds\n",
      "\n",
      "Starting epoch 62\n"
     ]
    },
    {
     "name": "stderr",
     "output_type": "stream",
     "text": [
      "Epoch 62/500: 100%|█████████████████████████████| 909/909 [00:48<00:00, 18.65batch/s, batch loss=0.0011, mean epoch loss=0.000883]\n"
     ]
    },
    {
     "name": "stdout",
     "output_type": "stream",
     "text": [
      "Training loss: 0.0008826173589383898\n"
     ]
    },
    {
     "name": "stderr",
     "output_type": "stream",
     "text": [
      "Testing: 100%|███████████████████████████████████████████████████████████████████████| 95/95 [00:00<00:00, 95.69batch/s]\n"
     ]
    },
    {
     "name": "stdout",
     "output_type": "stream",
     "text": [
      "Test loss: 0.0012539422004728725\n",
      "epoch time: 49.7434 seconds\n",
      "\n",
      "Starting epoch 63\n"
     ]
    },
    {
     "name": "stderr",
     "output_type": "stream",
     "text": [
      "Epoch 63/500: 100%|████████████████████████████| 909/909 [00:48<00:00, 18.63batch/s, batch loss=0.00205, mean epoch loss=0.000887]\n"
     ]
    },
    {
     "name": "stdout",
     "output_type": "stream",
     "text": [
      "Training loss: 0.0008872137169330099\n"
     ]
    },
    {
     "name": "stderr",
     "output_type": "stream",
     "text": [
      "Testing: 100%|███████████████████████████████████████████████████████████████████████| 95/95 [00:00<00:00, 97.59batch/s]\n"
     ]
    },
    {
     "name": "stdout",
     "output_type": "stream",
     "text": [
      "Test loss: 0.0010463610179661039\n",
      "epoch time: 49.7771 seconds\n",
      "\n",
      "Starting epoch 64\n"
     ]
    },
    {
     "name": "stderr",
     "output_type": "stream",
     "text": [
      "Epoch 64/500: 100%|████████████████████████████| 909/909 [00:48<00:00, 18.56batch/s, batch loss=0.00115, mean epoch loss=0.000875]\n"
     ]
    },
    {
     "name": "stdout",
     "output_type": "stream",
     "text": [
      "Training loss: 0.0008748710158272575\n"
     ]
    },
    {
     "name": "stderr",
     "output_type": "stream",
     "text": [
      "Testing: 100%|███████████████████████████████████████████████████████████████████████| 95/95 [00:00<00:00, 97.53batch/s]\n"
     ]
    },
    {
     "name": "stdout",
     "output_type": "stream",
     "text": [
      "Test loss: 0.0010663991928786824\n",
      "epoch time: 49.9427 seconds\n",
      "\n",
      "Starting epoch 65\n"
     ]
    },
    {
     "name": "stderr",
     "output_type": "stream",
     "text": [
      "Epoch 65/500: 100%|███████████████████████████| 909/909 [00:48<00:00, 18.60batch/s, batch loss=0.000583, mean epoch loss=0.000872]\n"
     ]
    },
    {
     "name": "stdout",
     "output_type": "stream",
     "text": [
      "Training loss: 0.0008716614103013953\n"
     ]
    },
    {
     "name": "stderr",
     "output_type": "stream",
     "text": [
      "Testing: 100%|███████████████████████████████████████████████████████████████████████| 95/95 [00:00<00:00, 96.35batch/s]\n"
     ]
    },
    {
     "name": "stdout",
     "output_type": "stream",
     "text": [
      "Test loss: 0.001041922300110424\n",
      "epoch time: 49.8626 seconds\n",
      "\n",
      "Starting epoch 66\n"
     ]
    },
    {
     "name": "stderr",
     "output_type": "stream",
     "text": [
      "Epoch 66/500: 100%|███████████████████████████| 909/909 [00:48<00:00, 18.61batch/s, batch loss=0.000211, mean epoch loss=0.000863]\n"
     ]
    },
    {
     "name": "stdout",
     "output_type": "stream",
     "text": [
      "Training loss: 0.000862555731650405\n"
     ]
    },
    {
     "name": "stderr",
     "output_type": "stream",
     "text": [
      "Testing: 100%|███████████████████████████████████████████████████████████████████████| 95/95 [00:00<00:00, 96.74batch/s]\n"
     ]
    },
    {
     "name": "stdout",
     "output_type": "stream",
     "text": [
      "Test loss: 0.0010514954892354772\n",
      "epoch time: 49.8406 seconds\n",
      "\n",
      "Starting epoch 67\n"
     ]
    },
    {
     "name": "stderr",
     "output_type": "stream",
     "text": [
      "Epoch 67/500: 100%|███████████████████████████| 909/909 [00:48<00:00, 18.64batch/s, batch loss=0.000823, mean epoch loss=0.000862]\n"
     ]
    },
    {
     "name": "stdout",
     "output_type": "stream",
     "text": [
      "Training loss: 0.0008619058958970152\n"
     ]
    },
    {
     "name": "stderr",
     "output_type": "stream",
     "text": [
      "Testing: 100%|███████████████████████████████████████████████████████████████████████| 95/95 [00:00<00:00, 97.68batch/s]\n"
     ]
    },
    {
     "name": "stdout",
     "output_type": "stream",
     "text": [
      "Test loss: 0.00109080285029976\n",
      "epoch time: 49.7492 seconds\n",
      "\n",
      "Starting epoch 68\n"
     ]
    },
    {
     "name": "stderr",
     "output_type": "stream",
     "text": [
      "Epoch 68/500: 100%|███████████████████████████| 909/909 [00:48<00:00, 18.61batch/s, batch loss=0.000929, mean epoch loss=0.000868]\n"
     ]
    },
    {
     "name": "stdout",
     "output_type": "stream",
     "text": [
      "Training loss: 0.000868383097763704\n"
     ]
    },
    {
     "name": "stderr",
     "output_type": "stream",
     "text": [
      "Testing: 100%|███████████████████████████████████████████████████████████████████████| 95/95 [00:00<00:00, 96.06batch/s]\n"
     ]
    },
    {
     "name": "stdout",
     "output_type": "stream",
     "text": [
      "Test loss: 0.001060855721344093\n",
      "epoch time: 49.8474 seconds\n",
      "\n",
      "Starting epoch 69\n"
     ]
    },
    {
     "name": "stderr",
     "output_type": "stream",
     "text": [
      "Epoch 69/500: 100%|███████████████████████████| 909/909 [00:48<00:00, 18.61batch/s, batch loss=0.000619, mean epoch loss=0.000864]\n"
     ]
    },
    {
     "name": "stdout",
     "output_type": "stream",
     "text": [
      "Training loss: 0.0008638456622428056\n"
     ]
    },
    {
     "name": "stderr",
     "output_type": "stream",
     "text": [
      "Testing: 100%|███████████████████████████████████████████████████████████████████████| 95/95 [00:00<00:00, 96.16batch/s]\n"
     ]
    },
    {
     "name": "stdout",
     "output_type": "stream",
     "text": [
      "Test loss: 0.0012016201434705994\n",
      "epoch time: 49.8428 seconds\n",
      "\n",
      "Starting epoch 70\n"
     ]
    },
    {
     "name": "stderr",
     "output_type": "stream",
     "text": [
      "Epoch 70/500: 100%|███████████████████████████| 909/909 [00:48<00:00, 18.63batch/s, batch loss=0.000442, mean epoch loss=0.000854]\n"
     ]
    },
    {
     "name": "stdout",
     "output_type": "stream",
     "text": [
      "Training loss: 0.0008541011488261967\n"
     ]
    },
    {
     "name": "stderr",
     "output_type": "stream",
     "text": [
      "Testing: 100%|███████████████████████████████████████████████████████████████████████| 95/95 [00:00<00:00, 96.08batch/s]\n"
     ]
    },
    {
     "name": "stdout",
     "output_type": "stream",
     "text": [
      "Test loss: 0.001020057675257129\n",
      "epoch time: 49.8302 seconds\n",
      "\n",
      "Starting epoch 71\n"
     ]
    },
    {
     "name": "stderr",
     "output_type": "stream",
     "text": [
      "Epoch 71/500: 100%|████████████████████████████| 909/909 [00:48<00:00, 18.64batch/s, batch loss=0.00161, mean epoch loss=0.000846]\n"
     ]
    },
    {
     "name": "stdout",
     "output_type": "stream",
     "text": [
      "Training loss: 0.0008455215768726072\n"
     ]
    },
    {
     "name": "stderr",
     "output_type": "stream",
     "text": [
      "Testing: 100%|███████████████████████████████████████████████████████████████████████| 95/95 [00:00<00:00, 96.03batch/s]\n"
     ]
    },
    {
     "name": "stdout",
     "output_type": "stream",
     "text": [
      "Test loss: 0.0010420661079574769\n",
      "epoch time: 49.7700 seconds\n",
      "\n",
      "Starting epoch 72\n"
     ]
    },
    {
     "name": "stderr",
     "output_type": "stream",
     "text": [
      "Epoch 72/500: 100%|███████████████████████████| 909/909 [00:48<00:00, 18.61batch/s, batch loss=0.000331, mean epoch loss=0.000847]\n"
     ]
    },
    {
     "name": "stdout",
     "output_type": "stream",
     "text": [
      "Training loss: 0.0008470809990856799\n"
     ]
    },
    {
     "name": "stderr",
     "output_type": "stream",
     "text": [
      "Testing: 100%|███████████████████████████████████████████████████████████████████████| 95/95 [00:00<00:00, 96.00batch/s]\n"
     ]
    },
    {
     "name": "stdout",
     "output_type": "stream",
     "text": [
      "Test loss: 0.001099572154864865\n",
      "epoch time: 49.8270 seconds\n",
      "\n",
      "Starting epoch 73\n"
     ]
    },
    {
     "name": "stderr",
     "output_type": "stream",
     "text": [
      "Epoch 73/500: 100%|████████████████████████████| 909/909 [00:48<00:00, 18.66batch/s, batch loss=0.00021, mean epoch loss=0.000855]\n"
     ]
    },
    {
     "name": "stdout",
     "output_type": "stream",
     "text": [
      "Training loss: 0.0008554122237516418\n"
     ]
    },
    {
     "name": "stderr",
     "output_type": "stream",
     "text": [
      "Testing: 100%|███████████████████████████████████████████████████████████████████████| 95/95 [00:00<00:00, 96.01batch/s]\n"
     ]
    },
    {
     "name": "stdout",
     "output_type": "stream",
     "text": [
      "Test loss: 0.001090289327303732\n",
      "epoch time: 49.7052 seconds\n",
      "\n",
      "Starting epoch 74\n"
     ]
    },
    {
     "name": "stderr",
     "output_type": "stream",
     "text": [
      "Epoch 74/500: 100%|██████████████████████████████| 909/909 [00:48<00:00, 18.63batch/s, batch loss=0.002, mean epoch loss=0.000844]\n"
     ]
    },
    {
     "name": "stdout",
     "output_type": "stream",
     "text": [
      "Training loss: 0.0008437342942033165\n"
     ]
    },
    {
     "name": "stderr",
     "output_type": "stream",
     "text": [
      "Testing: 100%|███████████████████████████████████████████████████████████████████████| 95/95 [00:01<00:00, 93.09batch/s]\n"
     ]
    },
    {
     "name": "stdout",
     "output_type": "stream",
     "text": [
      "Test loss: 0.0010461921540186987\n",
      "epoch time: 49.8051 seconds\n",
      "\n",
      "Starting epoch 75\n"
     ]
    },
    {
     "name": "stderr",
     "output_type": "stream",
     "text": [
      "Epoch 75/500: 100%|████████████████████████████| 909/909 [00:48<00:00, 18.66batch/s, batch loss=0.00116, mean epoch loss=0.000843]\n"
     ]
    },
    {
     "name": "stdout",
     "output_type": "stream",
     "text": [
      "Training loss: 0.0008425873115606444\n"
     ]
    },
    {
     "name": "stderr",
     "output_type": "stream",
     "text": [
      "Testing: 100%|███████████████████████████████████████████████████████████████████████| 95/95 [00:00<00:00, 97.89batch/s]\n"
     ]
    },
    {
     "name": "stdout",
     "output_type": "stream",
     "text": [
      "Test loss: 0.0010718851524870842\n",
      "epoch time: 49.6871 seconds\n",
      "\n",
      "Starting epoch 76\n"
     ]
    },
    {
     "name": "stderr",
     "output_type": "stream",
     "text": [
      "Epoch 76/500: 100%|████████████████████████████| 909/909 [00:48<00:00, 18.66batch/s, batch loss=0.00109, mean epoch loss=0.000839]\n"
     ]
    },
    {
     "name": "stdout",
     "output_type": "stream",
     "text": [
      "Training loss: 0.0008392245508330193\n"
     ]
    },
    {
     "name": "stderr",
     "output_type": "stream",
     "text": [
      "Testing: 100%|███████████████████████████████████████████████████████████████████████| 95/95 [00:00<00:00, 96.51batch/s]\n"
     ]
    },
    {
     "name": "stdout",
     "output_type": "stream",
     "text": [
      "Test loss: 0.0010453040029939362\n",
      "epoch time: 49.7092 seconds\n",
      "\n",
      "Starting epoch 77\n"
     ]
    },
    {
     "name": "stderr",
     "output_type": "stream",
     "text": [
      "Epoch 77/500: 100%|███████████████████████████| 909/909 [00:48<00:00, 18.68batch/s, batch loss=0.000354, mean epoch loss=0.000833]\n"
     ]
    },
    {
     "name": "stdout",
     "output_type": "stream",
     "text": [
      "Training loss: 0.0008327484003061862\n"
     ]
    },
    {
     "name": "stderr",
     "output_type": "stream",
     "text": [
      "Testing: 100%|███████████████████████████████████████████████████████████████████████| 95/95 [00:00<00:00, 97.76batch/s]\n"
     ]
    },
    {
     "name": "stdout",
     "output_type": "stream",
     "text": [
      "Test loss: 0.0010268406729569267\n",
      "epoch time: 49.6458 seconds\n",
      "\n",
      "Starting epoch 78\n"
     ]
    },
    {
     "name": "stderr",
     "output_type": "stream",
     "text": [
      "Epoch 78/500: 100%|████████████████████████████| 909/909 [00:48<00:00, 18.67batch/s, batch loss=0.00112, mean epoch loss=0.000846]\n"
     ]
    },
    {
     "name": "stdout",
     "output_type": "stream",
     "text": [
      "Training loss: 0.0008461970087004788\n"
     ]
    },
    {
     "name": "stderr",
     "output_type": "stream",
     "text": [
      "Testing: 100%|███████████████████████████████████████████████████████████████████████| 95/95 [00:00<00:00, 96.10batch/s]\n"
     ]
    },
    {
     "name": "stdout",
     "output_type": "stream",
     "text": [
      "Test loss: 0.0010449960129335523\n",
      "epoch time: 49.6738 seconds\n",
      "\n",
      "Starting epoch 79\n"
     ]
    },
    {
     "name": "stderr",
     "output_type": "stream",
     "text": [
      "Epoch 79/500: 100%|████████████████████████████| 909/909 [00:48<00:00, 18.62batch/s, batch loss=0.00101, mean epoch loss=0.000837]\n"
     ]
    },
    {
     "name": "stdout",
     "output_type": "stream",
     "text": [
      "Training loss: 0.0008370920820705356\n"
     ]
    },
    {
     "name": "stderr",
     "output_type": "stream",
     "text": [
      "Testing: 100%|███████████████████████████████████████████████████████████████████████| 95/95 [00:00<00:00, 95.59batch/s]\n"
     ]
    },
    {
     "name": "stdout",
     "output_type": "stream",
     "text": [
      "Test loss: 0.0010534690674639455\n",
      "epoch time: 49.8232 seconds\n",
      "\n",
      "Starting epoch 80\n"
     ]
    },
    {
     "name": "stderr",
     "output_type": "stream",
     "text": [
      "Epoch 80/500: 100%|███████████████████████████| 909/909 [00:48<00:00, 18.66batch/s, batch loss=0.000698, mean epoch loss=0.000828]\n"
     ]
    },
    {
     "name": "stdout",
     "output_type": "stream",
     "text": [
      "Training loss: 0.0008279767167546742\n"
     ]
    },
    {
     "name": "stderr",
     "output_type": "stream",
     "text": [
      "Testing: 100%|███████████████████████████████████████████████████████████████████████| 95/95 [00:00<00:00, 95.94batch/s]\n"
     ]
    },
    {
     "name": "stdout",
     "output_type": "stream",
     "text": [
      "Test loss: 0.0010220707087826573\n",
      "epoch time: 49.7187 seconds\n",
      "\n",
      "Starting epoch 81\n"
     ]
    },
    {
     "name": "stderr",
     "output_type": "stream",
     "text": [
      "Epoch 81/500: 100%|████████████████████████████| 909/909 [00:48<00:00, 18.64batch/s, batch loss=0.000405, mean epoch loss=0.00083]\n"
     ]
    },
    {
     "name": "stdout",
     "output_type": "stream",
     "text": [
      "Training loss: 0.0008302374299171796\n"
     ]
    },
    {
     "name": "stderr",
     "output_type": "stream",
     "text": [
      "Testing: 100%|███████████████████████████████████████████████████████████████████████| 95/95 [00:00<00:00, 95.29batch/s]\n"
     ]
    },
    {
     "name": "stdout",
     "output_type": "stream",
     "text": [
      "Test loss: 0.0010823759056572606\n",
      "epoch time: 49.7745 seconds\n",
      "\n",
      "Starting epoch 82\n"
     ]
    },
    {
     "name": "stderr",
     "output_type": "stream",
     "text": [
      "Epoch 82/500: 100%|███████████████████████████| 909/909 [00:48<00:00, 18.61batch/s, batch loss=0.000303, mean epoch loss=0.000809]\n"
     ]
    },
    {
     "name": "stdout",
     "output_type": "stream",
     "text": [
      "Training loss: 0.0008085653855024409\n"
     ]
    },
    {
     "name": "stderr",
     "output_type": "stream",
     "text": [
      "Testing: 100%|███████████████████████████████████████████████████████████████████████| 95/95 [00:00<00:00, 95.90batch/s]\n"
     ]
    },
    {
     "name": "stdout",
     "output_type": "stream",
     "text": [
      "Test loss: 0.0010434653891838695\n",
      "epoch time: 49.8364 seconds\n",
      "\n",
      "Starting epoch 83\n"
     ]
    },
    {
     "name": "stderr",
     "output_type": "stream",
     "text": [
      "Epoch 83/500: 100%|███████████████████████████| 909/909 [00:48<00:00, 18.64batch/s, batch loss=0.000605, mean epoch loss=0.000806]\n"
     ]
    },
    {
     "name": "stdout",
     "output_type": "stream",
     "text": [
      "Training loss: 0.0008059999587129452\n"
     ]
    },
    {
     "name": "stderr",
     "output_type": "stream",
     "text": [
      "Testing: 100%|███████████████████████████████████████████████████████████████████████| 95/95 [00:00<00:00, 95.21batch/s]\n"
     ]
    },
    {
     "name": "stdout",
     "output_type": "stream",
     "text": [
      "Test loss: 0.0010273145796657588\n",
      "epoch time: 49.7549 seconds\n",
      "\n",
      "Starting epoch 84\n"
     ]
    },
    {
     "name": "stderr",
     "output_type": "stream",
     "text": [
      "Epoch 84/500: 100%|███████████████████████████| 909/909 [00:48<00:00, 18.67batch/s, batch loss=0.000357, mean epoch loss=0.000799]\n"
     ]
    },
    {
     "name": "stdout",
     "output_type": "stream",
     "text": [
      "Training loss: 0.0007987505860511243\n"
     ]
    },
    {
     "name": "stderr",
     "output_type": "stream",
     "text": [
      "Testing: 100%|███████████████████████████████████████████████████████████████████████| 95/95 [00:00<00:00, 97.49batch/s]\n"
     ]
    },
    {
     "name": "stdout",
     "output_type": "stream",
     "text": [
      "Test loss: 0.0010438778627614835\n",
      "epoch time: 49.6658 seconds\n",
      "\n",
      "Starting epoch 85\n"
     ]
    },
    {
     "name": "stderr",
     "output_type": "stream",
     "text": [
      "Epoch 85/500: 100%|███████████████████████████| 909/909 [00:48<00:00, 18.66batch/s, batch loss=0.000613, mean epoch loss=0.000801]\n"
     ]
    },
    {
     "name": "stdout",
     "output_type": "stream",
     "text": [
      "Training loss: 0.0008007460319467118\n"
     ]
    },
    {
     "name": "stderr",
     "output_type": "stream",
     "text": [
      "Testing: 100%|███████████████████████████████████████████████████████████████████████| 95/95 [00:00<00:00, 97.66batch/s]\n"
     ]
    },
    {
     "name": "stdout",
     "output_type": "stream",
     "text": [
      "Test loss: 0.0010768757737854397\n",
      "epoch time: 49.7005 seconds\n",
      "\n",
      "Starting epoch 86\n"
     ]
    },
    {
     "name": "stderr",
     "output_type": "stream",
     "text": [
      "Epoch 86/500: 100%|███████████████████████████| 909/909 [00:48<00:00, 18.68batch/s, batch loss=0.000515, mean epoch loss=0.000795]\n"
     ]
    },
    {
     "name": "stdout",
     "output_type": "stream",
     "text": [
      "Training loss: 0.0007952186844586493\n"
     ]
    },
    {
     "name": "stderr",
     "output_type": "stream",
     "text": [
      "Testing: 100%|███████████████████████████████████████████████████████████████████████| 95/95 [00:00<00:00, 96.05batch/s]\n"
     ]
    },
    {
     "name": "stdout",
     "output_type": "stream",
     "text": [
      "Test loss: 0.0010209545211278294\n",
      "epoch time: 49.6487 seconds\n",
      "\n",
      "Starting epoch 87\n"
     ]
    },
    {
     "name": "stderr",
     "output_type": "stream",
     "text": [
      "Epoch 87/500: 100%|███████████████████████████| 909/909 [00:48<00:00, 18.64batch/s, batch loss=0.000925, mean epoch loss=0.000795]\n"
     ]
    },
    {
     "name": "stdout",
     "output_type": "stream",
     "text": [
      "Training loss: 0.0007948604353480845\n"
     ]
    },
    {
     "name": "stderr",
     "output_type": "stream",
     "text": [
      "Testing: 100%|███████████████████████████████████████████████████████████████████████| 95/95 [00:00<00:00, 97.33batch/s]\n"
     ]
    },
    {
     "name": "stdout",
     "output_type": "stream",
     "text": [
      "Test loss: 0.0010591473785768215\n",
      "epoch time: 49.7547 seconds\n",
      "\n",
      "Starting epoch 88\n"
     ]
    },
    {
     "name": "stderr",
     "output_type": "stream",
     "text": [
      "Epoch 88/500: 100%|███████████████████████████| 909/909 [00:48<00:00, 18.67batch/s, batch loss=0.000358, mean epoch loss=0.000794]\n"
     ]
    },
    {
     "name": "stdout",
     "output_type": "stream",
     "text": [
      "Training loss: 0.0007942110296526163\n"
     ]
    },
    {
     "name": "stderr",
     "output_type": "stream",
     "text": [
      "Testing: 100%|███████████████████████████████████████████████████████████████████████| 95/95 [00:00<00:00, 95.79batch/s]\n"
     ]
    },
    {
     "name": "stdout",
     "output_type": "stream",
     "text": [
      "Test loss: 0.0010393449256968636\n",
      "epoch time: 49.6870 seconds\n",
      "\n",
      "Starting epoch 89\n"
     ]
    },
    {
     "name": "stderr",
     "output_type": "stream",
     "text": [
      "Epoch 89/500: 100%|███████████████████████████| 909/909 [00:48<00:00, 18.70batch/s, batch loss=0.000377, mean epoch loss=0.000793]\n"
     ]
    },
    {
     "name": "stdout",
     "output_type": "stream",
     "text": [
      "Training loss: 0.0007932764534202375\n"
     ]
    },
    {
     "name": "stderr",
     "output_type": "stream",
     "text": [
      "Testing: 100%|███████████████████████████████████████████████████████████████████████| 95/95 [00:00<00:00, 97.91batch/s]\n"
     ]
    },
    {
     "name": "stdout",
     "output_type": "stream",
     "text": [
      "Test loss: 0.0010594644697113453\n",
      "epoch time: 49.5832 seconds\n",
      "\n",
      "Starting epoch 90\n"
     ]
    },
    {
     "name": "stderr",
     "output_type": "stream",
     "text": [
      "Epoch 90/500: 100%|███████████████████████████| 909/909 [00:48<00:00, 18.66batch/s, batch loss=0.000266, mean epoch loss=0.000793]\n"
     ]
    },
    {
     "name": "stdout",
     "output_type": "stream",
     "text": [
      "Training loss: 0.0007930050721517288\n"
     ]
    },
    {
     "name": "stderr",
     "output_type": "stream",
     "text": [
      "Testing: 100%|███████████████████████████████████████████████████████████████████████| 95/95 [00:01<00:00, 94.63batch/s]\n"
     ]
    },
    {
     "name": "stdout",
     "output_type": "stream",
     "text": [
      "Test loss: 0.0010478483764209637\n",
      "epoch time: 49.7231 seconds\n",
      "\n",
      "Starting epoch 91\n"
     ]
    },
    {
     "name": "stderr",
     "output_type": "stream",
     "text": [
      "Epoch 91/500: 100%|███████████████████████████| 909/909 [00:48<00:00, 18.66batch/s, batch loss=0.000215, mean epoch loss=0.000793]\n"
     ]
    },
    {
     "name": "stdout",
     "output_type": "stream",
     "text": [
      "Training loss: 0.0007932363453202246\n"
     ]
    },
    {
     "name": "stderr",
     "output_type": "stream",
     "text": [
      "Testing: 100%|███████████████████████████████████████████████████████████████████████| 95/95 [00:00<00:00, 97.56batch/s]\n"
     ]
    },
    {
     "name": "stdout",
     "output_type": "stream",
     "text": [
      "Test loss: 0.0010672013897228202\n",
      "epoch time: 49.6886 seconds\n",
      "\n",
      "Starting epoch 92\n"
     ]
    },
    {
     "name": "stderr",
     "output_type": "stream",
     "text": [
      "Epoch 92/500: 100%|████████████████████████████| 909/909 [00:48<00:00, 18.65batch/s, batch loss=0.00198, mean epoch loss=0.000785]\n"
     ]
    },
    {
     "name": "stdout",
     "output_type": "stream",
     "text": [
      "Training loss: 0.000784876745203994\n"
     ]
    },
    {
     "name": "stderr",
     "output_type": "stream",
     "text": [
      "Testing: 100%|███████████████████████████████████████████████████████████████████████| 95/95 [00:00<00:00, 95.43batch/s]\n"
     ]
    },
    {
     "name": "stdout",
     "output_type": "stream",
     "text": [
      "Test loss: 0.0010489301999577468\n",
      "epoch time: 49.7462 seconds\n",
      "\n",
      "Starting epoch 93\n"
     ]
    },
    {
     "name": "stderr",
     "output_type": "stream",
     "text": [
      "Epoch 93/500: 100%|████████████████████████████| 909/909 [00:48<00:00, 18.71batch/s, batch loss=0.00027, mean epoch loss=0.000775]\n"
     ]
    },
    {
     "name": "stdout",
     "output_type": "stream",
     "text": [
      "Training loss: 0.000774724790903922\n"
     ]
    },
    {
     "name": "stderr",
     "output_type": "stream",
     "text": [
      "Testing: 100%|███████████████████████████████████████████████████████████████████████| 95/95 [00:00<00:00, 96.53batch/s]\n"
     ]
    },
    {
     "name": "stdout",
     "output_type": "stream",
     "text": [
      "Test loss: 0.001041287067652631\n",
      "epoch time: 49.5579 seconds\n",
      "\n",
      "Starting epoch 94\n"
     ]
    },
    {
     "name": "stderr",
     "output_type": "stream",
     "text": [
      "Epoch 94/500: 100%|███████████████████████████| 909/909 [00:48<00:00, 18.60batch/s, batch loss=0.000283, mean epoch loss=0.000775]\n"
     ]
    },
    {
     "name": "stdout",
     "output_type": "stream",
     "text": [
      "Training loss: 0.0007754602845212239\n"
     ]
    },
    {
     "name": "stderr",
     "output_type": "stream",
     "text": [
      "Testing: 100%|███████████████████████████████████████████████████████████████████████| 95/95 [00:00<00:00, 97.69batch/s]\n"
     ]
    },
    {
     "name": "stdout",
     "output_type": "stream",
     "text": [
      "Test loss: 0.0010341331457694699\n",
      "epoch time: 49.8401 seconds\n",
      "\n",
      "Starting epoch 95\n"
     ]
    },
    {
     "name": "stderr",
     "output_type": "stream",
     "text": [
      "Epoch 95/500: 100%|███████████████████████████| 909/909 [00:48<00:00, 18.66batch/s, batch loss=0.000288, mean epoch loss=0.000777]\n"
     ]
    },
    {
     "name": "stdout",
     "output_type": "stream",
     "text": [
      "Training loss: 0.000777034309441152\n"
     ]
    },
    {
     "name": "stderr",
     "output_type": "stream",
     "text": [
      "Testing: 100%|███████████████████████████████████████████████████████████████████████| 95/95 [00:00<00:00, 97.53batch/s]\n"
     ]
    },
    {
     "name": "stdout",
     "output_type": "stream",
     "text": [
      "Test loss: 0.001036330556962639\n",
      "epoch time: 49.6919 seconds\n",
      "\n",
      "Starting epoch 96\n"
     ]
    },
    {
     "name": "stderr",
     "output_type": "stream",
     "text": [
      "Epoch 96/500: 100%|████████████████████████████| 909/909 [00:48<00:00, 18.67batch/s, batch loss=0.00113, mean epoch loss=0.000774]\n"
     ]
    },
    {
     "name": "stdout",
     "output_type": "stream",
     "text": [
      "Training loss: 0.0007737585223051033\n"
     ]
    },
    {
     "name": "stderr",
     "output_type": "stream",
     "text": [
      "Testing: 100%|███████████████████████████████████████████████████████████████████████| 95/95 [00:00<00:00, 97.84batch/s]\n"
     ]
    },
    {
     "name": "stdout",
     "output_type": "stream",
     "text": [
      "Test loss: 0.0010527258734280048\n",
      "epoch time: 49.6484 seconds\n",
      "\n",
      "Starting epoch 97\n"
     ]
    },
    {
     "name": "stderr",
     "output_type": "stream",
     "text": [
      "Epoch 97/500: 100%|████████████████████████████| 909/909 [00:48<00:00, 18.61batch/s, batch loss=0.00058, mean epoch loss=0.000773]\n"
     ]
    },
    {
     "name": "stdout",
     "output_type": "stream",
     "text": [
      "Training loss: 0.000772562009901691\n"
     ]
    },
    {
     "name": "stderr",
     "output_type": "stream",
     "text": [
      "Testing: 100%|███████████████████████████████████████████████████████████████████████| 95/95 [00:00<00:00, 96.13batch/s]\n"
     ]
    },
    {
     "name": "stdout",
     "output_type": "stream",
     "text": [
      "Test loss: 0.001025582480513932\n",
      "epoch time: 49.8388 seconds\n",
      "\n",
      "Starting epoch 98\n"
     ]
    },
    {
     "name": "stderr",
     "output_type": "stream",
     "text": [
      "Epoch 98/500: 100%|████████████████████████████| 909/909 [00:48<00:00, 18.60batch/s, batch loss=0.00013, mean epoch loss=0.000773]\n"
     ]
    },
    {
     "name": "stdout",
     "output_type": "stream",
     "text": [
      "Training loss: 0.0007728411756123942\n"
     ]
    },
    {
     "name": "stderr",
     "output_type": "stream",
     "text": [
      "Testing: 100%|███████████████████████████████████████████████████████████████████████| 95/95 [00:00<00:00, 97.82batch/s]\n"
     ]
    },
    {
     "name": "stdout",
     "output_type": "stream",
     "text": [
      "Test loss: 0.0010429144365173813\n",
      "epoch time: 49.8516 seconds\n",
      "\n",
      "Starting epoch 99\n"
     ]
    },
    {
     "name": "stderr",
     "output_type": "stream",
     "text": [
      "Epoch 99/500: 100%|███████████████████████████| 909/909 [00:48<00:00, 18.59batch/s, batch loss=0.000897, mean epoch loss=0.000772]\n"
     ]
    },
    {
     "name": "stdout",
     "output_type": "stream",
     "text": [
      "Training loss: 0.0007720345022902904\n"
     ]
    },
    {
     "name": "stderr",
     "output_type": "stream",
     "text": [
      "Testing: 100%|███████████████████████████████████████████████████████████████████████| 95/95 [00:00<00:00, 97.88batch/s]\n"
     ]
    },
    {
     "name": "stdout",
     "output_type": "stream",
     "text": [
      "Test loss: 0.0010485144607771777\n",
      "epoch time: 49.8627 seconds\n",
      "\n",
      "Starting epoch 100\n"
     ]
    },
    {
     "name": "stderr",
     "output_type": "stream",
     "text": [
      "Epoch 100/500: 100%|██████████████████████████| 909/909 [00:48<00:00, 18.67batch/s, batch loss=0.000267, mean epoch loss=0.000772]\n"
     ]
    },
    {
     "name": "stdout",
     "output_type": "stream",
     "text": [
      "Training loss: 0.0007719346196691011\n"
     ]
    },
    {
     "name": "stderr",
     "output_type": "stream",
     "text": [
      "Testing: 100%|███████████████████████████████████████████████████████████████████████| 95/95 [00:00<00:00, 95.42batch/s]\n"
     ]
    },
    {
     "name": "stdout",
     "output_type": "stream",
     "text": [
      "Test loss: 0.0010559605557079379\n",
      "epoch time: 49.6946 seconds\n",
      "\n",
      "Starting epoch 101\n"
     ]
    },
    {
     "name": "stderr",
     "output_type": "stream",
     "text": [
      "Epoch 101/500: 100%|██████████████████████████| 909/909 [00:48<00:00, 18.67batch/s, batch loss=0.000562, mean epoch loss=0.000767]\n"
     ]
    },
    {
     "name": "stdout",
     "output_type": "stream",
     "text": [
      "Training loss: 0.0007671809753056511\n"
     ]
    },
    {
     "name": "stderr",
     "output_type": "stream",
     "text": [
      "Testing: 100%|███████████████████████████████████████████████████████████████████████| 95/95 [00:00<00:00, 97.43batch/s]\n"
     ]
    },
    {
     "name": "stdout",
     "output_type": "stream",
     "text": [
      "Test loss: 0.0010655724175433678\n",
      "epoch time: 49.6711 seconds\n",
      "\n",
      "Starting epoch 102\n"
     ]
    },
    {
     "name": "stderr",
     "output_type": "stream",
     "text": [
      "Epoch 102/500: 100%|███████████████████████████| 909/909 [00:48<00:00, 18.63batch/s, batch loss=0.00215, mean epoch loss=0.000769]\n"
     ]
    },
    {
     "name": "stdout",
     "output_type": "stream",
     "text": [
      "Training loss: 0.0007688353030807395\n"
     ]
    },
    {
     "name": "stderr",
     "output_type": "stream",
     "text": [
      "Testing: 100%|███████████████████████████████████████████████████████████████████████| 95/95 [00:00<00:00, 97.52batch/s]\n"
     ]
    },
    {
     "name": "stdout",
     "output_type": "stream",
     "text": [
      "Test loss: 0.001038631329643785\n",
      "epoch time: 49.7669 seconds\n",
      "\n",
      "Starting epoch 103\n"
     ]
    },
    {
     "name": "stderr",
     "output_type": "stream",
     "text": [
      "Epoch 103/500: 100%|██████████████████████████| 909/909 [00:48<00:00, 18.73batch/s, batch loss=0.000415, mean epoch loss=0.000767]\n"
     ]
    },
    {
     "name": "stdout",
     "output_type": "stream",
     "text": [
      "Training loss: 0.0007674866568311107\n"
     ]
    },
    {
     "name": "stderr",
     "output_type": "stream",
     "text": [
      "Testing: 100%|███████████████████████████████████████████████████████████████████████| 95/95 [00:00<00:00, 96.19batch/s]\n"
     ]
    },
    {
     "name": "stdout",
     "output_type": "stream",
     "text": [
      "Test loss: 0.0010565145226121928\n",
      "epoch time: 49.5251 seconds\n",
      "\n",
      "Starting epoch 104\n"
     ]
    },
    {
     "name": "stderr",
     "output_type": "stream",
     "text": [
      "Epoch 104/500: 100%|███████████████████████████| 909/909 [00:48<00:00, 18.59batch/s, batch loss=0.00181, mean epoch loss=0.000763]\n"
     ]
    },
    {
     "name": "stdout",
     "output_type": "stream",
     "text": [
      "Training loss: 0.0007625012988315811\n"
     ]
    },
    {
     "name": "stderr",
     "output_type": "stream",
     "text": [
      "Testing: 100%|███████████████████████████████████████████████████████████████████████| 95/95 [00:00<00:00, 97.31batch/s]\n"
     ]
    },
    {
     "name": "stdout",
     "output_type": "stream",
     "text": [
      "Test loss: 0.0010295734682586044\n",
      "epoch time: 49.8775 seconds\n",
      "\n",
      "Starting epoch 105\n"
     ]
    },
    {
     "name": "stderr",
     "output_type": "stream",
     "text": [
      "Epoch 105/500: 100%|█████████████████████████████| 909/909 [00:48<00:00, 18.58batch/s, batch loss=0.001, mean epoch loss=0.000762]\n"
     ]
    },
    {
     "name": "stdout",
     "output_type": "stream",
     "text": [
      "Training loss: 0.0007617361794199105\n"
     ]
    },
    {
     "name": "stderr",
     "output_type": "stream",
     "text": [
      "Testing: 100%|███████████████████████████████████████████████████████████████████████| 95/95 [00:00<00:00, 96.69batch/s]\n"
     ]
    },
    {
     "name": "stdout",
     "output_type": "stream",
     "text": [
      "Test loss: 0.0010430141773356712\n",
      "epoch time: 49.9178 seconds\n",
      "\n",
      "Starting epoch 106\n"
     ]
    },
    {
     "name": "stderr",
     "output_type": "stream",
     "text": [
      "Epoch 106/500: 100%|███████████████████████████| 909/909 [00:48<00:00, 18.65batch/s, batch loss=0.000278, mean epoch loss=0.00076]\n"
     ]
    },
    {
     "name": "stdout",
     "output_type": "stream",
     "text": [
      "Training loss: 0.0007601725047297864\n"
     ]
    },
    {
     "name": "stderr",
     "output_type": "stream",
     "text": [
      "Testing: 100%|███████████████████████████████████████████████████████████████████████| 95/95 [00:00<00:00, 96.48batch/s]\n"
     ]
    },
    {
     "name": "stdout",
     "output_type": "stream",
     "text": [
      "Test loss: 0.0010641617486008296\n",
      "epoch time: 49.7204 seconds\n",
      "\n",
      "Starting epoch 107\n"
     ]
    },
    {
     "name": "stderr",
     "output_type": "stream",
     "text": [
      "Epoch 107/500: 100%|████████████████████████████| 909/909 [00:48<00:00, 18.72batch/s, batch loss=0.00046, mean epoch loss=0.00076]\n"
     ]
    },
    {
     "name": "stdout",
     "output_type": "stream",
     "text": [
      "Training loss: 0.0007598550654089051\n"
     ]
    },
    {
     "name": "stderr",
     "output_type": "stream",
     "text": [
      "Testing: 100%|███████████████████████████████████████████████████████████████████████| 95/95 [00:00<00:00, 97.99batch/s]\n"
     ]
    },
    {
     "name": "stdout",
     "output_type": "stream",
     "text": [
      "Test loss: 0.0010642450914019718\n",
      "epoch time: 49.5281 seconds\n",
      "\n",
      "Starting epoch 108\n"
     ]
    },
    {
     "name": "stderr",
     "output_type": "stream",
     "text": [
      "Epoch 108/500: 100%|██████████████████████████| 909/909 [00:48<00:00, 18.65batch/s, batch loss=0.000501, mean epoch loss=0.000761]\n"
     ]
    },
    {
     "name": "stdout",
     "output_type": "stream",
     "text": [
      "Training loss: 0.0007610138371560289\n"
     ]
    },
    {
     "name": "stderr",
     "output_type": "stream",
     "text": [
      "Testing: 100%|███████████████████████████████████████████████████████████████████████| 95/95 [00:00<00:00, 99.03batch/s]\n"
     ]
    },
    {
     "name": "stdout",
     "output_type": "stream",
     "text": [
      "Test loss: 0.0010551310959272086\n",
      "epoch time: 49.7115 seconds\n",
      "\n",
      "Starting epoch 109\n"
     ]
    },
    {
     "name": "stderr",
     "output_type": "stream",
     "text": [
      "Epoch 109/500: 100%|██████████████████████████| 909/909 [00:48<00:00, 18.62batch/s, batch loss=0.000755, mean epoch loss=0.000759]\n"
     ]
    },
    {
     "name": "stdout",
     "output_type": "stream",
     "text": [
      "Training loss: 0.0007593236601894772\n"
     ]
    },
    {
     "name": "stderr",
     "output_type": "stream",
     "text": [
      "Testing: 100%|███████████████████████████████████████████████████████████████████████| 95/95 [00:00<00:00, 96.69batch/s]\n"
     ]
    },
    {
     "name": "stdout",
     "output_type": "stream",
     "text": [
      "Test loss: 0.0010564074483945182\n",
      "epoch time: 49.7965 seconds\n",
      "\n",
      "Starting epoch 110\n"
     ]
    },
    {
     "name": "stderr",
     "output_type": "stream",
     "text": [
      "Epoch 110/500: 100%|███████████████████████████| 909/909 [00:48<00:00, 18.60batch/s, batch loss=0.00026, mean epoch loss=0.000759]\n"
     ]
    },
    {
     "name": "stdout",
     "output_type": "stream",
     "text": [
      "Training loss: 0.0007586561360028117\n"
     ]
    },
    {
     "name": "stderr",
     "output_type": "stream",
     "text": [
      "Testing: 100%|███████████████████████████████████████████████████████████████████████| 95/95 [00:00<00:00, 99.42batch/s]\n"
     ]
    },
    {
     "name": "stdout",
     "output_type": "stream",
     "text": [
      "Test loss: 0.0010520327131656047\n",
      "epoch time: 49.8354 seconds\n",
      "\n",
      "Starting epoch 111\n"
     ]
    },
    {
     "name": "stderr",
     "output_type": "stream",
     "text": [
      "Epoch 111/500: 100%|███████████████████████████| 909/909 [00:48<00:00, 18.64batch/s, batch loss=0.00114, mean epoch loss=0.000758]\n"
     ]
    },
    {
     "name": "stdout",
     "output_type": "stream",
     "text": [
      "Training loss: 0.0007576334402875717\n"
     ]
    },
    {
     "name": "stderr",
     "output_type": "stream",
     "text": [
      "Testing: 100%|███████████████████████████████████████████████████████████████████████| 95/95 [00:00<00:00, 99.81batch/s]\n"
     ]
    },
    {
     "name": "stdout",
     "output_type": "stream",
     "text": [
      "Test loss: 0.0010305655979257274\n",
      "epoch time: 49.7265 seconds\n",
      "\n",
      "Starting epoch 112\n"
     ]
    },
    {
     "name": "stderr",
     "output_type": "stream",
     "text": [
      "Epoch 112/500: 100%|███████████████████████████| 909/909 [00:48<00:00, 18.64batch/s, batch loss=0.00102, mean epoch loss=0.000757]\n"
     ]
    },
    {
     "name": "stdout",
     "output_type": "stream",
     "text": [
      "Training loss: 0.0007569357567883406\n"
     ]
    },
    {
     "name": "stderr",
     "output_type": "stream",
     "text": [
      "Testing: 100%|███████████████████████████████████████████████████████████████████████| 95/95 [00:00<00:00, 99.43batch/s]\n"
     ]
    },
    {
     "name": "stdout",
     "output_type": "stream",
     "text": [
      "Test loss: 0.0010660492392305873\n",
      "epoch time: 49.7345 seconds\n",
      "\n",
      "Starting epoch 113\n"
     ]
    },
    {
     "name": "stderr",
     "output_type": "stream",
     "text": [
      "Epoch 113/500: 100%|██████████████████████████| 909/909 [00:48<00:00, 18.58batch/s, batch loss=0.000988, mean epoch loss=0.000758]\n"
     ]
    },
    {
     "name": "stdout",
     "output_type": "stream",
     "text": [
      "Training loss: 0.0007576370249573823\n"
     ]
    },
    {
     "name": "stderr",
     "output_type": "stream",
     "text": [
      "Testing: 100%|███████████████████████████████████████████████████████████████████████| 95/95 [00:00<00:00, 99.86batch/s]\n"
     ]
    },
    {
     "name": "stdout",
     "output_type": "stream",
     "text": [
      "Test loss: 0.0010392324848860306\n",
      "epoch time: 49.8774 seconds\n",
      "\n",
      "Starting epoch 114\n"
     ]
    },
    {
     "name": "stderr",
     "output_type": "stream",
     "text": [
      "Epoch 114/500: 100%|████████████████████████████| 909/909 [00:48<00:00, 18.63batch/s, batch loss=0.0018, mean epoch loss=0.000756]\n"
     ]
    },
    {
     "name": "stdout",
     "output_type": "stream",
     "text": [
      "Training loss: 0.0007562815540436116\n"
     ]
    },
    {
     "name": "stderr",
     "output_type": "stream",
     "text": [
      "Testing: 100%|███████████████████████████████████████████████████████████████████████| 95/95 [00:01<00:00, 94.59batch/s]\n"
     ]
    },
    {
     "name": "stdout",
     "output_type": "stream",
     "text": [
      "Test loss: 0.0010468441921004437\n",
      "epoch time: 49.7971 seconds\n",
      "\n",
      "Starting epoch 115\n"
     ]
    },
    {
     "name": "stderr",
     "output_type": "stream",
     "text": [
      "Epoch 115/500: 100%|██████████████████████████| 909/909 [00:49<00:00, 18.45batch/s, batch loss=0.000946, mean epoch loss=0.000754]\n"
     ]
    },
    {
     "name": "stdout",
     "output_type": "stream",
     "text": [
      "Training loss: 0.0007544544070789207\n"
     ]
    },
    {
     "name": "stderr",
     "output_type": "stream",
     "text": [
      "Testing: 100%|███████████████████████████████████████████████████████████████████████| 95/95 [00:01<00:00, 93.62batch/s]\n"
     ]
    },
    {
     "name": "stdout",
     "output_type": "stream",
     "text": [
      "Test loss: 0.0010511346017378137\n",
      "epoch time: 50.2854 seconds\n",
      "\n",
      "Starting epoch 116\n"
     ]
    },
    {
     "name": "stderr",
     "output_type": "stream",
     "text": [
      "Epoch 116/500: 100%|██████████████████████████| 909/909 [00:49<00:00, 18.45batch/s, batch loss=0.000361, mean epoch loss=0.000754]\n"
     ]
    },
    {
     "name": "stdout",
     "output_type": "stream",
     "text": [
      "Training loss: 0.0007535162604124745\n"
     ]
    },
    {
     "name": "stderr",
     "output_type": "stream",
     "text": [
      "Testing: 100%|███████████████████████████████████████████████████████████████████████| 95/95 [00:01<00:00, 92.70batch/s]\n"
     ]
    },
    {
     "name": "stdout",
     "output_type": "stream",
     "text": [
      "Test loss: 0.0010559610752879005\n",
      "epoch time: 50.3047 seconds\n",
      "\n",
      "Starting epoch 117\n"
     ]
    },
    {
     "name": "stderr",
     "output_type": "stream",
     "text": [
      "Epoch 117/500: 100%|██████████████████████████| 909/909 [00:49<00:00, 18.55batch/s, batch loss=0.000926, mean epoch loss=0.000753]\n"
     ]
    },
    {
     "name": "stdout",
     "output_type": "stream",
     "text": [
      "Training loss: 0.0007531049390583057\n"
     ]
    },
    {
     "name": "stderr",
     "output_type": "stream",
     "text": [
      "Testing: 100%|███████████████████████████████████████████████████████████████████████| 95/95 [00:00<00:00, 96.51batch/s]\n"
     ]
    },
    {
     "name": "stdout",
     "output_type": "stream",
     "text": [
      "Test loss: 0.0010668079911020437\n",
      "epoch time: 50.0016 seconds\n",
      "\n",
      "Starting epoch 118\n"
     ]
    },
    {
     "name": "stderr",
     "output_type": "stream",
     "text": [
      "Epoch 118/500: 100%|██████████████████████████| 909/909 [00:49<00:00, 18.52batch/s, batch loss=0.000111, mean epoch loss=0.000753]\n"
     ]
    },
    {
     "name": "stdout",
     "output_type": "stream",
     "text": [
      "Training loss: 0.0007525886792249131\n"
     ]
    },
    {
     "name": "stderr",
     "output_type": "stream",
     "text": [
      "Testing: 100%|███████████████████████████████████████████████████████████████████████| 95/95 [00:01<00:00, 92.42batch/s]\n"
     ]
    },
    {
     "name": "stdout",
     "output_type": "stream",
     "text": [
      "Test loss: 0.0010612252879103547\n",
      "epoch time: 50.1092 seconds\n",
      "\n",
      "Starting epoch 119\n"
     ]
    },
    {
     "name": "stderr",
     "output_type": "stream",
     "text": [
      "Epoch 119/500: 100%|██████████████████████████| 909/909 [00:49<00:00, 18.53batch/s, batch loss=0.000646, mean epoch loss=0.000754]\n"
     ]
    },
    {
     "name": "stdout",
     "output_type": "stream",
     "text": [
      "Training loss: 0.000753750479751482\n"
     ]
    },
    {
     "name": "stderr",
     "output_type": "stream",
     "text": [
      "Testing: 100%|███████████████████████████████████████████████████████████████████████| 95/95 [00:00<00:00, 96.71batch/s]\n"
     ]
    },
    {
     "name": "stdout",
     "output_type": "stream",
     "text": [
      "Test loss: 0.0010525465754510246\n",
      "epoch time: 50.0510 seconds\n",
      "\n",
      "Starting epoch 120\n"
     ]
    },
    {
     "name": "stderr",
     "output_type": "stream",
     "text": [
      "Epoch 120/500: 100%|████████████████████████████| 909/909 [00:48<00:00, 18.61batch/s, batch loss=0.0002, mean epoch loss=0.000752]\n"
     ]
    },
    {
     "name": "stdout",
     "output_type": "stream",
     "text": [
      "Training loss: 0.0007515089397278288\n"
     ]
    },
    {
     "name": "stderr",
     "output_type": "stream",
     "text": [
      "Testing: 100%|███████████████████████████████████████████████████████████████████████| 95/95 [00:00<00:00, 96.77batch/s]\n"
     ]
    },
    {
     "name": "stdout",
     "output_type": "stream",
     "text": [
      "Test loss: 0.001043072282826822\n",
      "\n",
      "Early stopping at epoch 120. No improvement in test loss for 50 epochs.\n",
      "lr: 2.1104834703347795e-05, weight decay: 0.00012081495499235992, final epoch: 69, final test loss: 0.001020057675257129\n",
      "---------------------------------------------------------\n",
      "starting trial 2\n",
      "lr: 0.000567164517238037, weight decay: 0.0004488643154359018\n",
      "\n",
      "Starting epoch 1\n"
     ]
    },
    {
     "name": "stderr",
     "output_type": "stream",
     "text": [
      "Epoch 1/500: 100%|██████████████████████████████| 909/909 [00:48<00:00, 18.62batch/s, batch loss=0.00199, mean epoch loss=0.00184]\n"
     ]
    },
    {
     "name": "stdout",
     "output_type": "stream",
     "text": [
      "Training loss: 0.001837962945078974\n"
     ]
    },
    {
     "name": "stderr",
     "output_type": "stream",
     "text": [
      "Testing: 100%|███████████████████████████████████████████████████████████████████████| 95/95 [00:01<00:00, 94.04batch/s]\n"
     ]
    },
    {
     "name": "stdout",
     "output_type": "stream",
     "text": [
      "Test loss: 0.0014698846424978814\n",
      "epoch time: 49.8204 seconds\n",
      "\n",
      "Starting epoch 2\n"
     ]
    },
    {
     "name": "stderr",
     "output_type": "stream",
     "text": [
      "Epoch 2/500: 100%|███████████████████████████████| 909/909 [00:48<00:00, 18.63batch/s, batch loss=0.00358, mean epoch loss=0.0015]\n"
     ]
    },
    {
     "name": "stdout",
     "output_type": "stream",
     "text": [
      "Training loss: 0.0014988310475867268\n"
     ]
    },
    {
     "name": "stderr",
     "output_type": "stream",
     "text": [
      "Testing: 100%|███████████████████████████████████████████████████████████████████████| 95/95 [00:00<00:00, 98.89batch/s]\n"
     ]
    },
    {
     "name": "stdout",
     "output_type": "stream",
     "text": [
      "Test loss: 0.0014310202256494545\n",
      "epoch time: 49.7652 seconds\n",
      "\n",
      "Starting epoch 3\n"
     ]
    },
    {
     "name": "stderr",
     "output_type": "stream",
     "text": [
      "Epoch 3/500: 100%|██████████████████████████████| 909/909 [00:48<00:00, 18.61batch/s, batch loss=0.00142, mean epoch loss=0.00145]\n"
     ]
    },
    {
     "name": "stdout",
     "output_type": "stream",
     "text": [
      "Training loss: 0.0014517378081204252\n"
     ]
    },
    {
     "name": "stderr",
     "output_type": "stream",
     "text": [
      "Testing: 100%|███████████████████████████████████████████████████████████████████████| 95/95 [00:00<00:00, 95.88batch/s]\n"
     ]
    },
    {
     "name": "stdout",
     "output_type": "stream",
     "text": [
      "Test loss: 0.0013242674731085763\n",
      "epoch time: 49.8325 seconds\n",
      "\n",
      "Starting epoch 4\n"
     ]
    },
    {
     "name": "stderr",
     "output_type": "stream",
     "text": [
      "Epoch 4/500: 100%|█████████████████████████████| 909/909 [00:48<00:00, 18.57batch/s, batch loss=0.000974, mean epoch loss=0.00138]\n"
     ]
    },
    {
     "name": "stdout",
     "output_type": "stream",
     "text": [
      "Training loss: 0.0013837818480511702\n"
     ]
    },
    {
     "name": "stderr",
     "output_type": "stream",
     "text": [
      "Testing: 100%|███████████████████████████████████████████████████████████████████████| 95/95 [00:00<00:00, 95.61batch/s]\n"
     ]
    },
    {
     "name": "stdout",
     "output_type": "stream",
     "text": [
      "Test loss: 0.0014137600435213627\n",
      "epoch time: 49.9402 seconds\n",
      "\n",
      "Starting epoch 5\n"
     ]
    },
    {
     "name": "stderr",
     "output_type": "stream",
     "text": [
      "Epoch 5/500: 100%|██████████████████████████████| 909/909 [00:48<00:00, 18.59batch/s, batch loss=0.00196, mean epoch loss=0.00135]\n"
     ]
    },
    {
     "name": "stdout",
     "output_type": "stream",
     "text": [
      "Training loss: 0.0013511075916914199\n"
     ]
    },
    {
     "name": "stderr",
     "output_type": "stream",
     "text": [
      "Testing: 100%|███████████████████████████████████████████████████████████████████████| 95/95 [00:00<00:00, 98.41batch/s]\n"
     ]
    },
    {
     "name": "stdout",
     "output_type": "stream",
     "text": [
      "Test loss: 0.0013645879207424035\n",
      "epoch time: 49.8529 seconds\n",
      "\n",
      "Starting epoch 6\n"
     ]
    },
    {
     "name": "stderr",
     "output_type": "stream",
     "text": [
      "Epoch 6/500: 100%|█████████████████████████████| 909/909 [00:48<00:00, 18.62batch/s, batch loss=0.000585, mean epoch loss=0.00133]\n"
     ]
    },
    {
     "name": "stdout",
     "output_type": "stream",
     "text": [
      "Training loss: 0.0013260486219011706\n"
     ]
    },
    {
     "name": "stderr",
     "output_type": "stream",
     "text": [
      "Testing: 100%|███████████████████████████████████████████████████████████████████████| 95/95 [00:00<00:00, 98.70batch/s]\n"
     ]
    },
    {
     "name": "stdout",
     "output_type": "stream",
     "text": [
      "Test loss: 0.0013325226514624726\n",
      "epoch time: 49.7899 seconds\n",
      "\n",
      "Starting epoch 7\n"
     ]
    },
    {
     "name": "stderr",
     "output_type": "stream",
     "text": [
      "Epoch 7/500: 100%|██████████████████████████████| 909/909 [00:48<00:00, 18.58batch/s, batch loss=0.00144, mean epoch loss=0.00129]\n"
     ]
    },
    {
     "name": "stdout",
     "output_type": "stream",
     "text": [
      "Training loss: 0.0012870646539297646\n"
     ]
    },
    {
     "name": "stderr",
     "output_type": "stream",
     "text": [
      "Testing: 100%|███████████████████████████████████████████████████████████████████████| 95/95 [00:00<00:00, 98.73batch/s]\n"
     ]
    },
    {
     "name": "stdout",
     "output_type": "stream",
     "text": [
      "Test loss: 0.0012024192301875079\n",
      "epoch time: 49.8931 seconds\n",
      "\n",
      "Starting epoch 8\n"
     ]
    },
    {
     "name": "stderr",
     "output_type": "stream",
     "text": [
      "Epoch 8/500: 100%|███████████████████████████████| 909/909 [00:49<00:00, 18.55batch/s, batch loss=0.0016, mean epoch loss=0.00126]\n"
     ]
    },
    {
     "name": "stdout",
     "output_type": "stream",
     "text": [
      "Training loss: 0.0012585646193999617\n"
     ]
    },
    {
     "name": "stderr",
     "output_type": "stream",
     "text": [
      "Testing: 100%|███████████████████████████████████████████████████████████████████████| 95/95 [00:00<00:00, 99.32batch/s]\n"
     ]
    },
    {
     "name": "stdout",
     "output_type": "stream",
     "text": [
      "Test loss: 0.0012151872236771802\n",
      "epoch time: 49.9597 seconds\n",
      "\n",
      "Starting epoch 9\n"
     ]
    },
    {
     "name": "stderr",
     "output_type": "stream",
     "text": [
      "Epoch 9/500: 100%|██████████████████████████████| 909/909 [00:48<00:00, 18.59batch/s, batch loss=0.00172, mean epoch loss=0.00127]\n"
     ]
    },
    {
     "name": "stdout",
     "output_type": "stream",
     "text": [
      "Training loss: 0.0012692465671555603\n"
     ]
    },
    {
     "name": "stderr",
     "output_type": "stream",
     "text": [
      "Testing: 100%|███████████████████████████████████████████████████████████████████████| 95/95 [00:00<00:00, 96.58batch/s]\n"
     ]
    },
    {
     "name": "stdout",
     "output_type": "stream",
     "text": [
      "Test loss: 0.0011908092235803213\n",
      "epoch time: 49.8782 seconds\n",
      "\n",
      "Starting epoch 10\n"
     ]
    },
    {
     "name": "stderr",
     "output_type": "stream",
     "text": [
      "Epoch 10/500: 100%|████████████████████████████| 909/909 [00:48<00:00, 18.59batch/s, batch loss=0.000554, mean epoch loss=0.00124]\n"
     ]
    },
    {
     "name": "stdout",
     "output_type": "stream",
     "text": [
      "Training loss: 0.0012442149761614694\n"
     ]
    },
    {
     "name": "stderr",
     "output_type": "stream",
     "text": [
      "Testing: 100%|███████████████████████████████████████████████████████████████████████| 95/95 [00:00<00:00, 96.37batch/s]\n"
     ]
    },
    {
     "name": "stdout",
     "output_type": "stream",
     "text": [
      "Test loss: 0.001213846500276735\n",
      "epoch time: 49.8892 seconds\n",
      "\n",
      "Starting epoch 11\n"
     ]
    },
    {
     "name": "stderr",
     "output_type": "stream",
     "text": [
      "Epoch 11/500: 100%|█████████████████████████████| 909/909 [00:48<00:00, 18.61batch/s, batch loss=0.00177, mean epoch loss=0.00121]\n"
     ]
    },
    {
     "name": "stdout",
     "output_type": "stream",
     "text": [
      "Training loss: 0.001208163252470726\n"
     ]
    },
    {
     "name": "stderr",
     "output_type": "stream",
     "text": [
      "Testing: 100%|███████████████████████████████████████████████████████████████████████| 95/95 [00:00<00:00, 98.79batch/s]\n"
     ]
    },
    {
     "name": "stdout",
     "output_type": "stream",
     "text": [
      "Test loss: 0.001507502218009904\n",
      "epoch time: 49.8210 seconds\n",
      "\n",
      "Starting epoch 12\n"
     ]
    },
    {
     "name": "stderr",
     "output_type": "stream",
     "text": [
      "Epoch 12/500: 100%|██████████████████████████████| 909/909 [00:48<00:00, 18.62batch/s, batch loss=0.00129, mean epoch loss=0.0012]\n"
     ]
    },
    {
     "name": "stdout",
     "output_type": "stream",
     "text": [
      "Training loss: 0.0012035943102763917\n"
     ]
    },
    {
     "name": "stderr",
     "output_type": "stream",
     "text": [
      "Testing: 100%|███████████████████████████████████████████████████████████████████████| 95/95 [00:00<00:00, 98.68batch/s]\n"
     ]
    },
    {
     "name": "stdout",
     "output_type": "stream",
     "text": [
      "Test loss: 0.0011524847858756977\n",
      "epoch time: 49.7948 seconds\n",
      "\n",
      "Starting epoch 13\n"
     ]
    },
    {
     "name": "stderr",
     "output_type": "stream",
     "text": [
      "Epoch 13/500: 100%|█████████████████████████████| 909/909 [00:49<00:00, 18.53batch/s, batch loss=0.00126, mean epoch loss=0.00119]\n"
     ]
    },
    {
     "name": "stdout",
     "output_type": "stream",
     "text": [
      "Training loss: 0.0011943504737611456\n"
     ]
    },
    {
     "name": "stderr",
     "output_type": "stream",
     "text": [
      "Testing: 100%|███████████████████████████████████████████████████████████████████████| 95/95 [00:00<00:00, 98.97batch/s]\n"
     ]
    },
    {
     "name": "stdout",
     "output_type": "stream",
     "text": [
      "Test loss: 0.0011551791818898269\n",
      "epoch time: 50.0116 seconds\n",
      "\n",
      "Starting epoch 14\n"
     ]
    },
    {
     "name": "stderr",
     "output_type": "stream",
     "text": [
      "Epoch 14/500: 100%|█████████████████████████████| 909/909 [00:48<00:00, 18.61batch/s, batch loss=0.00191, mean epoch loss=0.00118]\n"
     ]
    },
    {
     "name": "stdout",
     "output_type": "stream",
     "text": [
      "Training loss: 0.0011822417330815702\n"
     ]
    },
    {
     "name": "stderr",
     "output_type": "stream",
     "text": [
      "Testing: 100%|███████████████████████████████████████████████████████████████████████| 95/95 [00:00<00:00, 96.71batch/s]\n"
     ]
    },
    {
     "name": "stdout",
     "output_type": "stream",
     "text": [
      "Test loss: 0.001152340622655557\n",
      "epoch time: 49.8223 seconds\n",
      "\n",
      "Starting epoch 15\n"
     ]
    },
    {
     "name": "stderr",
     "output_type": "stream",
     "text": [
      "Epoch 15/500: 100%|█████████████████████████████| 909/909 [00:48<00:00, 18.61batch/s, batch loss=0.00085, mean epoch loss=0.00117]\n"
     ]
    },
    {
     "name": "stdout",
     "output_type": "stream",
     "text": [
      "Training loss: 0.0011671564868782987\n"
     ]
    },
    {
     "name": "stderr",
     "output_type": "stream",
     "text": [
      "Testing: 100%|███████████████████████████████████████████████████████████████████████| 95/95 [00:00<00:00, 98.93batch/s]\n"
     ]
    },
    {
     "name": "stdout",
     "output_type": "stream",
     "text": [
      "Test loss: 0.0012064237711264898\n",
      "epoch time: 49.8085 seconds\n",
      "\n",
      "Starting epoch 16\n"
     ]
    },
    {
     "name": "stderr",
     "output_type": "stream",
     "text": [
      "Epoch 16/500: 100%|█████████████████████████████| 909/909 [00:49<00:00, 18.49batch/s, batch loss=0.00121, mean epoch loss=0.00117]\n"
     ]
    },
    {
     "name": "stdout",
     "output_type": "stream",
     "text": [
      "Training loss: 0.0011720776187032626\n"
     ]
    },
    {
     "name": "stderr",
     "output_type": "stream",
     "text": [
      "Testing: 100%|███████████████████████████████████████████████████████████████████████| 95/95 [00:00<00:00, 98.84batch/s]\n"
     ]
    },
    {
     "name": "stdout",
     "output_type": "stream",
     "text": [
      "Test loss: 0.0013400196805473808\n",
      "epoch time: 50.1234 seconds\n",
      "\n",
      "Starting epoch 17\n"
     ]
    },
    {
     "name": "stderr",
     "output_type": "stream",
     "text": [
      "Epoch 17/500: 100%|█████████████████████████████| 909/909 [00:48<00:00, 18.58batch/s, batch loss=0.00148, mean epoch loss=0.00117]\n"
     ]
    },
    {
     "name": "stdout",
     "output_type": "stream",
     "text": [
      "Training loss: 0.0011654325266920284\n"
     ]
    },
    {
     "name": "stderr",
     "output_type": "stream",
     "text": [
      "Testing: 100%|███████████████████████████████████████████████████████████████████████| 95/95 [00:00<00:00, 98.82batch/s]\n"
     ]
    },
    {
     "name": "stdout",
     "output_type": "stream",
     "text": [
      "Test loss: 0.0011588634353278107\n",
      "epoch time: 49.8779 seconds\n",
      "\n",
      "Starting epoch 18\n"
     ]
    },
    {
     "name": "stderr",
     "output_type": "stream",
     "text": [
      "Epoch 18/500: 100%|████████████████████████████| 909/909 [00:48<00:00, 18.62batch/s, batch loss=0.000472, mean epoch loss=0.00116]\n"
     ]
    },
    {
     "name": "stdout",
     "output_type": "stream",
     "text": [
      "Training loss: 0.0011588224598360391\n"
     ]
    },
    {
     "name": "stderr",
     "output_type": "stream",
     "text": [
      "Testing: 100%|███████████████████████████████████████████████████████████████████████| 95/95 [00:00<00:00, 96.63batch/s]\n"
     ]
    },
    {
     "name": "stdout",
     "output_type": "stream",
     "text": [
      "Test loss: 0.0011709344989963269\n",
      "epoch time: 49.8077 seconds\n",
      "\n",
      "Starting epoch 19\n"
     ]
    },
    {
     "name": "stderr",
     "output_type": "stream",
     "text": [
      "Epoch 19/500: 100%|████████████████████████████| 909/909 [00:49<00:00, 18.52batch/s, batch loss=0.000867, mean epoch loss=0.00114]\n"
     ]
    },
    {
     "name": "stdout",
     "output_type": "stream",
     "text": [
      "Training loss: 0.001143983462975259\n"
     ]
    },
    {
     "name": "stderr",
     "output_type": "stream",
     "text": [
      "Testing: 100%|███████████████████████████████████████████████████████████████████████| 95/95 [00:00<00:00, 96.64batch/s]\n"
     ]
    },
    {
     "name": "stdout",
     "output_type": "stream",
     "text": [
      "Test loss: 0.0012305609529568373\n",
      "epoch time: 50.0572 seconds\n",
      "\n",
      "Starting epoch 20\n"
     ]
    },
    {
     "name": "stderr",
     "output_type": "stream",
     "text": [
      "Epoch 20/500: 100%|████████████████████████████| 909/909 [00:49<00:00, 18.54batch/s, batch loss=0.000957, mean epoch loss=0.00114]\n"
     ]
    },
    {
     "name": "stdout",
     "output_type": "stream",
     "text": [
      "Training loss: 0.0011436755778431909\n"
     ]
    },
    {
     "name": "stderr",
     "output_type": "stream",
     "text": [
      "Testing: 100%|███████████████████████████████████████████████████████████████████████| 95/95 [00:00<00:00, 99.20batch/s]\n"
     ]
    },
    {
     "name": "stdout",
     "output_type": "stream",
     "text": [
      "Test loss: 0.001185668554880019\n",
      "epoch time: 49.9939 seconds\n",
      "\n",
      "Starting epoch 21\n"
     ]
    },
    {
     "name": "stderr",
     "output_type": "stream",
     "text": [
      "Epoch 21/500: 100%|█████████████████████████████| 909/909 [00:48<00:00, 18.63batch/s, batch loss=0.00089, mean epoch loss=0.00113]\n"
     ]
    },
    {
     "name": "stdout",
     "output_type": "stream",
     "text": [
      "Training loss: 0.0011318569587215365\n"
     ]
    },
    {
     "name": "stderr",
     "output_type": "stream",
     "text": [
      "Testing: 100%|███████████████████████████████████████████████████████████████████████| 95/95 [00:00<00:00, 98.58batch/s]\n"
     ]
    },
    {
     "name": "stdout",
     "output_type": "stream",
     "text": [
      "Test loss: 0.0011347335352758436\n",
      "epoch time: 49.7469 seconds\n",
      "\n",
      "Starting epoch 22\n"
     ]
    },
    {
     "name": "stderr",
     "output_type": "stream",
     "text": [
      "Epoch 22/500: 100%|████████████████████████████| 909/909 [00:48<00:00, 18.59batch/s, batch loss=0.000858, mean epoch loss=0.00113]\n"
     ]
    },
    {
     "name": "stdout",
     "output_type": "stream",
     "text": [
      "Training loss: 0.0011304618773904575\n"
     ]
    },
    {
     "name": "stderr",
     "output_type": "stream",
     "text": [
      "Testing: 100%|███████████████████████████████████████████████████████████████████████| 95/95 [00:00<00:00, 96.17batch/s]\n"
     ]
    },
    {
     "name": "stdout",
     "output_type": "stream",
     "text": [
      "Test loss: 0.0011148917606700899\n",
      "epoch time: 49.8914 seconds\n",
      "\n",
      "Starting epoch 23\n"
     ]
    },
    {
     "name": "stderr",
     "output_type": "stream",
     "text": [
      "Epoch 23/500: 100%|█████████████████████████████| 909/909 [00:48<00:00, 18.60batch/s, batch loss=0.00153, mean epoch loss=0.00111]\n"
     ]
    },
    {
     "name": "stdout",
     "output_type": "stream",
     "text": [
      "Training loss: 0.001114651268368333\n"
     ]
    },
    {
     "name": "stderr",
     "output_type": "stream",
     "text": [
      "Testing: 100%|███████████████████████████████████████████████████████████████████████| 95/95 [00:00<00:00, 98.89batch/s]\n"
     ]
    },
    {
     "name": "stdout",
     "output_type": "stream",
     "text": [
      "Test loss: 0.0011301074256679338\n",
      "epoch time: 49.8268 seconds\n",
      "\n",
      "Starting epoch 24\n"
     ]
    },
    {
     "name": "stderr",
     "output_type": "stream",
     "text": [
      "Epoch 24/500: 100%|██████████████████████████████| 909/909 [00:48<00:00, 18.58batch/s, batch loss=0.0014, mean epoch loss=0.00111]\n"
     ]
    },
    {
     "name": "stdout",
     "output_type": "stream",
     "text": [
      "Training loss: 0.0011146124476525672\n"
     ]
    },
    {
     "name": "stderr",
     "output_type": "stream",
     "text": [
      "Testing: 100%|███████████████████████████████████████████████████████████████████████| 95/95 [00:00<00:00, 98.94batch/s]\n"
     ]
    },
    {
     "name": "stdout",
     "output_type": "stream",
     "text": [
      "Test loss: 0.001200881714957129\n",
      "epoch time: 49.8800 seconds\n",
      "\n",
      "Starting epoch 25\n"
     ]
    },
    {
     "name": "stderr",
     "output_type": "stream",
     "text": [
      "Epoch 25/500: 100%|█████████████████████████████| 909/909 [00:48<00:00, 18.62batch/s, batch loss=0.00145, mean epoch loss=0.00112]\n"
     ]
    },
    {
     "name": "stdout",
     "output_type": "stream",
     "text": [
      "Training loss: 0.001116748981338086\n"
     ]
    },
    {
     "name": "stderr",
     "output_type": "stream",
     "text": [
      "Testing: 100%|███████████████████████████████████████████████████████████████████████| 95/95 [00:00<00:00, 96.90batch/s]\n"
     ]
    },
    {
     "name": "stdout",
     "output_type": "stream",
     "text": [
      "Test loss: 0.0013425956057433626\n",
      "epoch time: 49.8099 seconds\n",
      "\n",
      "Starting epoch 26\n"
     ]
    },
    {
     "name": "stderr",
     "output_type": "stream",
     "text": [
      "Epoch 26/500: 100%|█████████████████████████████| 909/909 [00:48<00:00, 18.65batch/s, batch loss=0.000609, mean epoch loss=0.0011]\n"
     ]
    },
    {
     "name": "stdout",
     "output_type": "stream",
     "text": [
      "Training loss: 0.001100791565591328\n"
     ]
    },
    {
     "name": "stderr",
     "output_type": "stream",
     "text": [
      "Testing: 100%|███████████████████████████████████████████████████████████████████████| 95/95 [00:00<00:00, 98.34batch/s]\n"
     ]
    },
    {
     "name": "stdout",
     "output_type": "stream",
     "text": [
      "Test loss: 0.0011686515081428775\n",
      "epoch time: 49.7077 seconds\n",
      "\n",
      "Starting epoch 27\n"
     ]
    },
    {
     "name": "stderr",
     "output_type": "stream",
     "text": [
      "Epoch 27/500: 100%|█████████████████████████████| 909/909 [00:48<00:00, 18.65batch/s, batch loss=0.00112, mean epoch loss=0.00111]\n"
     ]
    },
    {
     "name": "stdout",
     "output_type": "stream",
     "text": [
      "Training loss: 0.0011111624351900753\n"
     ]
    },
    {
     "name": "stderr",
     "output_type": "stream",
     "text": [
      "Testing: 100%|███████████████████████████████████████████████████████████████████████| 95/95 [00:00<00:00, 98.89batch/s]\n"
     ]
    },
    {
     "name": "stdout",
     "output_type": "stream",
     "text": [
      "Test loss: 0.001122349640048158\n",
      "epoch time: 49.7081 seconds\n",
      "\n",
      "Starting epoch 28\n"
     ]
    },
    {
     "name": "stderr",
     "output_type": "stream",
     "text": [
      "Epoch 28/500: 100%|████████████████████████████| 909/909 [00:48<00:00, 18.66batch/s, batch loss=0.000221, mean epoch loss=0.00109]\n"
     ]
    },
    {
     "name": "stdout",
     "output_type": "stream",
     "text": [
      "Training loss: 0.0010939455645875948\n"
     ]
    },
    {
     "name": "stderr",
     "output_type": "stream",
     "text": [
      "Testing: 100%|███████████████████████████████████████████████████████████████████████| 95/95 [00:00<00:00, 99.49batch/s]\n"
     ]
    },
    {
     "name": "stdout",
     "output_type": "stream",
     "text": [
      "Test loss: 0.001126760244675863\n",
      "epoch time: 49.6715 seconds\n",
      "\n",
      "Starting epoch 29\n"
     ]
    },
    {
     "name": "stderr",
     "output_type": "stream",
     "text": [
      "Epoch 29/500: 100%|█████████████████████████████| 909/909 [00:48<00:00, 18.64batch/s, batch loss=0.00217, mean epoch loss=0.00109]\n"
     ]
    },
    {
     "name": "stdout",
     "output_type": "stream",
     "text": [
      "Training loss: 0.0010895025608550124\n"
     ]
    },
    {
     "name": "stderr",
     "output_type": "stream",
     "text": [
      "Testing: 100%|███████████████████████████████████████████████████████████████████████| 95/95 [00:00<00:00, 97.15batch/s]\n"
     ]
    },
    {
     "name": "stdout",
     "output_type": "stream",
     "text": [
      "Test loss: 0.0011222618383870118\n",
      "epoch time: 49.7397 seconds\n",
      "\n",
      "Starting epoch 30\n"
     ]
    },
    {
     "name": "stderr",
     "output_type": "stream",
     "text": [
      "Epoch 30/500: 100%|████████████████████████████| 909/909 [00:48<00:00, 18.60batch/s, batch loss=0.000661, mean epoch loss=0.00109]\n"
     ]
    },
    {
     "name": "stdout",
     "output_type": "stream",
     "text": [
      "Training loss: 0.0010855182371724307\n"
     ]
    },
    {
     "name": "stderr",
     "output_type": "stream",
     "text": [
      "Testing: 100%|███████████████████████████████████████████████████████████████████████| 95/95 [00:00<00:00, 99.18batch/s]\n"
     ]
    },
    {
     "name": "stdout",
     "output_type": "stream",
     "text": [
      "Test loss: 0.0011755281075908753\n",
      "epoch time: 49.8308 seconds\n",
      "\n",
      "Starting epoch 31\n"
     ]
    },
    {
     "name": "stderr",
     "output_type": "stream",
     "text": [
      "Epoch 31/500: 100%|████████████████████████████| 909/909 [00:48<00:00, 18.66batch/s, batch loss=0.000947, mean epoch loss=0.00107]\n"
     ]
    },
    {
     "name": "stdout",
     "output_type": "stream",
     "text": [
      "Training loss: 0.0010732845957875708\n"
     ]
    },
    {
     "name": "stderr",
     "output_type": "stream",
     "text": [
      "Testing: 100%|██████████████████████████████████████████████████████████████████████| 95/95 [00:00<00:00, 100.12batch/s]\n"
     ]
    },
    {
     "name": "stdout",
     "output_type": "stream",
     "text": [
      "Test loss: 0.0011959851936951867\n",
      "epoch time: 49.6723 seconds\n",
      "\n",
      "Starting epoch 32\n"
     ]
    },
    {
     "name": "stderr",
     "output_type": "stream",
     "text": [
      "Epoch 32/500: 100%|█████████████████████████████| 909/909 [00:48<00:00, 18.62batch/s, batch loss=0.00054, mean epoch loss=0.00108]\n"
     ]
    },
    {
     "name": "stdout",
     "output_type": "stream",
     "text": [
      "Training loss: 0.001081557214980237\n"
     ]
    },
    {
     "name": "stderr",
     "output_type": "stream",
     "text": [
      "Testing: 100%|███████████████████████████████████████████████████████████████████████| 95/95 [00:00<00:00, 96.36batch/s]\n"
     ]
    },
    {
     "name": "stdout",
     "output_type": "stream",
     "text": [
      "Test loss: 0.0010843138576570996\n",
      "epoch time: 49.8579 seconds\n",
      "\n",
      "Starting epoch 33\n"
     ]
    },
    {
     "name": "stderr",
     "output_type": "stream",
     "text": [
      "Epoch 33/500: 100%|█████████████████████████████| 909/909 [00:48<00:00, 18.64batch/s, batch loss=0.00102, mean epoch loss=0.00108]\n"
     ]
    },
    {
     "name": "stdout",
     "output_type": "stream",
     "text": [
      "Training loss: 0.001078662638196069\n"
     ]
    },
    {
     "name": "stderr",
     "output_type": "stream",
     "text": [
      "Testing: 100%|███████████████████████████████████████████████████████████████████████| 95/95 [00:00<00:00, 99.63batch/s]\n"
     ]
    },
    {
     "name": "stdout",
     "output_type": "stream",
     "text": [
      "Test loss: 0.0013906614478113816\n",
      "epoch time: 49.7341 seconds\n",
      "\n",
      "Starting epoch 34\n"
     ]
    },
    {
     "name": "stderr",
     "output_type": "stream",
     "text": [
      "Epoch 34/500: 100%|████████████████████████████| 909/909 [00:48<00:00, 18.66batch/s, batch loss=0.000801, mean epoch loss=0.00108]\n"
     ]
    },
    {
     "name": "stdout",
     "output_type": "stream",
     "text": [
      "Training loss: 0.0010751712688623198\n"
     ]
    },
    {
     "name": "stderr",
     "output_type": "stream",
     "text": [
      "Testing: 100%|███████████████████████████████████████████████████████████████████████| 95/95 [00:00<00:00, 97.01batch/s]\n"
     ]
    },
    {
     "name": "stdout",
     "output_type": "stream",
     "text": [
      "Test loss: 0.0011340556267992053\n",
      "epoch time: 49.7064 seconds\n",
      "\n",
      "Starting epoch 35\n"
     ]
    },
    {
     "name": "stderr",
     "output_type": "stream",
     "text": [
      "Epoch 35/500: 100%|████████████████████████████| 909/909 [00:48<00:00, 18.59batch/s, batch loss=0.000362, mean epoch loss=0.00107]\n"
     ]
    },
    {
     "name": "stdout",
     "output_type": "stream",
     "text": [
      "Training loss: 0.0010653116113833604\n"
     ]
    },
    {
     "name": "stderr",
     "output_type": "stream",
     "text": [
      "Testing: 100%|███████████████████████████████████████████████████████████████████████| 95/95 [00:00<00:00, 99.62batch/s]\n"
     ]
    },
    {
     "name": "stdout",
     "output_type": "stream",
     "text": [
      "Test loss: 0.001329820650617445\n",
      "epoch time: 49.8586 seconds\n",
      "\n",
      "Starting epoch 36\n"
     ]
    },
    {
     "name": "stderr",
     "output_type": "stream",
     "text": [
      "Epoch 36/500: 100%|████████████████████████████| 909/909 [00:48<00:00, 18.69batch/s, batch loss=0.000693, mean epoch loss=0.00106]\n"
     ]
    },
    {
     "name": "stdout",
     "output_type": "stream",
     "text": [
      "Training loss: 0.00106221784855986\n"
     ]
    },
    {
     "name": "stderr",
     "output_type": "stream",
     "text": [
      "Testing: 100%|███████████████████████████████████████████████████████████████████████| 95/95 [00:00<00:00, 99.97batch/s]\n"
     ]
    },
    {
     "name": "stdout",
     "output_type": "stream",
     "text": [
      "Test loss: 0.0010790492760287108\n",
      "epoch time: 49.6368 seconds\n",
      "\n",
      "Starting epoch 37\n"
     ]
    },
    {
     "name": "stderr",
     "output_type": "stream",
     "text": [
      "Epoch 37/500: 100%|██████████████████████████████| 909/909 [00:48<00:00, 18.62batch/s, batch loss=0.0015, mean epoch loss=0.00106]\n"
     ]
    },
    {
     "name": "stdout",
     "output_type": "stream",
     "text": [
      "Training loss: 0.0010562270129705514\n"
     ]
    },
    {
     "name": "stderr",
     "output_type": "stream",
     "text": [
      "Testing: 100%|███████████████████████████████████████████████████████████████████████| 95/95 [00:00<00:00, 99.75batch/s]\n"
     ]
    },
    {
     "name": "stdout",
     "output_type": "stream",
     "text": [
      "Test loss: 0.001136341980830031\n",
      "epoch time: 49.7646 seconds\n",
      "\n",
      "Starting epoch 38\n"
     ]
    },
    {
     "name": "stderr",
     "output_type": "stream",
     "text": [
      "Epoch 38/500: 100%|█████████████████████████████| 909/909 [00:48<00:00, 18.67batch/s, batch loss=0.00106, mean epoch loss=0.00106]\n"
     ]
    },
    {
     "name": "stdout",
     "output_type": "stream",
     "text": [
      "Training loss: 0.0010617130521137516\n"
     ]
    },
    {
     "name": "stderr",
     "output_type": "stream",
     "text": [
      "Testing: 100%|███████████████████████████████████████████████████████████████████████| 95/95 [00:00<00:00, 99.69batch/s]\n"
     ]
    },
    {
     "name": "stdout",
     "output_type": "stream",
     "text": [
      "Test loss: 0.0011659350138966387\n",
      "epoch time: 49.6481 seconds\n",
      "\n",
      "Starting epoch 39\n"
     ]
    },
    {
     "name": "stderr",
     "output_type": "stream",
     "text": [
      "Epoch 39/500: 100%|█████████████████████████████| 909/909 [00:48<00:00, 18.70batch/s, batch loss=0.00073, mean epoch loss=0.00106]\n"
     ]
    },
    {
     "name": "stdout",
     "output_type": "stream",
     "text": [
      "Training loss: 0.001060145529042376\n"
     ]
    },
    {
     "name": "stderr",
     "output_type": "stream",
     "text": [
      "Testing: 100%|███████████████████████████████████████████████████████████████████████| 95/95 [00:00<00:00, 98.84batch/s]\n"
     ]
    },
    {
     "name": "stdout",
     "output_type": "stream",
     "text": [
      "Test loss: 0.001132761901489606\n",
      "epoch time: 49.5719 seconds\n",
      "\n",
      "Starting epoch 40\n"
     ]
    },
    {
     "name": "stderr",
     "output_type": "stream",
     "text": [
      "Epoch 40/500: 100%|████████████████████████████| 909/909 [00:48<00:00, 18.66batch/s, batch loss=0.000641, mean epoch loss=0.00106]\n"
     ]
    },
    {
     "name": "stdout",
     "output_type": "stream",
     "text": [
      "Training loss: 0.0010608673891680082\n"
     ]
    },
    {
     "name": "stderr",
     "output_type": "stream",
     "text": [
      "Testing: 100%|███████████████████████████████████████████████████████████████████████| 95/95 [00:00<00:00, 97.15batch/s]\n"
     ]
    },
    {
     "name": "stdout",
     "output_type": "stream",
     "text": [
      "Test loss: 0.0011476974588157118\n",
      "epoch time: 49.6858 seconds\n",
      "\n",
      "Starting epoch 41\n"
     ]
    },
    {
     "name": "stderr",
     "output_type": "stream",
     "text": [
      "Epoch 41/500: 100%|████████████████████████████| 909/909 [00:48<00:00, 18.57batch/s, batch loss=0.000619, mean epoch loss=0.00105]\n"
     ]
    },
    {
     "name": "stdout",
     "output_type": "stream",
     "text": [
      "Training loss: 0.0010455727187365425\n"
     ]
    },
    {
     "name": "stderr",
     "output_type": "stream",
     "text": [
      "Testing: 100%|███████████████████████████████████████████████████████████████████████| 95/95 [00:00<00:00, 96.55batch/s]\n"
     ]
    },
    {
     "name": "stdout",
     "output_type": "stream",
     "text": [
      "Test loss: 0.001125779754702786\n",
      "epoch time: 49.9298 seconds\n",
      "\n",
      "Starting epoch 42\n"
     ]
    },
    {
     "name": "stderr",
     "output_type": "stream",
     "text": [
      "Epoch 42/500: 100%|████████████████████████████| 909/909 [00:49<00:00, 18.44batch/s, batch loss=0.000991, mean epoch loss=0.00105]\n"
     ]
    },
    {
     "name": "stdout",
     "output_type": "stream",
     "text": [
      "Training loss: 0.0010495235840841202\n"
     ]
    },
    {
     "name": "stderr",
     "output_type": "stream",
     "text": [
      "Testing: 100%|███████████████████████████████████████████████████████████████████████| 95/95 [00:00<00:00, 99.13batch/s]\n"
     ]
    },
    {
     "name": "stdout",
     "output_type": "stream",
     "text": [
      "Test loss: 0.0011095347366981993\n",
      "epoch time: 50.2643 seconds\n",
      "\n",
      "Starting epoch 43\n"
     ]
    },
    {
     "name": "stderr",
     "output_type": "stream",
     "text": [
      "Epoch 43/500: 100%|█████████████████████████████| 909/909 [00:48<00:00, 18.61batch/s, batch loss=0.00143, mean epoch loss=0.00105]\n"
     ]
    },
    {
     "name": "stdout",
     "output_type": "stream",
     "text": [
      "Training loss: 0.0010463452409988482\n"
     ]
    },
    {
     "name": "stderr",
     "output_type": "stream",
     "text": [
      "Testing: 100%|███████████████████████████████████████████████████████████████████████| 95/95 [00:00<00:00, 96.96batch/s]\n"
     ]
    },
    {
     "name": "stdout",
     "output_type": "stream",
     "text": [
      "Test loss: 0.001192388543246412\n",
      "epoch time: 49.8375 seconds\n",
      "\n",
      "Starting epoch 44\n"
     ]
    },
    {
     "name": "stderr",
     "output_type": "stream",
     "text": [
      "Epoch 44/500: 100%|██████████████████████████████| 909/909 [00:48<00:00, 18.73batch/s, batch loss=0.0011, mean epoch loss=0.00104]\n"
     ]
    },
    {
     "name": "stdout",
     "output_type": "stream",
     "text": [
      "Training loss: 0.001042979021898109\n"
     ]
    },
    {
     "name": "stderr",
     "output_type": "stream",
     "text": [
      "Testing: 100%|███████████████████████████████████████████████████████████████████████| 95/95 [00:00<00:00, 96.75batch/s]\n"
     ]
    },
    {
     "name": "stdout",
     "output_type": "stream",
     "text": [
      "Test loss: 0.0010732916597350451\n",
      "epoch time: 49.5688 seconds\n",
      "\n",
      "Starting epoch 45\n"
     ]
    },
    {
     "name": "stderr",
     "output_type": "stream",
     "text": [
      "Epoch 45/500: 100%|█████████████████████████████| 909/909 [00:48<00:00, 18.75batch/s, batch loss=0.00102, mean epoch loss=0.00104]\n"
     ]
    },
    {
     "name": "stdout",
     "output_type": "stream",
     "text": [
      "Training loss: 0.0010368983033707424\n"
     ]
    },
    {
     "name": "stderr",
     "output_type": "stream",
     "text": [
      "Testing: 100%|███████████████████████████████████████████████████████████████████████| 95/95 [00:00<00:00, 97.11batch/s]\n"
     ]
    },
    {
     "name": "stdout",
     "output_type": "stream",
     "text": [
      "Test loss: 0.001069651506412284\n",
      "epoch time: 49.5167 seconds\n",
      "\n",
      "Starting epoch 46\n"
     ]
    },
    {
     "name": "stderr",
     "output_type": "stream",
     "text": [
      "Epoch 46/500: 100%|████████████████████████████| 909/909 [00:47<00:00, 19.06batch/s, batch loss=0.000575, mean epoch loss=0.00104]\n"
     ]
    },
    {
     "name": "stdout",
     "output_type": "stream",
     "text": [
      "Training loss: 0.0010353016436590642\n"
     ]
    },
    {
     "name": "stderr",
     "output_type": "stream",
     "text": [
      "Testing: 100%|██████████████████████████████████████████████████████████████████████| 95/95 [00:00<00:00, 100.69batch/s]\n"
     ]
    },
    {
     "name": "stdout",
     "output_type": "stream",
     "text": [
      "Test loss: 0.0011770155700536347\n",
      "epoch time: 48.6281 seconds\n",
      "\n",
      "Starting epoch 47\n"
     ]
    },
    {
     "name": "stderr",
     "output_type": "stream",
     "text": [
      "Epoch 47/500: 100%|█████████████████████████████| 909/909 [00:47<00:00, 19.03batch/s, batch loss=0.00132, mean epoch loss=0.00103]\n"
     ]
    },
    {
     "name": "stdout",
     "output_type": "stream",
     "text": [
      "Training loss: 0.0010263941629139303\n"
     ]
    },
    {
     "name": "stderr",
     "output_type": "stream",
     "text": [
      "Testing: 100%|██████████████████████████████████████████████████████████████████████| 95/95 [00:00<00:00, 100.66batch/s]\n"
     ]
    },
    {
     "name": "stdout",
     "output_type": "stream",
     "text": [
      "Test loss: 0.0010483975191355535\n",
      "epoch time: 48.7431 seconds\n",
      "\n",
      "Starting epoch 48\n"
     ]
    },
    {
     "name": "stderr",
     "output_type": "stream",
     "text": [
      "Epoch 48/500: 100%|█████████████████████████████| 909/909 [00:47<00:00, 19.06batch/s, batch loss=0.00262, mean epoch loss=0.00104]\n"
     ]
    },
    {
     "name": "stdout",
     "output_type": "stream",
     "text": [
      "Training loss: 0.0010407509296511098\n"
     ]
    },
    {
     "name": "stderr",
     "output_type": "stream",
     "text": [
      "Testing: 100%|██████████████████████████████████████████████████████████████████████| 95/95 [00:00<00:00, 100.00batch/s]\n"
     ]
    },
    {
     "name": "stdout",
     "output_type": "stream",
     "text": [
      "Test loss: 0.0014214544318077204\n",
      "epoch time: 48.6329 seconds\n",
      "\n",
      "Starting epoch 49\n"
     ]
    },
    {
     "name": "stderr",
     "output_type": "stream",
     "text": [
      "Epoch 49/500: 100%|█████████████████████████████| 909/909 [00:47<00:00, 19.05batch/s, batch loss=0.00172, mean epoch loss=0.00103]\n"
     ]
    },
    {
     "name": "stdout",
     "output_type": "stream",
     "text": [
      "Training loss: 0.0010318359016167765\n"
     ]
    },
    {
     "name": "stderr",
     "output_type": "stream",
     "text": [
      "Testing: 100%|███████████████████████████████████████████████████████████████████████| 95/95 [00:00<00:00, 97.09batch/s]\n"
     ]
    },
    {
     "name": "stdout",
     "output_type": "stream",
     "text": [
      "Test loss: 0.0011152543770884605\n",
      "epoch time: 48.6969 seconds\n",
      "\n",
      "Starting epoch 50\n"
     ]
    },
    {
     "name": "stderr",
     "output_type": "stream",
     "text": [
      "Epoch 50/500: 100%|████████████████████████████| 909/909 [00:47<00:00, 19.02batch/s, batch loss=0.000482, mean epoch loss=0.00102]\n"
     ]
    },
    {
     "name": "stdout",
     "output_type": "stream",
     "text": [
      "Training loss: 0.0010240998027257866\n"
     ]
    },
    {
     "name": "stderr",
     "output_type": "stream",
     "text": [
      "Testing: 100%|███████████████████████████████████████████████████████████████████████| 95/95 [00:00<00:00, 99.68batch/s]\n"
     ]
    },
    {
     "name": "stdout",
     "output_type": "stream",
     "text": [
      "Test loss: 0.0011099401699060476\n",
      "epoch time: 48.7515 seconds\n",
      "\n",
      "Starting epoch 51\n"
     ]
    },
    {
     "name": "stderr",
     "output_type": "stream",
     "text": [
      "Epoch 51/500: 100%|████████████████████████████| 909/909 [00:47<00:00, 19.03batch/s, batch loss=0.000513, mean epoch loss=0.00102]\n"
     ]
    },
    {
     "name": "stdout",
     "output_type": "stream",
     "text": [
      "Training loss: 0.0010191654819189351\n"
     ]
    },
    {
     "name": "stderr",
     "output_type": "stream",
     "text": [
      "Testing: 100%|██████████████████████████████████████████████████████████████████████| 95/95 [00:00<00:00, 100.42batch/s]\n"
     ]
    },
    {
     "name": "stdout",
     "output_type": "stream",
     "text": [
      "Test loss: 0.001069233749417196\n",
      "epoch time: 48.7058 seconds\n",
      "\n",
      "Starting epoch 52\n"
     ]
    },
    {
     "name": "stderr",
     "output_type": "stream",
     "text": [
      "Epoch 52/500: 100%|████████████████████████████| 909/909 [00:47<00:00, 19.05batch/s, batch loss=0.000487, mean epoch loss=0.00103]\n"
     ]
    },
    {
     "name": "stdout",
     "output_type": "stream",
     "text": [
      "Training loss: 0.0010252308884136224\n"
     ]
    },
    {
     "name": "stderr",
     "output_type": "stream",
     "text": [
      "Testing: 100%|██████████████████████████████████████████████████████████████████████| 95/95 [00:00<00:00, 100.16batch/s]\n"
     ]
    },
    {
     "name": "stdout",
     "output_type": "stream",
     "text": [
      "Test loss: 0.0011000166794187143\n",
      "epoch time: 48.6557 seconds\n",
      "\n",
      "Starting epoch 53\n"
     ]
    },
    {
     "name": "stderr",
     "output_type": "stream",
     "text": [
      "Epoch 53/500: 100%|████████████████████████████| 909/909 [00:47<00:00, 19.02batch/s, batch loss=0.000428, mean epoch loss=0.00102]\n"
     ]
    },
    {
     "name": "stdout",
     "output_type": "stream",
     "text": [
      "Training loss: 0.0010156510424606448\n"
     ]
    },
    {
     "name": "stderr",
     "output_type": "stream",
     "text": [
      "Testing: 100%|██████████████████████████████████████████████████████████████████████| 95/95 [00:00<00:00, 100.56batch/s]\n"
     ]
    },
    {
     "name": "stdout",
     "output_type": "stream",
     "text": [
      "Test loss: 0.0010711202183493265\n",
      "epoch time: 48.7296 seconds\n",
      "\n",
      "Starting epoch 54\n"
     ]
    },
    {
     "name": "stderr",
     "output_type": "stream",
     "text": [
      "Epoch 54/500: 100%|████████████████████████████| 909/909 [00:47<00:00, 19.08batch/s, batch loss=0.000567, mean epoch loss=0.00101]\n"
     ]
    },
    {
     "name": "stdout",
     "output_type": "stream",
     "text": [
      "Training loss: 0.0010139627352270975\n"
     ]
    },
    {
     "name": "stderr",
     "output_type": "stream",
     "text": [
      "Testing: 100%|██████████████████████████████████████████████████████████████████████| 95/95 [00:00<00:00, 100.19batch/s]\n"
     ]
    },
    {
     "name": "stdout",
     "output_type": "stream",
     "text": [
      "Test loss: 0.0010508843360615796\n",
      "epoch time: 48.6036 seconds\n",
      "\n",
      "Starting epoch 55\n"
     ]
    },
    {
     "name": "stderr",
     "output_type": "stream",
     "text": [
      "Epoch 55/500: 100%|█████████████████████████████| 909/909 [00:47<00:00, 18.99batch/s, batch loss=0.00021, mean epoch loss=0.00101]\n"
     ]
    },
    {
     "name": "stdout",
     "output_type": "stream",
     "text": [
      "Training loss: 0.0010067061684401737\n"
     ]
    },
    {
     "name": "stderr",
     "output_type": "stream",
     "text": [
      "Testing: 100%|███████████████████████████████████████████████████████████████████████| 95/95 [00:01<00:00, 93.65batch/s]\n"
     ]
    },
    {
     "name": "stdout",
     "output_type": "stream",
     "text": [
      "Test loss: 0.0010796573184626668\n",
      "epoch time: 48.8952 seconds\n",
      "\n",
      "Starting epoch 56\n"
     ]
    },
    {
     "name": "stderr",
     "output_type": "stream",
     "text": [
      "Epoch 56/500: 100%|████████████████████████████| 909/909 [00:47<00:00, 18.94batch/s, batch loss=0.000873, mean epoch loss=0.00101]\n"
     ]
    },
    {
     "name": "stdout",
     "output_type": "stream",
     "text": [
      "Training loss: 0.0010120090168203577\n"
     ]
    },
    {
     "name": "stderr",
     "output_type": "stream",
     "text": [
      "Testing: 100%|███████████████████████████████████████████████████████████████████████| 95/95 [00:00<00:00, 95.99batch/s]\n"
     ]
    },
    {
     "name": "stdout",
     "output_type": "stream",
     "text": [
      "Test loss: 0.001030745390055113\n",
      "epoch time: 49.0189 seconds\n",
      "\n",
      "Starting epoch 57\n"
     ]
    },
    {
     "name": "stderr",
     "output_type": "stream",
     "text": [
      "Epoch 57/500: 100%|████████████████████████████| 909/909 [00:48<00:00, 18.84batch/s, batch loss=0.000958, mean epoch loss=0.00101]\n"
     ]
    },
    {
     "name": "stdout",
     "output_type": "stream",
     "text": [
      "Training loss: 0.001008320756015361\n"
     ]
    },
    {
     "name": "stderr",
     "output_type": "stream",
     "text": [
      "Testing: 100%|███████████████████████████████████████████████████████████████████████| 95/95 [00:00<00:00, 97.25batch/s]\n"
     ]
    },
    {
     "name": "stdout",
     "output_type": "stream",
     "text": [
      "Test loss: 0.0010709687914258164\n",
      "epoch time: 49.2405 seconds\n",
      "\n",
      "Starting epoch 58\n"
     ]
    },
    {
     "name": "stderr",
     "output_type": "stream",
     "text": [
      "Epoch 58/500: 100%|████████████████████████████| 909/909 [00:48<00:00, 18.90batch/s, batch loss=0.00171, mean epoch loss=0.000996]\n"
     ]
    },
    {
     "name": "stdout",
     "output_type": "stream",
     "text": [
      "Training loss: 0.0009955543501877504\n"
     ]
    },
    {
     "name": "stderr",
     "output_type": "stream",
     "text": [
      "Testing: 100%|███████████████████████████████████████████████████████████████████████| 95/95 [00:00<00:00, 97.14batch/s]\n"
     ]
    },
    {
     "name": "stdout",
     "output_type": "stream",
     "text": [
      "Test loss: 0.0011114867496010111\n",
      "epoch time: 49.0704 seconds\n",
      "\n",
      "Starting epoch 59\n"
     ]
    },
    {
     "name": "stderr",
     "output_type": "stream",
     "text": [
      "Epoch 59/500: 100%|██████████████████████████████| 909/909 [00:47<00:00, 18.97batch/s, batch loss=0.000252, mean epoch loss=0.001]\n"
     ]
    },
    {
     "name": "stdout",
     "output_type": "stream",
     "text": [
      "Training loss: 0.0009995010409926677\n"
     ]
    },
    {
     "name": "stderr",
     "output_type": "stream",
     "text": [
      "Testing: 100%|███████████████████████████████████████████████████████████████████████| 95/95 [00:00<00:00, 96.20batch/s]\n"
     ]
    },
    {
     "name": "stdout",
     "output_type": "stream",
     "text": [
      "Test loss: 0.001180095857278885\n",
      "epoch time: 48.9092 seconds\n",
      "\n",
      "Starting epoch 60\n"
     ]
    },
    {
     "name": "stderr",
     "output_type": "stream",
     "text": [
      "Epoch 60/500: 100%|███████████████████████████| 909/909 [00:49<00:00, 18.34batch/s, batch loss=0.000657, mean epoch loss=0.000993]\n"
     ]
    },
    {
     "name": "stdout",
     "output_type": "stream",
     "text": [
      "Training loss: 0.0009925467436592739\n"
     ]
    },
    {
     "name": "stderr",
     "output_type": "stream",
     "text": [
      "Testing: 100%|███████████████████████████████████████████████████████████████████████| 95/95 [00:01<00:00, 93.98batch/s]\n"
     ]
    },
    {
     "name": "stdout",
     "output_type": "stream",
     "text": [
      "Test loss: 0.0010619062562718202\n",
      "epoch time: 50.5716 seconds\n",
      "\n",
      "Starting epoch 61\n"
     ]
    },
    {
     "name": "stderr",
     "output_type": "stream",
     "text": [
      "Epoch 61/500: 100%|█████████████████████████████| 909/909 [00:49<00:00, 18.19batch/s, batch loss=0.00181, mean epoch loss=0.00101]\n"
     ]
    },
    {
     "name": "stdout",
     "output_type": "stream",
     "text": [
      "Training loss: 0.0010070262130701618\n"
     ]
    },
    {
     "name": "stderr",
     "output_type": "stream",
     "text": [
      "Testing: 100%|███████████████████████████████████████████████████████████████████████| 95/95 [00:01<00:00, 92.95batch/s]\n"
     ]
    },
    {
     "name": "stdout",
     "output_type": "stream",
     "text": [
      "Test loss: 0.0011521278788629724\n",
      "epoch time: 51.0046 seconds\n",
      "\n",
      "Starting epoch 62\n"
     ]
    },
    {
     "name": "stderr",
     "output_type": "stream",
     "text": [
      "Epoch 62/500: 100%|███████████████████████████| 909/909 [00:49<00:00, 18.37batch/s, batch loss=0.000436, mean epoch loss=0.000993]\n"
     ]
    },
    {
     "name": "stdout",
     "output_type": "stream",
     "text": [
      "Training loss: 0.0009926784143109379\n"
     ]
    },
    {
     "name": "stderr",
     "output_type": "stream",
     "text": [
      "Testing: 100%|███████████████████████████████████████████████████████████████████████| 95/95 [00:01<00:00, 93.81batch/s]\n"
     ]
    },
    {
     "name": "stdout",
     "output_type": "stream",
     "text": [
      "Test loss: 0.0010658092701832126\n",
      "epoch time: 50.4847 seconds\n",
      "\n",
      "Starting epoch 63\n"
     ]
    },
    {
     "name": "stderr",
     "output_type": "stream",
     "text": [
      "Epoch 63/500: 100%|████████████████████████████████| 909/909 [00:49<00:00, 18.34batch/s, batch loss=0.0016, mean epoch loss=0.001]\n"
     ]
    },
    {
     "name": "stdout",
     "output_type": "stream",
     "text": [
      "Training loss: 0.0009998018839983095\n"
     ]
    },
    {
     "name": "stderr",
     "output_type": "stream",
     "text": [
      "Testing: 100%|███████████████████████████████████████████████████████████████████████| 95/95 [00:01<00:00, 91.38batch/s]\n"
     ]
    },
    {
     "name": "stdout",
     "output_type": "stream",
     "text": [
      "Test loss: 0.0010270435865478297\n",
      "epoch time: 50.6385 seconds\n",
      "\n",
      "Starting epoch 64\n"
     ]
    },
    {
     "name": "stderr",
     "output_type": "stream",
     "text": [
      "Epoch 64/500: 100%|███████████████████████████| 909/909 [00:49<00:00, 18.29batch/s, batch loss=0.000403, mean epoch loss=0.000996]\n"
     ]
    },
    {
     "name": "stdout",
     "output_type": "stream",
     "text": [
      "Training loss: 0.000996266948391542\n"
     ]
    },
    {
     "name": "stderr",
     "output_type": "stream",
     "text": [
      "Testing: 100%|███████████████████████████████████████████████████████████████████████| 95/95 [00:00<00:00, 95.72batch/s]\n"
     ]
    },
    {
     "name": "stdout",
     "output_type": "stream",
     "text": [
      "Test loss: 0.0011390301959564614\n",
      "epoch time: 50.6928 seconds\n",
      "\n",
      "Starting epoch 65\n"
     ]
    },
    {
     "name": "stderr",
     "output_type": "stream",
     "text": [
      "Epoch 65/500: 100%|████████████████████████████| 909/909 [00:48<00:00, 18.63batch/s, batch loss=0.00038, mean epoch loss=0.000986]\n"
     ]
    },
    {
     "name": "stdout",
     "output_type": "stream",
     "text": [
      "Training loss: 0.0009855829821940516\n"
     ]
    },
    {
     "name": "stderr",
     "output_type": "stream",
     "text": [
      "Testing: 100%|███████████████████████████████████████████████████████████████████████| 95/95 [00:01<00:00, 94.45batch/s]\n"
     ]
    },
    {
     "name": "stdout",
     "output_type": "stream",
     "text": [
      "Test loss: 0.001124657571046172\n",
      "epoch time: 49.7920 seconds\n",
      "\n",
      "Starting epoch 66\n"
     ]
    },
    {
     "name": "stderr",
     "output_type": "stream",
     "text": [
      "Epoch 67/500: 100%|████████████████████████████| 909/909 [00:48<00:00, 18.57batch/s, batch loss=0.00208, mean epoch loss=0.000985]\n"
     ]
    },
    {
     "name": "stdout",
     "output_type": "stream",
     "text": [
      "Training loss: 0.000985284233431532\n"
     ]
    },
    {
     "name": "stderr",
     "output_type": "stream",
     "text": [
      "Testing: 100%|███████████████████████████████████████████████████████████████████████| 95/95 [00:00<00:00, 96.56batch/s]\n"
     ]
    },
    {
     "name": "stdout",
     "output_type": "stream",
     "text": [
      "Test loss: 0.0010562873990765135\n",
      "epoch time: 49.9296 seconds\n",
      "\n",
      "Starting epoch 68\n"
     ]
    },
    {
     "name": "stderr",
     "output_type": "stream",
     "text": [
      "Epoch 68/500: 100%|█████████████████████████████| 909/909 [00:49<00:00, 18.42batch/s, batch loss=0.00119, mean epoch loss=0.00099]\n"
     ]
    },
    {
     "name": "stdout",
     "output_type": "stream",
     "text": [
      "Training loss: 0.0009903958121663507\n"
     ]
    },
    {
     "name": "stderr",
     "output_type": "stream",
     "text": [
      "Testing: 100%|███████████████████████████████████████████████████████████████████████| 95/95 [00:00<00:00, 96.73batch/s]\n"
     ]
    },
    {
     "name": "stdout",
     "output_type": "stream",
     "text": [
      "Test loss: 0.0011638671129108652\n",
      "epoch time: 50.3254 seconds\n",
      "\n",
      "Starting epoch 69\n"
     ]
    },
    {
     "name": "stderr",
     "output_type": "stream",
     "text": [
      "Epoch 69/500: 100%|███████████████████████████| 909/909 [00:49<00:00, 18.27batch/s, batch loss=0.000719, mean epoch loss=0.000987]\n"
     ]
    },
    {
     "name": "stdout",
     "output_type": "stream",
     "text": [
      "Training loss: 0.000986740378280912\n"
     ]
    },
    {
     "name": "stderr",
     "output_type": "stream",
     "text": [
      "Testing: 100%|███████████████████████████████████████████████████████████████████████| 95/95 [00:01<00:00, 94.93batch/s]\n"
     ]
    },
    {
     "name": "stdout",
     "output_type": "stream",
     "text": [
      "Test loss: 0.001045865227627617\n",
      "epoch time: 50.7678 seconds\n",
      "\n",
      "Starting epoch 70\n"
     ]
    },
    {
     "name": "stderr",
     "output_type": "stream",
     "text": [
      "Epoch 70/500: 100%|███████████████████████████| 909/909 [00:49<00:00, 18.33batch/s, batch loss=0.000257, mean epoch loss=0.000987]\n"
     ]
    },
    {
     "name": "stdout",
     "output_type": "stream",
     "text": [
      "Training loss: 0.0009867866501455838\n"
     ]
    },
    {
     "name": "stderr",
     "output_type": "stream",
     "text": [
      "Testing: 100%|███████████████████████████████████████████████████████████████████████| 95/95 [00:00<00:00, 96.95batch/s]\n"
     ]
    },
    {
     "name": "stdout",
     "output_type": "stream",
     "text": [
      "Test loss: 0.0010707877484444333\n",
      "epoch time: 50.5756 seconds\n",
      "\n",
      "Starting epoch 71\n"
     ]
    },
    {
     "name": "stderr",
     "output_type": "stream",
     "text": [
      "Epoch 71/500: 100%|███████████████████████████| 909/909 [00:49<00:00, 18.36batch/s, batch loss=0.000881, mean epoch loss=0.000978]\n"
     ]
    },
    {
     "name": "stdout",
     "output_type": "stream",
     "text": [
      "Training loss: 0.0009783275017580268\n"
     ]
    },
    {
     "name": "stderr",
     "output_type": "stream",
     "text": [
      "Testing: 100%|███████████████████████████████████████████████████████████████████████| 95/95 [00:00<00:00, 96.69batch/s]\n"
     ]
    },
    {
     "name": "stdout",
     "output_type": "stream",
     "text": [
      "Test loss: 0.0010509141365458306\n",
      "epoch time: 50.4936 seconds\n",
      "\n",
      "Starting epoch 72\n"
     ]
    },
    {
     "name": "stderr",
     "output_type": "stream",
     "text": [
      "Epoch 72/500: 100%|████████████████████████████| 909/909 [00:49<00:00, 18.37batch/s, batch loss=0.00103, mean epoch loss=0.000985]\n"
     ]
    },
    {
     "name": "stdout",
     "output_type": "stream",
     "text": [
      "Training loss: 0.0009851835795228162\n"
     ]
    },
    {
     "name": "stderr",
     "output_type": "stream",
     "text": [
      "Testing: 100%|███████████████████████████████████████████████████████████████████████| 95/95 [00:00<00:00, 96.04batch/s]\n"
     ]
    },
    {
     "name": "stdout",
     "output_type": "stream",
     "text": [
      "Test loss: 0.0010646643166087176\n",
      "epoch time: 50.4875 seconds\n",
      "\n",
      "Starting epoch 73\n"
     ]
    },
    {
     "name": "stderr",
     "output_type": "stream",
     "text": [
      "Epoch 73/500: 100%|████████████████████████████| 909/909 [00:49<00:00, 18.36batch/s, batch loss=0.00335, mean epoch loss=0.000988]\n"
     ]
    },
    {
     "name": "stdout",
     "output_type": "stream",
     "text": [
      "Training loss: 0.0009877838812338401\n"
     ]
    },
    {
     "name": "stderr",
     "output_type": "stream",
     "text": [
      "Testing: 100%|███████████████████████████████████████████████████████████████████████| 95/95 [00:00<00:00, 97.19batch/s]\n"
     ]
    },
    {
     "name": "stdout",
     "output_type": "stream",
     "text": [
      "Test loss: 0.001083889024601759\n",
      "epoch time: 50.4980 seconds\n",
      "\n",
      "Starting epoch 74\n"
     ]
    },
    {
     "name": "stderr",
     "output_type": "stream",
     "text": [
      "Epoch 74/500: 100%|███████████████████████████| 909/909 [00:49<00:00, 18.34batch/s, batch loss=0.000506, mean epoch loss=0.000976]\n"
     ]
    },
    {
     "name": "stdout",
     "output_type": "stream",
     "text": [
      "Training loss: 0.0009763582267535813\n"
     ]
    },
    {
     "name": "stderr",
     "output_type": "stream",
     "text": [
      "Testing: 100%|███████████████████████████████████████████████████████████████████████| 95/95 [00:00<00:00, 96.98batch/s]\n"
     ]
    },
    {
     "name": "stdout",
     "output_type": "stream",
     "text": [
      "Test loss: 0.0010250429408379684\n",
      "epoch time: 50.5824 seconds\n",
      "\n",
      "Starting epoch 75\n"
     ]
    },
    {
     "name": "stderr",
     "output_type": "stream",
     "text": [
      "Epoch 75/500: 100%|███████████████████████████| 909/909 [00:49<00:00, 18.29batch/s, batch loss=0.000191, mean epoch loss=0.000972]\n"
     ]
    },
    {
     "name": "stdout",
     "output_type": "stream",
     "text": [
      "Training loss: 0.000971652722326904\n"
     ]
    },
    {
     "name": "stderr",
     "output_type": "stream",
     "text": [
      "Testing: 100%|███████████████████████████████████████████████████████████████████████| 95/95 [00:01<00:00, 94.98batch/s]\n"
     ]
    },
    {
     "name": "stdout",
     "output_type": "stream",
     "text": [
      "Test loss: 0.0010473262488008722\n",
      "epoch time: 50.7000 seconds\n",
      "\n",
      "Starting epoch 76\n"
     ]
    },
    {
     "name": "stderr",
     "output_type": "stream",
     "text": [
      "Epoch 76/500: 100%|███████████████████████████| 909/909 [00:49<00:00, 18.27batch/s, batch loss=0.000347, mean epoch loss=0.000978]\n"
     ]
    },
    {
     "name": "stdout",
     "output_type": "stream",
     "text": [
      "Training loss: 0.0009781547110999434\n"
     ]
    },
    {
     "name": "stderr",
     "output_type": "stream",
     "text": [
      "Testing: 100%|███████████████████████████████████████████████████████████████████████| 95/95 [00:01<00:00, 94.31batch/s]\n"
     ]
    },
    {
     "name": "stdout",
     "output_type": "stream",
     "text": [
      "Test loss: 0.0011401096812302344\n",
      "epoch time: 50.7611 seconds\n",
      "\n",
      "Starting epoch 77\n"
     ]
    },
    {
     "name": "stderr",
     "output_type": "stream",
     "text": [
      "Epoch 77/500: 100%|███████████████████████████| 909/909 [00:49<00:00, 18.22batch/s, batch loss=0.000679, mean epoch loss=0.000971]\n"
     ]
    },
    {
     "name": "stdout",
     "output_type": "stream",
     "text": [
      "Training loss: 0.0009707005263265986\n"
     ]
    },
    {
     "name": "stderr",
     "output_type": "stream",
     "text": [
      "Testing: 100%|███████████████████████████████████████████████████████████████████████| 95/95 [00:00<00:00, 96.71batch/s]\n"
     ]
    },
    {
     "name": "stdout",
     "output_type": "stream",
     "text": [
      "Test loss: 0.0010208587630921484\n",
      "epoch time: 50.9233 seconds\n",
      "\n",
      "Starting epoch 78\n"
     ]
    },
    {
     "name": "stderr",
     "output_type": "stream",
     "text": [
      "Epoch 78/500: 100%|███████████████████████████| 909/909 [00:50<00:00, 18.08batch/s, batch loss=0.000472, mean epoch loss=0.000968]\n"
     ]
    },
    {
     "name": "stdout",
     "output_type": "stream",
     "text": [
      "Training loss: 0.0009681551367359436\n"
     ]
    },
    {
     "name": "stderr",
     "output_type": "stream",
     "text": [
      "Testing: 100%|███████████████████████████████████████████████████████████████████████| 95/95 [00:00<00:00, 96.91batch/s]\n"
     ]
    },
    {
     "name": "stdout",
     "output_type": "stream",
     "text": [
      "Test loss: 0.0011380432210372467\n",
      "epoch time: 51.2505 seconds\n",
      "\n",
      "Starting epoch 79\n"
     ]
    },
    {
     "name": "stderr",
     "output_type": "stream",
     "text": [
      "Epoch 79/500: 100%|████████████████████████████| 909/909 [00:49<00:00, 18.19batch/s, batch loss=0.00076, mean epoch loss=0.000972]\n"
     ]
    },
    {
     "name": "stdout",
     "output_type": "stream",
     "text": [
      "Training loss: 0.000972272967737208\n"
     ]
    },
    {
     "name": "stderr",
     "output_type": "stream",
     "text": [
      "Testing: 100%|███████████████████████████████████████████████████████████████████████| 95/95 [00:00<00:00, 96.62batch/s]\n"
     ]
    },
    {
     "name": "stdout",
     "output_type": "stream",
     "text": [
      "Test loss: 0.0010290750593412667\n",
      "epoch time: 50.9502 seconds\n",
      "\n",
      "Starting epoch 80\n"
     ]
    },
    {
     "name": "stderr",
     "output_type": "stream",
     "text": [
      "Epoch 80/500: 100%|███████████████████████████| 909/909 [00:49<00:00, 18.32batch/s, batch loss=0.000877, mean epoch loss=0.000974]\n"
     ]
    },
    {
     "name": "stdout",
     "output_type": "stream",
     "text": [
      "Training loss: 0.0009736569858666759\n"
     ]
    },
    {
     "name": "stderr",
     "output_type": "stream",
     "text": [
      "Testing: 100%|███████████████████████████████████████████████████████████████████████| 95/95 [00:00<00:00, 97.14batch/s]\n"
     ]
    },
    {
     "name": "stdout",
     "output_type": "stream",
     "text": [
      "Test loss: 0.0011167344251206439\n",
      "epoch time: 50.6025 seconds\n",
      "\n",
      "Starting epoch 81\n"
     ]
    },
    {
     "name": "stderr",
     "output_type": "stream",
     "text": [
      "Epoch 81/500: 100%|████████████████████████████| 909/909 [00:49<00:00, 18.29batch/s, batch loss=0.00194, mean epoch loss=0.000974]\n"
     ]
    },
    {
     "name": "stdout",
     "output_type": "stream",
     "text": [
      "Training loss: 0.0009735593785190769\n"
     ]
    },
    {
     "name": "stderr",
     "output_type": "stream",
     "text": [
      "Testing: 100%|███████████████████████████████████████████████████████████████████████| 95/95 [00:00<00:00, 97.16batch/s]\n"
     ]
    },
    {
     "name": "stdout",
     "output_type": "stream",
     "text": [
      "Test loss: 0.001062189163272514\n",
      "epoch time: 50.6758 seconds\n",
      "\n",
      "Starting epoch 82\n"
     ]
    },
    {
     "name": "stderr",
     "output_type": "stream",
     "text": [
      "Epoch 82/500: 100%|███████████████████████████| 909/909 [00:49<00:00, 18.29batch/s, batch loss=0.000452, mean epoch loss=0.000962]\n"
     ]
    },
    {
     "name": "stdout",
     "output_type": "stream",
     "text": [
      "Training loss: 0.0009621189280148115\n"
     ]
    },
    {
     "name": "stderr",
     "output_type": "stream",
     "text": [
      "Testing: 100%|███████████████████████████████████████████████████████████████████████| 95/95 [00:00<00:00, 97.27batch/s]\n"
     ]
    },
    {
     "name": "stdout",
     "output_type": "stream",
     "text": [
      "Test loss: 0.0011402280507976875\n",
      "epoch time: 50.6697 seconds\n",
      "\n",
      "Starting epoch 83\n"
     ]
    },
    {
     "name": "stderr",
     "output_type": "stream",
     "text": [
      "Epoch 83/500: 100%|████████████████████████████| 909/909 [00:49<00:00, 18.30batch/s, batch loss=0.00333, mean epoch loss=0.000966]\n"
     ]
    },
    {
     "name": "stdout",
     "output_type": "stream",
     "text": [
      "Training loss: 0.0009660832317119153\n"
     ]
    },
    {
     "name": "stderr",
     "output_type": "stream",
     "text": [
      "Testing: 100%|███████████████████████████████████████████████████████████████████████| 95/95 [00:00<00:00, 95.04batch/s]\n"
     ]
    },
    {
     "name": "stdout",
     "output_type": "stream",
     "text": [
      "Test loss: 0.001090117687004079\n",
      "epoch time: 50.6812 seconds\n",
      "\n",
      "Starting epoch 84\n"
     ]
    },
    {
     "name": "stderr",
     "output_type": "stream",
     "text": [
      "Epoch 84/500: 100%|████████████████████████████| 909/909 [00:49<00:00, 18.32batch/s, batch loss=0.00101, mean epoch loss=0.000958]\n"
     ]
    },
    {
     "name": "stdout",
     "output_type": "stream",
     "text": [
      "Training loss: 0.0009583872604955857\n"
     ]
    },
    {
     "name": "stderr",
     "output_type": "stream",
     "text": [
      "Testing: 100%|███████████████████████████████████████████████████████████████████████| 95/95 [00:01<00:00, 94.37batch/s]\n"
     ]
    },
    {
     "name": "stdout",
     "output_type": "stream",
     "text": [
      "Test loss: 0.001061365556731624\n",
      "epoch time: 50.6311 seconds\n",
      "\n",
      "Starting epoch 85\n"
     ]
    },
    {
     "name": "stderr",
     "output_type": "stream",
     "text": [
      "Epoch 85/500: 100%|███████████████████████████| 909/909 [00:48<00:00, 18.82batch/s, batch loss=0.000559, mean epoch loss=0.000959]\n"
     ]
    },
    {
     "name": "stdout",
     "output_type": "stream",
     "text": [
      "Training loss: 0.0009587921775342529\n"
     ]
    },
    {
     "name": "stderr",
     "output_type": "stream",
     "text": [
      "Testing: 100%|███████████████████████████████████████████████████████████████████████| 95/95 [00:00<00:00, 96.69batch/s]\n"
     ]
    },
    {
     "name": "stdout",
     "output_type": "stream",
     "text": [
      "Test loss: 0.001046563517363546\n",
      "epoch time: 49.2880 seconds\n",
      "\n",
      "Starting epoch 86\n"
     ]
    },
    {
     "name": "stderr",
     "output_type": "stream",
     "text": [
      "Epoch 86/500: 100%|█████████████████████████████| 909/909 [00:47<00:00, 19.07batch/s, batch loss=0.00574, mean epoch loss=0.00456]\n"
     ]
    },
    {
     "name": "stdout",
     "output_type": "stream",
     "text": [
      "Training loss: 0.004562588822950747\n"
     ]
    },
    {
     "name": "stderr",
     "output_type": "stream",
     "text": [
      "Testing: 100%|███████████████████████████████████████████████████████████████████████| 95/95 [00:00<00:00, 98.86batch/s]\n"
     ]
    },
    {
     "name": "stdout",
     "output_type": "stream",
     "text": [
      "Test loss: 0.0017611084953195561\n",
      "epoch time: 48.6337 seconds\n",
      "\n",
      "Starting epoch 87\n"
     ]
    },
    {
     "name": "stderr",
     "output_type": "stream",
     "text": [
      "Epoch 87/500: 100%|█████████████████████████████| 909/909 [00:47<00:00, 19.09batch/s, batch loss=0.00257, mean epoch loss=0.00158]\n"
     ]
    },
    {
     "name": "stdout",
     "output_type": "stream",
     "text": [
      "Training loss: 0.0015806389705670385\n"
     ]
    },
    {
     "name": "stderr",
     "output_type": "stream",
     "text": [
      "Testing: 100%|███████████████████████████████████████████████████████████████████████| 95/95 [00:00<00:00, 95.75batch/s]\n"
     ]
    },
    {
     "name": "stdout",
     "output_type": "stream",
     "text": [
      "Test loss: 0.0014959895343054086\n",
      "epoch time: 48.6081 seconds\n",
      "\n",
      "Starting epoch 88\n"
     ]
    },
    {
     "name": "stderr",
     "output_type": "stream",
     "text": [
      "Epoch 88/500: 100%|██████████████████████████████| 909/909 [00:47<00:00, 19.06batch/s, batch loss=0.0011, mean epoch loss=0.00144]\n"
     ]
    },
    {
     "name": "stdout",
     "output_type": "stream",
     "text": [
      "Training loss: 0.0014403381758264233\n"
     ]
    },
    {
     "name": "stderr",
     "output_type": "stream",
     "text": [
      "Testing: 100%|███████████████████████████████████████████████████████████████████████| 95/95 [00:00<00:00, 96.85batch/s]\n"
     ]
    },
    {
     "name": "stdout",
     "output_type": "stream",
     "text": [
      "Test loss: 0.001393569454605887\n",
      "epoch time: 48.6695 seconds\n",
      "\n",
      "Starting epoch 89\n"
     ]
    },
    {
     "name": "stderr",
     "output_type": "stream",
     "text": [
      "Epoch 89/500: 100%|█████████████████████████████| 909/909 [00:47<00:00, 19.07batch/s, batch loss=0.00179, mean epoch loss=0.00134]\n"
     ]
    },
    {
     "name": "stdout",
     "output_type": "stream",
     "text": [
      "Training loss: 0.0013449971810456087\n"
     ]
    },
    {
     "name": "stderr",
     "output_type": "stream",
     "text": [
      "Testing: 100%|███████████████████████████████████████████████████████████████████████| 95/95 [00:00<00:00, 96.29batch/s]\n"
     ]
    },
    {
     "name": "stdout",
     "output_type": "stream",
     "text": [
      "Test loss: 0.0013266878064697315\n",
      "epoch time: 48.6587 seconds\n",
      "\n",
      "Starting epoch 90\n"
     ]
    },
    {
     "name": "stderr",
     "output_type": "stream",
     "text": [
      "Epoch 90/500: 100%|█████████████████████████████| 909/909 [00:47<00:00, 18.96batch/s, batch loss=0.00125, mean epoch loss=0.00132]\n"
     ]
    },
    {
     "name": "stdout",
     "output_type": "stream",
     "text": [
      "Training loss: 0.0013165824264861701\n"
     ]
    },
    {
     "name": "stderr",
     "output_type": "stream",
     "text": [
      "Testing: 100%|███████████████████████████████████████████████████████████████████████| 95/95 [00:00<00:00, 99.20batch/s]\n"
     ]
    },
    {
     "name": "stdout",
     "output_type": "stream",
     "text": [
      "Test loss: 0.0013930248130284446\n",
      "epoch time: 48.9084 seconds\n",
      "\n",
      "Starting epoch 91\n"
     ]
    },
    {
     "name": "stderr",
     "output_type": "stream",
     "text": [
      "Epoch 91/500: 100%|████████████████████████████| 909/909 [00:48<00:00, 18.85batch/s, batch loss=0.000935, mean epoch loss=0.00129]\n"
     ]
    },
    {
     "name": "stdout",
     "output_type": "stream",
     "text": [
      "Training loss: 0.0012949799196830488\n"
     ]
    },
    {
     "name": "stderr",
     "output_type": "stream",
     "text": [
      "Testing: 100%|███████████████████████████████████████████████████████████████████████| 95/95 [00:00<00:00, 99.06batch/s]\n"
     ]
    },
    {
     "name": "stdout",
     "output_type": "stream",
     "text": [
      "Test loss: 0.0014883329013460561\n",
      "epoch time: 49.1837 seconds\n",
      "\n",
      "Starting epoch 92\n"
     ]
    },
    {
     "name": "stderr",
     "output_type": "stream",
     "text": [
      "Epoch 92/500: 100%|████████████████████████████| 909/909 [00:48<00:00, 18.78batch/s, batch loss=0.000372, mean epoch loss=0.00128]\n"
     ]
    },
    {
     "name": "stdout",
     "output_type": "stream",
     "text": [
      "Training loss: 0.0012756515809889868\n"
     ]
    },
    {
     "name": "stderr",
     "output_type": "stream",
     "text": [
      "Testing: 100%|███████████████████████████████████████████████████████████████████████| 95/95 [00:00<00:00, 98.68batch/s]\n"
     ]
    },
    {
     "name": "stdout",
     "output_type": "stream",
     "text": [
      "Test loss: 0.0012569568098498214\n",
      "epoch time: 49.3698 seconds\n",
      "\n",
      "Starting epoch 93\n"
     ]
    },
    {
     "name": "stderr",
     "output_type": "stream",
     "text": [
      "Epoch 93/500: 100%|█████████████████████████████| 909/909 [00:47<00:00, 19.03batch/s, batch loss=0.00246, mean epoch loss=0.00126]\n"
     ]
    },
    {
     "name": "stdout",
     "output_type": "stream",
     "text": [
      "Training loss: 0.0012562265618034712\n"
     ]
    },
    {
     "name": "stderr",
     "output_type": "stream",
     "text": [
      "Testing: 100%|███████████████████████████████████████████████████████████████████████| 95/95 [00:00<00:00, 99.64batch/s]\n"
     ]
    },
    {
     "name": "stdout",
     "output_type": "stream",
     "text": [
      "Test loss: 0.0012503783445266124\n",
      "epoch time: 48.7349 seconds\n",
      "\n",
      "Starting epoch 94\n"
     ]
    },
    {
     "name": "stderr",
     "output_type": "stream",
     "text": [
      "Epoch 94/500: 100%|████████████████████████████| 909/909 [00:47<00:00, 19.05batch/s, batch loss=0.000905, mean epoch loss=0.00124]\n"
     ]
    },
    {
     "name": "stdout",
     "output_type": "stream",
     "text": [
      "Training loss: 0.0012420909338383818\n"
     ]
    },
    {
     "name": "stderr",
     "output_type": "stream",
     "text": [
      "Testing: 100%|███████████████████████████████████████████████████████████████████████| 95/95 [00:00<00:00, 99.21batch/s]\n"
     ]
    },
    {
     "name": "stdout",
     "output_type": "stream",
     "text": [
      "Test loss: 0.0011932556495977272\n",
      "epoch time: 48.6716 seconds\n",
      "\n",
      "Starting epoch 95\n"
     ]
    },
    {
     "name": "stderr",
     "output_type": "stream",
     "text": [
      "Epoch 95/500: 100%|█████████████████████████████| 909/909 [00:47<00:00, 19.05batch/s, batch loss=0.00029, mean epoch loss=0.00122]\n"
     ]
    },
    {
     "name": "stdout",
     "output_type": "stream",
     "text": [
      "Training loss: 0.0012207929343140118\n"
     ]
    },
    {
     "name": "stderr",
     "output_type": "stream",
     "text": [
      "Testing: 100%|███████████████████████████████████████████████████████████████████████| 95/95 [00:00<00:00, 95.23batch/s]\n"
     ]
    },
    {
     "name": "stdout",
     "output_type": "stream",
     "text": [
      "Test loss: 0.001206251381173436\n",
      "epoch time: 48.7119 seconds\n",
      "\n",
      "Starting epoch 96\n"
     ]
    },
    {
     "name": "stderr",
     "output_type": "stream",
     "text": [
      "Epoch 96/500: 100%|██████████████████████████████| 909/909 [00:47<00:00, 19.03batch/s, batch loss=0.00109, mean epoch loss=0.0012]\n"
     ]
    },
    {
     "name": "stdout",
     "output_type": "stream",
     "text": [
      "Training loss: 0.0012040720173637756\n"
     ]
    },
    {
     "name": "stderr",
     "output_type": "stream",
     "text": [
      "Testing: 100%|███████████████████████████████████████████████████████████████████████| 95/95 [00:00<00:00, 99.55batch/s]\n"
     ]
    },
    {
     "name": "stdout",
     "output_type": "stream",
     "text": [
      "Test loss: 0.0012482790325425172\n",
      "epoch time: 48.7252 seconds\n",
      "\n",
      "Starting epoch 97\n"
     ]
    },
    {
     "name": "stderr",
     "output_type": "stream",
     "text": [
      "Epoch 97/500: 100%|████████████████████████████| 909/909 [00:47<00:00, 19.02batch/s, batch loss=0.000285, mean epoch loss=0.00119]\n"
     ]
    },
    {
     "name": "stdout",
     "output_type": "stream",
     "text": [
      "Training loss: 0.0011868238943301493\n"
     ]
    },
    {
     "name": "stderr",
     "output_type": "stream",
     "text": [
      "Testing: 100%|███████████████████████████████████████████████████████████████████████| 95/95 [00:00<00:00, 99.16batch/s]\n"
     ]
    },
    {
     "name": "stdout",
     "output_type": "stream",
     "text": [
      "Test loss: 0.0011791542981212076\n",
      "epoch time: 48.7493 seconds\n",
      "\n",
      "Starting epoch 98\n"
     ]
    },
    {
     "name": "stderr",
     "output_type": "stream",
     "text": [
      "Epoch 98/500: 100%|█████████████████████████████| 909/909 [00:47<00:00, 19.10batch/s, batch loss=0.00125, mean epoch loss=0.00118]\n"
     ]
    },
    {
     "name": "stdout",
     "output_type": "stream",
     "text": [
      "Training loss: 0.001182990655515213\n"
     ]
    },
    {
     "name": "stderr",
     "output_type": "stream",
     "text": [
      "Testing: 100%|███████████████████████████████████████████████████████████████████████| 95/95 [00:00<00:00, 99.85batch/s]\n"
     ]
    },
    {
     "name": "stdout",
     "output_type": "stream",
     "text": [
      "Test loss: 0.0012009792547599462\n",
      "epoch time: 48.5419 seconds\n",
      "\n",
      "Starting epoch 99\n"
     ]
    },
    {
     "name": "stderr",
     "output_type": "stream",
     "text": [
      "Epoch 99/500: 100%|██████████████████████████████| 909/909 [00:47<00:00, 19.11batch/s, batch loss=0.0017, mean epoch loss=0.00117]\n"
     ]
    },
    {
     "name": "stdout",
     "output_type": "stream",
     "text": [
      "Training loss: 0.0011686151485206385\n"
     ]
    },
    {
     "name": "stderr",
     "output_type": "stream",
     "text": [
      "Testing: 100%|███████████████████████████████████████████████████████████████████████| 95/95 [00:00<00:00, 98.82batch/s]\n"
     ]
    },
    {
     "name": "stdout",
     "output_type": "stream",
     "text": [
      "Test loss: 0.0012135270339632897\n",
      "epoch time: 48.5288 seconds\n",
      "\n",
      "Starting epoch 100\n"
     ]
    },
    {
     "name": "stderr",
     "output_type": "stream",
     "text": [
      "Epoch 100/500: 100%|███████████████████████████| 909/909 [00:47<00:00, 19.07batch/s, batch loss=0.000859, mean epoch loss=0.00113]\n"
     ]
    },
    {
     "name": "stdout",
     "output_type": "stream",
     "text": [
      "Training loss: 0.00112764354318094\n"
     ]
    },
    {
     "name": "stderr",
     "output_type": "stream",
     "text": [
      "Testing: 100%|███████████████████████████████████████████████████████████████████████| 95/95 [00:00<00:00, 96.34batch/s]\n"
     ]
    },
    {
     "name": "stdout",
     "output_type": "stream",
     "text": [
      "Test loss: 0.0011477162856241001\n",
      "epoch time: 48.6677 seconds\n",
      "\n",
      "Starting epoch 101\n"
     ]
    },
    {
     "name": "stderr",
     "output_type": "stream",
     "text": [
      "Epoch 101/500: 100%|████████████████████████████| 909/909 [00:47<00:00, 19.04batch/s, batch loss=0.00159, mean epoch loss=0.00112]\n"
     ]
    },
    {
     "name": "stdout",
     "output_type": "stream",
     "text": [
      "Training loss: 0.0011208208938628973\n"
     ]
    },
    {
     "name": "stderr",
     "output_type": "stream",
     "text": [
      "Testing: 100%|███████████████████████████████████████████████████████████████████████| 95/95 [00:00<00:00, 98.40batch/s]\n"
     ]
    },
    {
     "name": "stdout",
     "output_type": "stream",
     "text": [
      "Test loss: 0.0011280372711266146\n",
      "epoch time: 48.6981 seconds\n",
      "\n",
      "Starting epoch 102\n"
     ]
    },
    {
     "name": "stderr",
     "output_type": "stream",
     "text": [
      "Epoch 102/500: 100%|███████████████████████████| 909/909 [00:47<00:00, 19.10batch/s, batch loss=0.000343, mean epoch loss=0.00111]\n"
     ]
    },
    {
     "name": "stdout",
     "output_type": "stream",
     "text": [
      "Training loss: 0.0011090756597055523\n"
     ]
    },
    {
     "name": "stderr",
     "output_type": "stream",
     "text": [
      "Testing: 100%|███████████████████████████████████████████████████████████████████████| 95/95 [00:00<00:00, 96.73batch/s]\n"
     ]
    },
    {
     "name": "stdout",
     "output_type": "stream",
     "text": [
      "Test loss: 0.0012211716292720091\n",
      "epoch time: 48.5785 seconds\n",
      "\n",
      "Starting epoch 103\n"
     ]
    },
    {
     "name": "stderr",
     "output_type": "stream",
     "text": [
      "Epoch 103/500: 100%|███████████████████████████| 909/909 [00:47<00:00, 19.10batch/s, batch loss=0.000479, mean epoch loss=0.00111]\n"
     ]
    },
    {
     "name": "stdout",
     "output_type": "stream",
     "text": [
      "Training loss: 0.0011058032260015372\n"
     ]
    },
    {
     "name": "stderr",
     "output_type": "stream",
     "text": [
      "Testing: 100%|███████████████████████████████████████████████████████████████████████| 95/95 [00:00<00:00, 98.14batch/s]\n"
     ]
    },
    {
     "name": "stdout",
     "output_type": "stream",
     "text": [
      "Test loss: 0.0011528773600921818\n",
      "epoch time: 48.5669 seconds\n",
      "\n",
      "Starting epoch 104\n"
     ]
    },
    {
     "name": "stderr",
     "output_type": "stream",
     "text": [
      "Epoch 104/500: 100%|████████████████████████████| 909/909 [00:47<00:00, 19.14batch/s, batch loss=0.000951, mean epoch loss=0.0011]\n"
     ]
    },
    {
     "name": "stdout",
     "output_type": "stream",
     "text": [
      "Training loss: 0.0010956601399091524\n"
     ]
    },
    {
     "name": "stderr",
     "output_type": "stream",
     "text": [
      "Testing: 100%|███████████████████████████████████████████████████████████████████████| 95/95 [00:00<00:00, 95.04batch/s]\n"
     ]
    },
    {
     "name": "stdout",
     "output_type": "stream",
     "text": [
      "Test loss: 0.0012072725809718432\n",
      "epoch time: 48.4893 seconds\n",
      "\n",
      "Starting epoch 105\n"
     ]
    },
    {
     "name": "stderr",
     "output_type": "stream",
     "text": [
      "Epoch 105/500: 100%|███████████████████████████| 909/909 [00:47<00:00, 19.10batch/s, batch loss=0.000488, mean epoch loss=0.00109]\n"
     ]
    },
    {
     "name": "stdout",
     "output_type": "stream",
     "text": [
      "Training loss: 0.0010880327649884299\n"
     ]
    },
    {
     "name": "stderr",
     "output_type": "stream",
     "text": [
      "Testing: 100%|███████████████████████████████████████████████████████████████████████| 95/95 [00:00<00:00, 98.77batch/s]\n"
     ]
    },
    {
     "name": "stdout",
     "output_type": "stream",
     "text": [
      "Test loss: 0.0011212932050081068\n",
      "epoch time: 48.5656 seconds\n",
      "\n",
      "Starting epoch 106\n"
     ]
    },
    {
     "name": "stderr",
     "output_type": "stream",
     "text": [
      "Epoch 106/500: 100%|████████████████████████████| 909/909 [00:47<00:00, 19.11batch/s, batch loss=0.00126, mean epoch loss=0.00108]\n"
     ]
    },
    {
     "name": "stdout",
     "output_type": "stream",
     "text": [
      "Training loss: 0.0010822883063590278\n"
     ]
    },
    {
     "name": "stderr",
     "output_type": "stream",
     "text": [
      "Testing: 100%|███████████████████████████████████████████████████████████████████████| 95/95 [00:00<00:00, 98.26batch/s]\n"
     ]
    },
    {
     "name": "stdout",
     "output_type": "stream",
     "text": [
      "Test loss: 0.0011104466963412338\n",
      "epoch time: 48.5263 seconds\n",
      "\n",
      "Starting epoch 107\n"
     ]
    },
    {
     "name": "stderr",
     "output_type": "stream",
     "text": [
      "Epoch 107/500: 100%|██████████████████████████████| 909/909 [00:47<00:00, 19.12batch/s, batch loss=0.002, mean epoch loss=0.00108]\n"
     ]
    },
    {
     "name": "stdout",
     "output_type": "stream",
     "text": [
      "Training loss: 0.0010795385336461892\n"
     ]
    },
    {
     "name": "stderr",
     "output_type": "stream",
     "text": [
      "Testing: 100%|███████████████████████████████████████████████████████████████████████| 95/95 [00:00<00:00, 95.75batch/s]\n"
     ]
    },
    {
     "name": "stdout",
     "output_type": "stream",
     "text": [
      "Test loss: 0.001121247813448702\n",
      "epoch time: 48.5429 seconds\n",
      "\n",
      "Starting epoch 108\n"
     ]
    },
    {
     "name": "stderr",
     "output_type": "stream",
     "text": [
      "Epoch 108/500: 100%|████████████████████████████| 909/909 [00:47<00:00, 19.12batch/s, batch loss=0.00161, mean epoch loss=0.00107]\n"
     ]
    },
    {
     "name": "stdout",
     "output_type": "stream",
     "text": [
      "Training loss: 0.0010724806913355396\n"
     ]
    },
    {
     "name": "stderr",
     "output_type": "stream",
     "text": [
      "Testing: 100%|███████████████████████████████████████████████████████████████████████| 95/95 [00:00<00:00, 95.93batch/s]\n"
     ]
    },
    {
     "name": "stdout",
     "output_type": "stream",
     "text": [
      "Test loss: 0.001206460671719948\n",
      "epoch time: 48.5256 seconds\n",
      "\n",
      "Starting epoch 109\n"
     ]
    },
    {
     "name": "stderr",
     "output_type": "stream",
     "text": [
      "Epoch 109/500: 100%|███████████████████████████| 909/909 [00:47<00:00, 19.07batch/s, batch loss=0.000482, mean epoch loss=0.00107]\n"
     ]
    },
    {
     "name": "stdout",
     "output_type": "stream",
     "text": [
      "Training loss: 0.0010663720855594518\n"
     ]
    },
    {
     "name": "stderr",
     "output_type": "stream",
     "text": [
      "Testing: 100%|███████████████████████████████████████████████████████████████████████| 95/95 [00:00<00:00, 98.35batch/s]\n"
     ]
    },
    {
     "name": "stdout",
     "output_type": "stream",
     "text": [
      "Test loss: 0.0011384625909972544\n",
      "epoch time: 48.6381 seconds\n",
      "\n",
      "Starting epoch 110\n"
     ]
    },
    {
     "name": "stderr",
     "output_type": "stream",
     "text": [
      "Epoch 110/500: 100%|████████████████████████████| 909/909 [00:47<00:00, 19.12batch/s, batch loss=0.00132, mean epoch loss=0.00106]\n"
     ]
    },
    {
     "name": "stdout",
     "output_type": "stream",
     "text": [
      "Training loss: 0.0010603761341955182\n"
     ]
    },
    {
     "name": "stderr",
     "output_type": "stream",
     "text": [
      "Testing: 100%|███████████████████████████████████████████████████████████████████████| 95/95 [00:00<00:00, 98.26batch/s]\n"
     ]
    },
    {
     "name": "stdout",
     "output_type": "stream",
     "text": [
      "Test loss: 0.0011086781855403004\n",
      "epoch time: 48.5225 seconds\n",
      "\n",
      "Starting epoch 111\n"
     ]
    },
    {
     "name": "stderr",
     "output_type": "stream",
     "text": [
      "Epoch 111/500: 100%|███████████████████████████| 909/909 [00:47<00:00, 19.09batch/s, batch loss=0.000129, mean epoch loss=0.00104]\n"
     ]
    },
    {
     "name": "stdout",
     "output_type": "stream",
     "text": [
      "Training loss: 0.0010441388771705953\n"
     ]
    },
    {
     "name": "stderr",
     "output_type": "stream",
     "text": [
      "Testing: 100%|███████████████████████████████████████████████████████████████████████| 95/95 [00:00<00:00, 98.28batch/s]\n"
     ]
    },
    {
     "name": "stdout",
     "output_type": "stream",
     "text": [
      "Test loss: 0.001105034056327943\n",
      "epoch time: 48.5828 seconds\n",
      "\n",
      "Starting epoch 112\n"
     ]
    },
    {
     "name": "stderr",
     "output_type": "stream",
     "text": [
      "Epoch 112/500: 100%|████████████████████████████| 909/909 [00:47<00:00, 19.09batch/s, batch loss=0.00145, mean epoch loss=0.00104]\n"
     ]
    },
    {
     "name": "stdout",
     "output_type": "stream",
     "text": [
      "Training loss: 0.001043116277435562\n"
     ]
    },
    {
     "name": "stderr",
     "output_type": "stream",
     "text": [
      "Testing: 100%|███████████████████████████████████████████████████████████████████████| 95/95 [00:01<00:00, 94.67batch/s]\n"
     ]
    },
    {
     "name": "stdout",
     "output_type": "stream",
     "text": [
      "Test loss: 0.0010815337407525237\n",
      "epoch time: 48.6326 seconds\n",
      "\n",
      "Starting epoch 113\n"
     ]
    },
    {
     "name": "stderr",
     "output_type": "stream",
     "text": [
      "Epoch 113/500: 100%|████████████████████████████| 909/909 [00:47<00:00, 19.12batch/s, batch loss=0.00153, mean epoch loss=0.00104]\n"
     ]
    },
    {
     "name": "stdout",
     "output_type": "stream",
     "text": [
      "Training loss: 0.0010401485454360519\n"
     ]
    },
    {
     "name": "stderr",
     "output_type": "stream",
     "text": [
      "Testing: 100%|███████████████████████████████████████████████████████████████████████| 95/95 [00:00<00:00, 96.28batch/s]\n"
     ]
    },
    {
     "name": "stdout",
     "output_type": "stream",
     "text": [
      "Test loss: 0.0010769146414914806\n",
      "epoch time: 48.5341 seconds\n",
      "\n",
      "Starting epoch 114\n"
     ]
    },
    {
     "name": "stderr",
     "output_type": "stream",
     "text": [
      "Epoch 114/500: 100%|████████████████████████████| 909/909 [00:47<00:00, 19.12batch/s, batch loss=0.00144, mean epoch loss=0.00104]\n"
     ]
    },
    {
     "name": "stdout",
     "output_type": "stream",
     "text": [
      "Training loss: 0.0010360639799088885\n"
     ]
    },
    {
     "name": "stderr",
     "output_type": "stream",
     "text": [
      "Testing: 100%|███████████████████████████████████████████████████████████████████████| 95/95 [00:00<00:00, 98.60batch/s]\n"
     ]
    },
    {
     "name": "stdout",
     "output_type": "stream",
     "text": [
      "Test loss: 0.001085329752439927\n",
      "epoch time: 48.5015 seconds\n",
      "\n",
      "Starting epoch 115\n"
     ]
    },
    {
     "name": "stderr",
     "output_type": "stream",
     "text": [
      "Epoch 115/500: 100%|███████████████████████████| 909/909 [00:47<00:00, 19.14batch/s, batch loss=0.000288, mean epoch loss=0.00104]\n"
     ]
    },
    {
     "name": "stdout",
     "output_type": "stream",
     "text": [
      "Training loss: 0.0010358304965902248\n"
     ]
    },
    {
     "name": "stderr",
     "output_type": "stream",
     "text": [
      "Testing: 100%|███████████████████████████████████████████████████████████████████████| 95/95 [00:00<00:00, 98.67batch/s]\n"
     ]
    },
    {
     "name": "stdout",
     "output_type": "stream",
     "text": [
      "Test loss: 0.001123249043073309\n",
      "epoch time: 48.4625 seconds\n",
      "\n",
      "Starting epoch 116\n"
     ]
    },
    {
     "name": "stderr",
     "output_type": "stream",
     "text": [
      "Epoch 116/500: 100%|███████████████████████████| 909/909 [00:47<00:00, 19.14batch/s, batch loss=0.000186, mean epoch loss=0.00103]\n"
     ]
    },
    {
     "name": "stdout",
     "output_type": "stream",
     "text": [
      "Training loss: 0.001034277391665317\n"
     ]
    },
    {
     "name": "stderr",
     "output_type": "stream",
     "text": [
      "Testing: 100%|███████████████████████████████████████████████████████████████████████| 95/95 [00:00<00:00, 95.79batch/s]\n"
     ]
    },
    {
     "name": "stdout",
     "output_type": "stream",
     "text": [
      "Test loss: 0.001111184689522672\n",
      "epoch time: 48.4887 seconds\n",
      "\n",
      "Starting epoch 117\n"
     ]
    },
    {
     "name": "stderr",
     "output_type": "stream",
     "text": [
      "Epoch 117/500: 100%|███████████████████████████| 909/909 [00:47<00:00, 19.17batch/s, batch loss=0.000908, mean epoch loss=0.00103]\n"
     ]
    },
    {
     "name": "stdout",
     "output_type": "stream",
     "text": [
      "Training loss: 0.0010323703625903216\n"
     ]
    },
    {
     "name": "stderr",
     "output_type": "stream",
     "text": [
      "Testing: 100%|███████████████████████████████████████████████████████████████████████| 95/95 [00:00<00:00, 95.69batch/s]\n"
     ]
    },
    {
     "name": "stdout",
     "output_type": "stream",
     "text": [
      "Test loss: 0.0010725145657105666\n",
      "epoch time: 48.4109 seconds\n",
      "\n",
      "Starting epoch 118\n"
     ]
    },
    {
     "name": "stderr",
     "output_type": "stream",
     "text": [
      "Epoch 118/500: 100%|████████████████████████████| 909/909 [00:47<00:00, 19.21batch/s, batch loss=0.00127, mean epoch loss=0.00103]\n"
     ]
    },
    {
     "name": "stdout",
     "output_type": "stream",
     "text": [
      "Training loss: 0.0010280200459210462\n"
     ]
    },
    {
     "name": "stderr",
     "output_type": "stream",
     "text": [
      "Testing: 100%|███████████████████████████████████████████████████████████████████████| 95/95 [00:00<00:00, 97.64batch/s]\n"
     ]
    },
    {
     "name": "stdout",
     "output_type": "stream",
     "text": [
      "Test loss: 0.001087342543331416\n",
      "epoch time: 48.3040 seconds\n",
      "\n",
      "Starting epoch 119\n"
     ]
    },
    {
     "name": "stderr",
     "output_type": "stream",
     "text": [
      "Epoch 119/500: 100%|████████████████████████████| 909/909 [00:47<00:00, 19.15batch/s, batch loss=0.00151, mean epoch loss=0.00103]\n"
     ]
    },
    {
     "name": "stdout",
     "output_type": "stream",
     "text": [
      "Training loss: 0.0010281061142322129\n"
     ]
    },
    {
     "name": "stderr",
     "output_type": "stream",
     "text": [
      "Testing: 100%|███████████████████████████████████████████████████████████████████████| 95/95 [00:00<00:00, 98.00batch/s]\n"
     ]
    },
    {
     "name": "stdout",
     "output_type": "stream",
     "text": [
      "Test loss: 0.0010845818431239184\n",
      "epoch time: 48.4504 seconds\n",
      "\n",
      "Starting epoch 120\n"
     ]
    },
    {
     "name": "stderr",
     "output_type": "stream",
     "text": [
      "Epoch 120/500: 100%|███████████████████████████| 909/909 [00:47<00:00, 19.16batch/s, batch loss=0.000832, mean epoch loss=0.00103]\n"
     ]
    },
    {
     "name": "stdout",
     "output_type": "stream",
     "text": [
      "Training loss: 0.0010261674552567547\n"
     ]
    },
    {
     "name": "stderr",
     "output_type": "stream",
     "text": [
      "Testing: 100%|███████████████████████████████████████████████████████████████████████| 95/95 [00:01<00:00, 92.68batch/s]\n"
     ]
    },
    {
     "name": "stdout",
     "output_type": "stream",
     "text": [
      "Test loss: 0.0010757092346657853\n",
      "epoch time: 48.4636 seconds\n",
      "\n",
      "Starting epoch 121\n"
     ]
    },
    {
     "name": "stderr",
     "output_type": "stream",
     "text": [
      "Epoch 121/500: 100%|████████████████████████████| 909/909 [00:47<00:00, 19.10batch/s, batch loss=0.00255, mean epoch loss=0.00102]\n"
     ]
    },
    {
     "name": "stdout",
     "output_type": "stream",
     "text": [
      "Training loss: 0.0010241452239677787\n"
     ]
    },
    {
     "name": "stderr",
     "output_type": "stream",
     "text": [
      "Testing: 100%|███████████████████████████████████████████████████████████████████████| 95/95 [00:00<00:00, 95.59batch/s]\n"
     ]
    },
    {
     "name": "stdout",
     "output_type": "stream",
     "text": [
      "Test loss: 0.0010936670323931858\n",
      "epoch time: 48.5907 seconds\n",
      "\n",
      "Starting epoch 122\n"
     ]
    },
    {
     "name": "stderr",
     "output_type": "stream",
     "text": [
      "Epoch 122/500: 100%|████████████████████████████| 909/909 [00:47<00:00, 19.08batch/s, batch loss=0.00167, mean epoch loss=0.00102]\n"
     ]
    },
    {
     "name": "stdout",
     "output_type": "stream",
     "text": [
      "Training loss: 0.0010170979206376002\n"
     ]
    },
    {
     "name": "stderr",
     "output_type": "stream",
     "text": [
      "Testing: 100%|███████████████████████████████████████████████████████████████████████| 95/95 [00:01<00:00, 93.61batch/s]\n"
     ]
    },
    {
     "name": "stdout",
     "output_type": "stream",
     "text": [
      "Test loss: 0.0010630807438007507\n",
      "epoch time: 48.6495 seconds\n",
      "\n",
      "Starting epoch 123\n"
     ]
    },
    {
     "name": "stderr",
     "output_type": "stream",
     "text": [
      "Epoch 123/500: 100%|███████████████████████████| 909/909 [00:48<00:00, 18.58batch/s, batch loss=0.000933, mean epoch loss=0.00102]\n"
     ]
    },
    {
     "name": "stdout",
     "output_type": "stream",
     "text": [
      "Training loss: 0.001017162617196022\n"
     ]
    },
    {
     "name": "stderr",
     "output_type": "stream",
     "text": [
      "Testing: 100%|███████████████████████████████████████████████████████████████████████| 95/95 [00:01<00:00, 93.11batch/s]\n"
     ]
    },
    {
     "name": "stdout",
     "output_type": "stream",
     "text": [
      "Test loss: 0.0010766686822630857\n",
      "epoch time: 49.9512 seconds\n",
      "\n",
      "Starting epoch 124\n"
     ]
    },
    {
     "name": "stderr",
     "output_type": "stream",
     "text": [
      "Epoch 124/500: 100%|████████████████████████████| 909/909 [00:49<00:00, 18.39batch/s, batch loss=0.00119, mean epoch loss=0.00102]\n"
     ]
    },
    {
     "name": "stdout",
     "output_type": "stream",
     "text": [
      "Training loss: 0.0010162341175088607\n"
     ]
    },
    {
     "name": "stderr",
     "output_type": "stream",
     "text": [
      "Testing: 100%|███████████████████████████████████████████████████████████████████████| 95/95 [00:01<00:00, 93.63batch/s]\n"
     ]
    },
    {
     "name": "stdout",
     "output_type": "stream",
     "text": [
      "Test loss: 0.0010794656461496886\n",
      "epoch time: 50.4497 seconds\n",
      "\n",
      "Starting epoch 125\n"
     ]
    },
    {
     "name": "stderr",
     "output_type": "stream",
     "text": [
      "Epoch 125/500: 100%|███████████████████████████| 909/909 [00:49<00:00, 18.32batch/s, batch loss=0.000592, mean epoch loss=0.00101]\n"
     ]
    },
    {
     "name": "stdout",
     "output_type": "stream",
     "text": [
      "Training loss: 0.0010145290965362036\n"
     ]
    },
    {
     "name": "stderr",
     "output_type": "stream",
     "text": [
      "Testing: 100%|███████████████████████████████████████████████████████████████████████| 95/95 [00:01<00:00, 93.00batch/s]\n"
     ]
    },
    {
     "name": "stdout",
     "output_type": "stream",
     "text": [
      "Test loss: 0.0010866998538595477\n",
      "epoch time: 50.6433 seconds\n",
      "\n",
      "Starting epoch 126\n"
     ]
    },
    {
     "name": "stderr",
     "output_type": "stream",
     "text": [
      "Epoch 126/500: 100%|███████████████████████████| 909/909 [00:49<00:00, 18.32batch/s, batch loss=0.000942, mean epoch loss=0.00101]\n"
     ]
    },
    {
     "name": "stdout",
     "output_type": "stream",
     "text": [
      "Training loss: 0.0010143747667275365\n"
     ]
    },
    {
     "name": "stderr",
     "output_type": "stream",
     "text": [
      "Testing: 100%|███████████████████████████████████████████████████████████████████████| 95/95 [00:01<00:00, 92.67batch/s]\n"
     ]
    },
    {
     "name": "stdout",
     "output_type": "stream",
     "text": [
      "Test loss: 0.0010774665931852436\n",
      "epoch time: 50.6432 seconds\n",
      "\n",
      "Starting epoch 127\n"
     ]
    },
    {
     "name": "stderr",
     "output_type": "stream",
     "text": [
      "Epoch 127/500: 100%|████████████████████████████| 909/909 [00:49<00:00, 18.25batch/s, batch loss=0.00154, mean epoch loss=0.00101]\n"
     ]
    },
    {
     "name": "stdout",
     "output_type": "stream",
     "text": [
      "Training loss: 0.001013844742031017\n"
     ]
    },
    {
     "name": "stderr",
     "output_type": "stream",
     "text": [
      "Testing: 100%|███████████████████████████████████████████████████████████████████████| 95/95 [00:00<00:00, 96.33batch/s]\n"
     ]
    },
    {
     "name": "stdout",
     "output_type": "stream",
     "text": [
      "Test loss: 0.0010933282720782843\n",
      "\n",
      "Early stopping at epoch 127. No improvement in test loss for 50 epochs.\n",
      "lr: 0.000567164517238037, weight decay: 0.0004488643154359018, final epoch: 76, final test loss: 0.0010208587630921484\n",
      "---------------------------------------------------------\n",
      "starting trial 3\n",
      "lr: 0.0007284791014252432, weight decay: 5.076975211708687e-05\n",
      "\n",
      "Starting epoch 1\n"
     ]
    },
    {
     "name": "stderr",
     "output_type": "stream",
     "text": [
      "Epoch 1/500: 100%|█████████████████████████████| 909/909 [00:49<00:00, 18.23batch/s, batch loss=0.000362, mean epoch loss=0.00193]\n"
     ]
    },
    {
     "name": "stdout",
     "output_type": "stream",
     "text": [
      "Training loss: 0.0019317610904331574\n"
     ]
    },
    {
     "name": "stderr",
     "output_type": "stream",
     "text": [
      "Testing: 100%|███████████████████████████████████████████████████████████████████████| 95/95 [00:01<00:00, 93.61batch/s]\n"
     ]
    },
    {
     "name": "stdout",
     "output_type": "stream",
     "text": [
      "Test loss: 0.0017083075283536393\n",
      "epoch time: 50.8686 seconds\n",
      "\n",
      "Starting epoch 2\n"
     ]
    },
    {
     "name": "stderr",
     "output_type": "stream",
     "text": [
      "Epoch 2/500: 100%|██████████████████████████████| 909/909 [00:49<00:00, 18.21batch/s, batch loss=0.00222, mean epoch loss=0.00152]\n"
     ]
    },
    {
     "name": "stdout",
     "output_type": "stream",
     "text": [
      "Training loss: 0.0015190900879256618\n"
     ]
    },
    {
     "name": "stderr",
     "output_type": "stream",
     "text": [
      "Testing: 100%|███████████████████████████████████████████████████████████████████████| 95/95 [00:01<00:00, 94.85batch/s]\n"
     ]
    },
    {
     "name": "stdout",
     "output_type": "stream",
     "text": [
      "Test loss: 0.0016070866347658202\n",
      "epoch time: 50.9110 seconds\n",
      "\n",
      "Starting epoch 3\n"
     ]
    },
    {
     "name": "stderr",
     "output_type": "stream",
     "text": [
      "Epoch 3/500: 100%|█████████████████████████████| 909/909 [00:49<00:00, 18.21batch/s, batch loss=0.000666, mean epoch loss=0.00143]\n"
     ]
    },
    {
     "name": "stdout",
     "output_type": "stream",
     "text": [
      "Training loss: 0.0014313724568597531\n"
     ]
    },
    {
     "name": "stderr",
     "output_type": "stream",
     "text": [
      "Testing: 100%|███████████████████████████████████████████████████████████████████████| 95/95 [00:00<00:00, 96.12batch/s]\n"
     ]
    },
    {
     "name": "stdout",
     "output_type": "stream",
     "text": [
      "Test loss: 0.0018076452834066004\n",
      "epoch time: 50.9124 seconds\n",
      "\n",
      "Starting epoch 4\n"
     ]
    },
    {
     "name": "stderr",
     "output_type": "stream",
     "text": [
      "Epoch 4/500: 100%|█████████████████████████████| 909/909 [00:49<00:00, 18.25batch/s, batch loss=0.000927, mean epoch loss=0.00136]\n"
     ]
    },
    {
     "name": "stdout",
     "output_type": "stream",
     "text": [
      "Training loss: 0.001356494180868765\n"
     ]
    },
    {
     "name": "stderr",
     "output_type": "stream",
     "text": [
      "Testing: 100%|███████████████████████████████████████████████████████████████████████| 95/95 [00:00<00:00, 98.55batch/s]\n"
     ]
    },
    {
     "name": "stdout",
     "output_type": "stream",
     "text": [
      "Test loss: 0.0017810130001682984\n",
      "epoch time: 50.7786 seconds\n",
      "\n",
      "Starting epoch 5\n"
     ]
    },
    {
     "name": "stderr",
     "output_type": "stream",
     "text": [
      "Epoch 5/500: 100%|██████████████████████████████| 909/909 [00:49<00:00, 18.38batch/s, batch loss=0.00151, mean epoch loss=0.00133]\n"
     ]
    },
    {
     "name": "stdout",
     "output_type": "stream",
     "text": [
      "Training loss: 0.0013304580224439582\n"
     ]
    },
    {
     "name": "stderr",
     "output_type": "stream",
     "text": [
      "Testing: 100%|███████████████████████████████████████████████████████████████████████| 95/95 [00:00<00:00, 95.02batch/s]\n"
     ]
    },
    {
     "name": "stdout",
     "output_type": "stream",
     "text": [
      "Test loss: 0.0015113230034905045\n",
      "epoch time: 50.4620 seconds\n",
      "\n",
      "Starting epoch 6\n"
     ]
    },
    {
     "name": "stderr",
     "output_type": "stream",
     "text": [
      "Epoch 6/500: 100%|█████████████████████████████| 909/909 [00:49<00:00, 18.24batch/s, batch loss=0.000419, mean epoch loss=0.00132]\n"
     ]
    },
    {
     "name": "stdout",
     "output_type": "stream",
     "text": [
      "Training loss: 0.0013168620292105782\n"
     ]
    },
    {
     "name": "stderr",
     "output_type": "stream",
     "text": [
      "Testing: 100%|███████████████████████████████████████████████████████████████████████| 95/95 [00:00<00:00, 96.20batch/s]\n"
     ]
    },
    {
     "name": "stdout",
     "output_type": "stream",
     "text": [
      "Test loss: 0.001237675017910078\n",
      "epoch time: 50.8309 seconds\n",
      "\n",
      "Starting epoch 7\n"
     ]
    },
    {
     "name": "stderr",
     "output_type": "stream",
     "text": [
      "Epoch 7/500: 100%|██████████████████████████████| 909/909 [00:49<00:00, 18.30batch/s, batch loss=0.00323, mean epoch loss=0.00129]\n"
     ]
    },
    {
     "name": "stdout",
     "output_type": "stream",
     "text": [
      "Training loss: 0.0012916409025462835\n"
     ]
    },
    {
     "name": "stderr",
     "output_type": "stream",
     "text": [
      "Testing: 100%|███████████████████████████████████████████████████████████████████████| 95/95 [00:00<00:00, 96.31batch/s]\n"
     ]
    },
    {
     "name": "stdout",
     "output_type": "stream",
     "text": [
      "Test loss: 0.0013016231293716516\n",
      "epoch time: 50.6588 seconds\n",
      "\n",
      "Starting epoch 8\n"
     ]
    },
    {
     "name": "stderr",
     "output_type": "stream",
     "text": [
      "Epoch 8/500: 100%|██████████████████████████████| 909/909 [00:49<00:00, 18.33batch/s, batch loss=0.00118, mean epoch loss=0.00129]\n"
     ]
    },
    {
     "name": "stdout",
     "output_type": "stream",
     "text": [
      "Training loss: 0.00128834153065377\n"
     ]
    },
    {
     "name": "stderr",
     "output_type": "stream",
     "text": [
      "Testing: 100%|███████████████████████████████████████████████████████████████████████| 95/95 [00:00<00:00, 98.29batch/s]\n"
     ]
    },
    {
     "name": "stdout",
     "output_type": "stream",
     "text": [
      "Test loss: 0.0013941271892307621\n",
      "epoch time: 50.5686 seconds\n",
      "\n",
      "Starting epoch 9\n"
     ]
    },
    {
     "name": "stderr",
     "output_type": "stream",
     "text": [
      "Epoch 9/500: 100%|█████████████████████████████| 909/909 [00:49<00:00, 18.36batch/s, batch loss=0.000686, mean epoch loss=0.00126]\n"
     ]
    },
    {
     "name": "stdout",
     "output_type": "stream",
     "text": [
      "Training loss: 0.0012593855916156677\n"
     ]
    },
    {
     "name": "stderr",
     "output_type": "stream",
     "text": [
      "Testing: 100%|███████████████████████████████████████████████████████████████████████| 95/95 [00:00<00:00, 96.46batch/s]\n"
     ]
    },
    {
     "name": "stdout",
     "output_type": "stream",
     "text": [
      "Test loss: 0.0012640209908376596\n",
      "epoch time: 50.4951 seconds\n",
      "\n",
      "Starting epoch 10\n"
     ]
    },
    {
     "name": "stderr",
     "output_type": "stream",
     "text": [
      "Epoch 10/500: 100%|█████████████████████████████| 909/909 [00:49<00:00, 18.39batch/s, batch loss=0.00089, mean epoch loss=0.00125]\n"
     ]
    },
    {
     "name": "stdout",
     "output_type": "stream",
     "text": [
      "Training loss: 0.001247478220170931\n"
     ]
    },
    {
     "name": "stderr",
     "output_type": "stream",
     "text": [
      "Testing: 100%|███████████████████████████████████████████████████████████████████████| 95/95 [00:00<00:00, 95.94batch/s]\n"
     ]
    },
    {
     "name": "stdout",
     "output_type": "stream",
     "text": [
      "Test loss: 0.00122914633983256\n",
      "epoch time: 50.4228 seconds\n",
      "\n",
      "Starting epoch 11\n"
     ]
    },
    {
     "name": "stderr",
     "output_type": "stream",
     "text": [
      "Epoch 11/500: 100%|████████████████████████████| 909/909 [00:49<00:00, 18.39batch/s, batch loss=0.000846, mean epoch loss=0.00124]\n"
     ]
    },
    {
     "name": "stdout",
     "output_type": "stream",
     "text": [
      "Training loss: 0.0012384635386920645\n"
     ]
    },
    {
     "name": "stderr",
     "output_type": "stream",
     "text": [
      "Testing: 100%|███████████████████████████████████████████████████████████████████████| 95/95 [00:00<00:00, 95.99batch/s]\n"
     ]
    },
    {
     "name": "stdout",
     "output_type": "stream",
     "text": [
      "Test loss: 0.0014973927019654137\n",
      "epoch time: 50.4237 seconds\n",
      "\n",
      "Starting epoch 12\n"
     ]
    },
    {
     "name": "stderr",
     "output_type": "stream",
     "text": [
      "Epoch 12/500: 100%|████████████████████████████| 909/909 [00:49<00:00, 18.36batch/s, batch loss=0.000542, mean epoch loss=0.00122]\n"
     ]
    },
    {
     "name": "stdout",
     "output_type": "stream",
     "text": [
      "Training loss: 0.0012187530874073667\n"
     ]
    },
    {
     "name": "stderr",
     "output_type": "stream",
     "text": [
      "Testing: 100%|███████████████████████████████████████████████████████████████████████| 95/95 [00:00<00:00, 96.13batch/s]\n"
     ]
    },
    {
     "name": "stdout",
     "output_type": "stream",
     "text": [
      "Test loss: 0.0012259041852207462\n",
      "epoch time: 50.5028 seconds\n",
      "\n",
      "Starting epoch 13\n"
     ]
    },
    {
     "name": "stderr",
     "output_type": "stream",
     "text": [
      "Epoch 13/500: 100%|████████████████████████████| 909/909 [00:49<00:00, 18.39batch/s, batch loss=0.000865, mean epoch loss=0.00124]\n"
     ]
    },
    {
     "name": "stdout",
     "output_type": "stream",
     "text": [
      "Training loss: 0.0012391361730062834\n"
     ]
    },
    {
     "name": "stderr",
     "output_type": "stream",
     "text": [
      "Testing: 100%|███████████████████████████████████████████████████████████████████████| 95/95 [00:00<00:00, 96.51batch/s]\n"
     ]
    },
    {
     "name": "stdout",
     "output_type": "stream",
     "text": [
      "Test loss: 0.0013182456412132045\n",
      "epoch time: 50.4089 seconds\n",
      "\n",
      "Starting epoch 14\n"
     ]
    },
    {
     "name": "stderr",
     "output_type": "stream",
     "text": [
      "Epoch 14/500: 100%|████████████████████████████| 909/909 [00:49<00:00, 18.34batch/s, batch loss=0.000227, mean epoch loss=0.00123]\n"
     ]
    },
    {
     "name": "stdout",
     "output_type": "stream",
     "text": [
      "Training loss: 0.001234123210191657\n"
     ]
    },
    {
     "name": "stderr",
     "output_type": "stream",
     "text": [
      "Testing: 100%|███████████████████████████████████████████████████████████████████████| 95/95 [00:01<00:00, 94.65batch/s]\n"
     ]
    },
    {
     "name": "stdout",
     "output_type": "stream",
     "text": [
      "Test loss: 0.0011737594307449303\n",
      "epoch time: 50.5714 seconds\n",
      "\n",
      "Starting epoch 15\n"
     ]
    },
    {
     "name": "stderr",
     "output_type": "stream",
     "text": [
      "Epoch 15/500: 100%|█████████████████████████████| 909/909 [00:49<00:00, 18.35batch/s, batch loss=0.000566, mean epoch loss=0.0012]\n"
     ]
    },
    {
     "name": "stdout",
     "output_type": "stream",
     "text": [
      "Training loss: 0.0012035038455738942\n"
     ]
    },
    {
     "name": "stderr",
     "output_type": "stream",
     "text": [
      "Testing: 100%|███████████████████████████████████████████████████████████████████████| 95/95 [00:00<00:00, 98.60batch/s]\n"
     ]
    },
    {
     "name": "stdout",
     "output_type": "stream",
     "text": [
      "Test loss: 0.0012137823146890457\n",
      "epoch time: 50.4893 seconds\n",
      "\n",
      "Starting epoch 16\n"
     ]
    },
    {
     "name": "stderr",
     "output_type": "stream",
     "text": [
      "Epoch 16/500: 100%|██████████████████████████████| 909/909 [00:49<00:00, 18.45batch/s, batch loss=0.00211, mean epoch loss=0.0012]\n"
     ]
    },
    {
     "name": "stdout",
     "output_type": "stream",
     "text": [
      "Training loss: 0.0011978249983325175\n"
     ]
    },
    {
     "name": "stderr",
     "output_type": "stream",
     "text": [
      "Testing: 100%|███████████████████████████████████████████████████████████████████████| 95/95 [00:00<00:00, 96.48batch/s]\n"
     ]
    },
    {
     "name": "stdout",
     "output_type": "stream",
     "text": [
      "Test loss: 0.0012165525067279017\n",
      "epoch time: 50.2651 seconds\n",
      "\n",
      "Starting epoch 17\n"
     ]
    },
    {
     "name": "stderr",
     "output_type": "stream",
     "text": [
      "Epoch 17/500: 100%|█████████████████████████████| 909/909 [00:49<00:00, 18.45batch/s, batch loss=0.00148, mean epoch loss=0.00119]\n"
     ]
    },
    {
     "name": "stdout",
     "output_type": "stream",
     "text": [
      "Training loss: 0.0011897723955414498\n"
     ]
    },
    {
     "name": "stderr",
     "output_type": "stream",
     "text": [
      "Testing: 100%|███████████████████████████████████████████████████████████████████████| 95/95 [00:01<00:00, 94.76batch/s]\n"
     ]
    },
    {
     "name": "stdout",
     "output_type": "stream",
     "text": [
      "Test loss: 0.0012125772972419661\n",
      "epoch time: 50.2652 seconds\n",
      "\n",
      "Starting epoch 18\n"
     ]
    },
    {
     "name": "stderr",
     "output_type": "stream",
     "text": [
      "Epoch 18/500: 100%|█████████████████████████████| 909/909 [00:49<00:00, 18.47batch/s, batch loss=0.00101, mean epoch loss=0.00119]\n"
     ]
    },
    {
     "name": "stdout",
     "output_type": "stream",
     "text": [
      "Training loss: 0.0011857021213477765\n"
     ]
    },
    {
     "name": "stderr",
     "output_type": "stream",
     "text": [
      "Testing: 100%|███████████████████████████████████████████████████████████████████████| 95/95 [00:00<00:00, 98.76batch/s]\n"
     ]
    },
    {
     "name": "stdout",
     "output_type": "stream",
     "text": [
      "Test loss: 0.00122429532531992\n",
      "epoch time: 50.1844 seconds\n",
      "\n",
      "Starting epoch 19\n"
     ]
    },
    {
     "name": "stderr",
     "output_type": "stream",
     "text": [
      "Epoch 19/500: 100%|█████████████████████████████| 909/909 [00:49<00:00, 18.51batch/s, batch loss=0.00145, mean epoch loss=0.00117]\n"
     ]
    },
    {
     "name": "stdout",
     "output_type": "stream",
     "text": [
      "Training loss: 0.0011692697519393063\n"
     ]
    },
    {
     "name": "stderr",
     "output_type": "stream",
     "text": [
      "Testing: 100%|███████████████████████████████████████████████████████████████████████| 95/95 [00:00<00:00, 98.42batch/s]\n"
     ]
    },
    {
     "name": "stdout",
     "output_type": "stream",
     "text": [
      "Test loss: 0.0013209180930923476\n",
      "epoch time: 50.0735 seconds\n",
      "\n",
      "Starting epoch 20\n"
     ]
    },
    {
     "name": "stderr",
     "output_type": "stream",
     "text": [
      "Epoch 20/500: 100%|█████████████████████████████| 909/909 [00:48<00:00, 18.57batch/s, batch loss=0.00105, mean epoch loss=0.00117]\n"
     ]
    },
    {
     "name": "stdout",
     "output_type": "stream",
     "text": [
      "Training loss: 0.0011715902418121787\n"
     ]
    },
    {
     "name": "stderr",
     "output_type": "stream",
     "text": [
      "Testing: 100%|███████████████████████████████████████████████████████████████████████| 95/95 [00:00<00:00, 96.12batch/s]\n"
     ]
    },
    {
     "name": "stdout",
     "output_type": "stream",
     "text": [
      "Test loss: 0.0011299454861345064\n",
      "epoch time: 49.9434 seconds\n",
      "\n",
      "Starting epoch 21\n"
     ]
    },
    {
     "name": "stderr",
     "output_type": "stream",
     "text": [
      "Epoch 21/500: 100%|█████████████████████████████| 909/909 [00:47<00:00, 19.15batch/s, batch loss=0.00032, mean epoch loss=0.00116]\n"
     ]
    },
    {
     "name": "stdout",
     "output_type": "stream",
     "text": [
      "Training loss: 0.0011648568054037456\n"
     ]
    },
    {
     "name": "stderr",
     "output_type": "stream",
     "text": [
      "Testing: 100%|███████████████████████████████████████████████████████████████████████| 95/95 [00:00<00:00, 96.05batch/s]\n"
     ]
    },
    {
     "name": "stdout",
     "output_type": "stream",
     "text": [
      "Test loss: 0.0011596444332482\n",
      "epoch time: 48.4660 seconds\n",
      "\n",
      "Starting epoch 22\n"
     ]
    },
    {
     "name": "stderr",
     "output_type": "stream",
     "text": [
      "Epoch 22/500: 100%|█████████████████████████████| 909/909 [00:47<00:00, 19.21batch/s, batch loss=0.00574, mean epoch loss=0.00115]\n"
     ]
    },
    {
     "name": "stdout",
     "output_type": "stream",
     "text": [
      "Training loss: 0.0011491983052302403\n"
     ]
    },
    {
     "name": "stderr",
     "output_type": "stream",
     "text": [
      "Testing: 100%|███████████████████████████████████████████████████████████████████████| 95/95 [00:00<00:00, 95.40batch/s]\n"
     ]
    },
    {
     "name": "stdout",
     "output_type": "stream",
     "text": [
      "Test loss: 0.0011177583989736282\n",
      "epoch time: 48.3277 seconds\n",
      "\n",
      "Starting epoch 23\n"
     ]
    },
    {
     "name": "stderr",
     "output_type": "stream",
     "text": [
      "Epoch 23/500: 100%|████████████████████████████| 909/909 [00:47<00:00, 19.20batch/s, batch loss=0.000541, mean epoch loss=0.00114]\n"
     ]
    },
    {
     "name": "stdout",
     "output_type": "stream",
     "text": [
      "Training loss: 0.0011423698278221228\n"
     ]
    },
    {
     "name": "stderr",
     "output_type": "stream",
     "text": [
      "Testing: 100%|███████████████████████████████████████████████████████████████████████| 95/95 [00:00<00:00, 97.88batch/s]\n"
     ]
    },
    {
     "name": "stdout",
     "output_type": "stream",
     "text": [
      "Test loss: 0.001151229393680727\n",
      "epoch time: 48.3258 seconds\n",
      "\n",
      "Starting epoch 24\n"
     ]
    },
    {
     "name": "stderr",
     "output_type": "stream",
     "text": [
      "Epoch 24/500: 100%|████████████████████████████| 909/909 [00:47<00:00, 19.15batch/s, batch loss=0.000294, mean epoch loss=0.00114]\n"
     ]
    },
    {
     "name": "stdout",
     "output_type": "stream",
     "text": [
      "Training loss: 0.0011375673162703258\n"
     ]
    },
    {
     "name": "stderr",
     "output_type": "stream",
     "text": [
      "Testing: 100%|███████████████████████████████████████████████████████████████████████| 95/95 [00:00<00:00, 95.72batch/s]\n"
     ]
    },
    {
     "name": "stdout",
     "output_type": "stream",
     "text": [
      "Test loss: 0.0011327985355532482\n",
      "epoch time: 48.4659 seconds\n",
      "\n",
      "Starting epoch 25\n"
     ]
    },
    {
     "name": "stderr",
     "output_type": "stream",
     "text": [
      "Epoch 25/500: 100%|█████████████████████████████| 909/909 [00:47<00:00, 18.94batch/s, batch loss=0.00047, mean epoch loss=0.00113]\n"
     ]
    },
    {
     "name": "stdout",
     "output_type": "stream",
     "text": [
      "Training loss: 0.0011254047852445484\n"
     ]
    },
    {
     "name": "stderr",
     "output_type": "stream",
     "text": [
      "Testing: 100%|███████████████████████████████████████████████████████████████████████| 95/95 [00:01<00:00, 92.97batch/s]\n"
     ]
    },
    {
     "name": "stdout",
     "output_type": "stream",
     "text": [
      "Test loss: 0.0011042368138748171\n",
      "epoch time: 49.0103 seconds\n",
      "\n",
      "Starting epoch 26\n"
     ]
    },
    {
     "name": "stderr",
     "output_type": "stream",
     "text": [
      "Epoch 26/500: 100%|█████████████████████████████| 909/909 [00:48<00:00, 18.72batch/s, batch loss=0.00192, mean epoch loss=0.00113]\n"
     ]
    },
    {
     "name": "stdout",
     "output_type": "stream",
     "text": [
      "Training loss: 0.0011296727507285147\n"
     ]
    },
    {
     "name": "stderr",
     "output_type": "stream",
     "text": [
      "Testing: 100%|███████████████████████████████████████████████████████████████████████| 95/95 [00:01<00:00, 92.62batch/s]\n"
     ]
    },
    {
     "name": "stdout",
     "output_type": "stream",
     "text": [
      "Test loss: 0.0014699653746854317\n",
      "epoch time: 49.5940 seconds\n",
      "\n",
      "Starting epoch 27\n"
     ]
    },
    {
     "name": "stderr",
     "output_type": "stream",
     "text": [
      "Epoch 27/500: 100%|█████████████████████████████| 909/909 [00:48<00:00, 18.70batch/s, batch loss=0.00282, mean epoch loss=0.00113]\n"
     ]
    },
    {
     "name": "stdout",
     "output_type": "stream",
     "text": [
      "Training loss: 0.001131041686782384\n"
     ]
    },
    {
     "name": "stderr",
     "output_type": "stream",
     "text": [
      "Testing: 100%|███████████████████████████████████████████████████████████████████████| 95/95 [00:01<00:00, 92.65batch/s]\n"
     ]
    },
    {
     "name": "stdout",
     "output_type": "stream",
     "text": [
      "Test loss: 0.001373188335166656\n",
      "epoch time: 49.6250 seconds\n",
      "\n",
      "Starting epoch 28\n"
     ]
    },
    {
     "name": "stderr",
     "output_type": "stream",
     "text": [
      "Epoch 28/500: 100%|█████████████████████████████| 909/909 [00:48<00:00, 18.68batch/s, batch loss=0.000726, mean epoch loss=0.0011]\n"
     ]
    },
    {
     "name": "stdout",
     "output_type": "stream",
     "text": [
      "Training loss: 0.0010992877990790803\n"
     ]
    },
    {
     "name": "stderr",
     "output_type": "stream",
     "text": [
      "Testing: 100%|███████████████████████████████████████████████████████████████████████| 95/95 [00:01<00:00, 93.96batch/s]\n"
     ]
    },
    {
     "name": "stdout",
     "output_type": "stream",
     "text": [
      "Test loss: 0.0010986243993485053\n",
      "epoch time: 49.6877 seconds\n",
      "\n",
      "Starting epoch 29\n"
     ]
    },
    {
     "name": "stderr",
     "output_type": "stream",
     "text": [
      "Epoch 29/500: 100%|████████████████████████████| 909/909 [00:48<00:00, 18.71batch/s, batch loss=0.000238, mean epoch loss=0.00111]\n"
     ]
    },
    {
     "name": "stdout",
     "output_type": "stream",
     "text": [
      "Training loss: 0.00111298322103476\n"
     ]
    },
    {
     "name": "stderr",
     "output_type": "stream",
     "text": [
      "Testing: 100%|███████████████████████████████████████████████████████████████████████| 95/95 [00:00<00:00, 95.28batch/s]\n"
     ]
    },
    {
     "name": "stdout",
     "output_type": "stream",
     "text": [
      "Test loss: 0.0011876790082743882\n",
      "epoch time: 49.5883 seconds\n",
      "\n",
      "Starting epoch 30\n"
     ]
    },
    {
     "name": "stderr",
     "output_type": "stream",
     "text": [
      "Epoch 30/500: 100%|█████████████████████████████| 909/909 [00:48<00:00, 18.75batch/s, batch loss=0.00171, mean epoch loss=0.00111]\n"
     ]
    },
    {
     "name": "stdout",
     "output_type": "stream",
     "text": [
      "Training loss: 0.0011101159459328057\n"
     ]
    },
    {
     "name": "stderr",
     "output_type": "stream",
     "text": [
      "Testing: 100%|███████████████████████████████████████████████████████████████████████| 95/95 [00:01<00:00, 93.26batch/s]\n"
     ]
    },
    {
     "name": "stdout",
     "output_type": "stream",
     "text": [
      "Test loss: 0.0011422990563962805\n",
      "epoch time: 49.5137 seconds\n",
      "\n",
      "Starting epoch 31\n"
     ]
    },
    {
     "name": "stderr",
     "output_type": "stream",
     "text": [
      "Epoch 31/500: 100%|█████████████████████████████| 909/909 [00:48<00:00, 18.72batch/s, batch loss=0.00128, mean epoch loss=0.00109]\n"
     ]
    },
    {
     "name": "stdout",
     "output_type": "stream",
     "text": [
      "Training loss: 0.0010931013095716673\n"
     ]
    },
    {
     "name": "stderr",
     "output_type": "stream",
     "text": [
      "Testing: 100%|███████████████████████████████████████████████████████████████████████| 95/95 [00:01<00:00, 94.85batch/s]\n"
     ]
    },
    {
     "name": "stdout",
     "output_type": "stream",
     "text": [
      "Test loss: 0.0016035124040698926\n",
      "epoch time: 49.5613 seconds\n",
      "\n",
      "Starting epoch 32\n"
     ]
    },
    {
     "name": "stderr",
     "output_type": "stream",
     "text": [
      "Epoch 32/500: 100%|█████████████████████████████| 909/909 [00:48<00:00, 18.74batch/s, batch loss=0.000408, mean epoch loss=0.0011]\n"
     ]
    },
    {
     "name": "stdout",
     "output_type": "stream",
     "text": [
      "Training loss: 0.0011006750082562557\n"
     ]
    },
    {
     "name": "stderr",
     "output_type": "stream",
     "text": [
      "Testing: 100%|███████████████████████████████████████████████████████████████████████| 95/95 [00:01<00:00, 91.14batch/s]\n"
     ]
    },
    {
     "name": "stdout",
     "output_type": "stream",
     "text": [
      "Test loss: 0.0011944828346665752\n",
      "epoch time: 49.5394 seconds\n",
      "\n",
      "Starting epoch 33\n"
     ]
    },
    {
     "name": "stderr",
     "output_type": "stream",
     "text": [
      "Epoch 33/500: 100%|████████████████████████████| 909/909 [00:48<00:00, 18.77batch/s, batch loss=0.000796, mean epoch loss=0.00109]\n"
     ]
    },
    {
     "name": "stdout",
     "output_type": "stream",
     "text": [
      "Training loss: 0.0010886951981539344\n"
     ]
    },
    {
     "name": "stderr",
     "output_type": "stream",
     "text": [
      "Testing: 100%|███████████████████████████████████████████████████████████████████████| 95/95 [00:01<00:00, 92.92batch/s]\n"
     ]
    },
    {
     "name": "stdout",
     "output_type": "stream",
     "text": [
      "Test loss: 0.0011564737167454472\n",
      "epoch time: 49.4446 seconds\n",
      "\n",
      "Starting epoch 34\n"
     ]
    },
    {
     "name": "stderr",
     "output_type": "stream",
     "text": [
      "Epoch 34/500: 100%|████████████████████████████| 909/909 [00:48<00:00, 18.71batch/s, batch loss=0.000199, mean epoch loss=0.00109]\n"
     ]
    },
    {
     "name": "stdout",
     "output_type": "stream",
     "text": [
      "Training loss: 0.0010916013598314775\n"
     ]
    },
    {
     "name": "stderr",
     "output_type": "stream",
     "text": [
      "Testing: 100%|███████████████████████████████████████████████████████████████████████| 95/95 [00:01<00:00, 93.84batch/s]\n"
     ]
    },
    {
     "name": "stdout",
     "output_type": "stream",
     "text": [
      "Test loss: 0.0012476926580635144\n",
      "epoch time: 49.5993 seconds\n",
      "\n",
      "Starting epoch 35\n"
     ]
    },
    {
     "name": "stderr",
     "output_type": "stream",
     "text": [
      "Epoch 35/500: 100%|█████████████████████████████| 909/909 [00:48<00:00, 18.70batch/s, batch loss=0.00104, mean epoch loss=0.00109]\n"
     ]
    },
    {
     "name": "stdout",
     "output_type": "stream",
     "text": [
      "Training loss: 0.0010938525160876917\n"
     ]
    },
    {
     "name": "stderr",
     "output_type": "stream",
     "text": [
      "Testing: 100%|███████████████████████████████████████████████████████████████████████| 95/95 [00:00<00:00, 95.83batch/s]\n"
     ]
    },
    {
     "name": "stdout",
     "output_type": "stream",
     "text": [
      "Test loss: 0.0011906434803294313\n",
      "epoch time: 49.6085 seconds\n",
      "\n",
      "Starting epoch 36\n"
     ]
    },
    {
     "name": "stderr",
     "output_type": "stream",
     "text": [
      "Epoch 36/500: 100%|█████████████████████████████| 909/909 [00:48<00:00, 18.68batch/s, batch loss=0.00181, mean epoch loss=0.00109]\n"
     ]
    },
    {
     "name": "stdout",
     "output_type": "stream",
     "text": [
      "Training loss: 0.0010875414969248192\n"
     ]
    },
    {
     "name": "stderr",
     "output_type": "stream",
     "text": [
      "Testing: 100%|███████████████████████████████████████████████████████████████████████| 95/95 [00:00<00:00, 96.18batch/s]\n"
     ]
    },
    {
     "name": "stdout",
     "output_type": "stream",
     "text": [
      "Test loss: 0.0011379654739836328\n",
      "epoch time: 49.6413 seconds\n",
      "\n",
      "Starting epoch 37\n"
     ]
    },
    {
     "name": "stderr",
     "output_type": "stream",
     "text": [
      "Epoch 37/500: 100%|████████████████████████████| 909/909 [00:48<00:00, 18.66batch/s, batch loss=0.000597, mean epoch loss=0.00108]\n"
     ]
    },
    {
     "name": "stdout",
     "output_type": "stream",
     "text": [
      "Training loss: 0.0010849887303495986\n"
     ]
    },
    {
     "name": "stderr",
     "output_type": "stream",
     "text": [
      "Testing: 100%|███████████████████████████████████████████████████████████████████████| 95/95 [00:00<00:00, 97.88batch/s]\n"
     ]
    },
    {
     "name": "stdout",
     "output_type": "stream",
     "text": [
      "Test loss: 0.001111936513150699\n",
      "epoch time: 49.6758 seconds\n",
      "\n",
      "Starting epoch 38\n"
     ]
    },
    {
     "name": "stderr",
     "output_type": "stream",
     "text": [
      "Epoch 38/500: 100%|█████████████████████████████| 909/909 [00:48<00:00, 18.66batch/s, batch loss=0.00105, mean epoch loss=0.00107]\n"
     ]
    },
    {
     "name": "stdout",
     "output_type": "stream",
     "text": [
      "Training loss: 0.0010698496966256618\n"
     ]
    },
    {
     "name": "stderr",
     "output_type": "stream",
     "text": [
      "Testing: 100%|███████████████████████████████████████████████████████████████████████| 95/95 [00:00<00:00, 96.18batch/s]\n"
     ]
    },
    {
     "name": "stdout",
     "output_type": "stream",
     "text": [
      "Test loss: 0.0010955699033250933\n",
      "epoch time: 49.7570 seconds\n",
      "\n",
      "Starting epoch 39\n"
     ]
    },
    {
     "name": "stderr",
     "output_type": "stream",
     "text": [
      "Epoch 39/500: 100%|█████████████████████████████| 909/909 [00:48<00:00, 18.65batch/s, batch loss=0.00235, mean epoch loss=0.00107]\n"
     ]
    },
    {
     "name": "stdout",
     "output_type": "stream",
     "text": [
      "Training loss: 0.001072241143742333\n"
     ]
    },
    {
     "name": "stderr",
     "output_type": "stream",
     "text": [
      "Testing: 100%|███████████████████████████████████████████████████████████████████████| 95/95 [00:00<00:00, 95.68batch/s]\n"
     ]
    },
    {
     "name": "stdout",
     "output_type": "stream",
     "text": [
      "Test loss: 0.0011061155130032841\n",
      "epoch time: 49.7317 seconds\n",
      "\n",
      "Starting epoch 40\n"
     ]
    },
    {
     "name": "stderr",
     "output_type": "stream",
     "text": [
      "Epoch 40/500: 100%|█████████████████████████████| 909/909 [00:48<00:00, 18.68batch/s, batch loss=0.00023, mean epoch loss=0.00108]\n"
     ]
    },
    {
     "name": "stdout",
     "output_type": "stream",
     "text": [
      "Training loss: 0.0010781289605526008\n"
     ]
    },
    {
     "name": "stderr",
     "output_type": "stream",
     "text": [
      "Testing: 100%|███████████████████████████████████████████████████████████████████████| 95/95 [00:00<00:00, 96.15batch/s]\n"
     ]
    },
    {
     "name": "stdout",
     "output_type": "stream",
     "text": [
      "Test loss: 0.0011755446125263054\n",
      "epoch time: 49.6596 seconds\n",
      "\n",
      "Starting epoch 41\n"
     ]
    },
    {
     "name": "stderr",
     "output_type": "stream",
     "text": [
      "Epoch 41/500: 100%|████████████████████████████| 909/909 [00:48<00:00, 18.69batch/s, batch loss=0.000795, mean epoch loss=0.00106]\n"
     ]
    },
    {
     "name": "stdout",
     "output_type": "stream",
     "text": [
      "Training loss: 0.0010631394219275858\n"
     ]
    },
    {
     "name": "stderr",
     "output_type": "stream",
     "text": [
      "Testing: 100%|███████████████████████████████████████████████████████████████████████| 95/95 [00:00<00:00, 95.88batch/s]\n"
     ]
    },
    {
     "name": "stdout",
     "output_type": "stream",
     "text": [
      "Test loss: 0.0010711022266676944\n",
      "epoch time: 49.6815 seconds\n",
      "\n",
      "Starting epoch 42\n"
     ]
    },
    {
     "name": "stderr",
     "output_type": "stream",
     "text": [
      "Epoch 42/500: 100%|████████████████████████████| 909/909 [00:48<00:00, 18.68batch/s, batch loss=0.000502, mean epoch loss=0.00105]\n"
     ]
    },
    {
     "name": "stdout",
     "output_type": "stream",
     "text": [
      "Training loss: 0.0010524941211453884\n"
     ]
    },
    {
     "name": "stderr",
     "output_type": "stream",
     "text": [
      "Testing: 100%|███████████████████████████████████████████████████████████████████████| 95/95 [00:00<00:00, 95.74batch/s]\n"
     ]
    },
    {
     "name": "stdout",
     "output_type": "stream",
     "text": [
      "Test loss: 0.0011043871417457825\n",
      "epoch time: 49.6458 seconds\n",
      "\n",
      "Starting epoch 43\n"
     ]
    },
    {
     "name": "stderr",
     "output_type": "stream",
     "text": [
      "Epoch 43/500: 100%|█████████████████████████████| 909/909 [00:48<00:00, 18.73batch/s, batch loss=3.34e-5, mean epoch loss=0.00106]\n"
     ]
    },
    {
     "name": "stdout",
     "output_type": "stream",
     "text": [
      "Training loss: 0.0010564927124565662\n"
     ]
    },
    {
     "name": "stderr",
     "output_type": "stream",
     "text": [
      "Testing: 100%|███████████████████████████████████████████████████████████████████████| 95/95 [00:01<00:00, 92.88batch/s]\n"
     ]
    },
    {
     "name": "stdout",
     "output_type": "stream",
     "text": [
      "Test loss: 0.001146076949264266\n",
      "epoch time: 49.5670 seconds\n",
      "\n",
      "Starting epoch 44\n"
     ]
    },
    {
     "name": "stderr",
     "output_type": "stream",
     "text": [
      "Epoch 44/500: 100%|████████████████████████████| 909/909 [00:48<00:00, 18.70batch/s, batch loss=0.000929, mean epoch loss=0.00106]\n"
     ]
    },
    {
     "name": "stdout",
     "output_type": "stream",
     "text": [
      "Training loss: 0.0010600401988700985\n"
     ]
    },
    {
     "name": "stderr",
     "output_type": "stream",
     "text": [
      "Testing: 100%|███████████████████████████████████████████████████████████████████████| 95/95 [00:00<00:00, 96.02batch/s]\n"
     ]
    },
    {
     "name": "stdout",
     "output_type": "stream",
     "text": [
      "Test loss: 0.0010772041403565948\n",
      "epoch time: 49.5932 seconds\n",
      "\n",
      "Starting epoch 45\n"
     ]
    },
    {
     "name": "stderr",
     "output_type": "stream",
     "text": [
      "Epoch 45/500:  77%|██████████████████████▎      | 700/909 [00:37<00:11, 18.58batch/s, batch loss=0.00052, mean epoch loss=0.00107]"
     ]
    }
   ],
   "source": [
    "num_trials = 20\n",
    "epochs=500\n",
    "exp_dict = {}\n",
    "\n",
    "for trial in range(num_trials):\n",
    "    \n",
    "    print('---------------------------------------------------------')\n",
    "    print(f'starting trial {trial}')\n",
    "    lr = sample_lognormal(center=3e-4, sigma=1.0)\n",
    "    weight_decay = sample_lognormal(center=1e-4, sigma=1.0)\n",
    "    print(f'lr: {lr}, weight decay: {weight_decay}')\n",
    "    min_test_loss_epoch, min_test_loss = train_model(input_channels, return_channels, epochs=epochs, lr=lr, weight_decay=weight_decay)\n",
    "    print(f'lr: {lr}, weight decay: {weight_decay}, final epoch: {min_test_loss_epoch}, final test loss: {min_test_loss}')\n",
    "    exp_dict[trial] = [lr, weight_decay, min_test_loss_epoch, min_test_loss]\n",
    "    # save experiments \n",
    "    with open(f'../../../loss/ResDepth_lr_tuning_loss_final.pkl', 'wb') as f:\n",
    "        pickle.dump(exp_dict, f)"
   ]
  }
 ],
 "metadata": {
  "kernelspec": {
   "display_name": "Python [conda env:deep-snow] *",
   "language": "python",
   "name": "conda-env-deep-snow-py"
  },
  "language_info": {
   "codemirror_mode": {
    "name": "ipython",
    "version": 3
   },
   "file_extension": ".py",
   "mimetype": "text/x-python",
   "name": "python",
   "nbconvert_exporter": "python",
   "pygments_lexer": "ipython3",
   "version": "3.12.10"
  }
 },
 "nbformat": 4,
 "nbformat_minor": 5
}
